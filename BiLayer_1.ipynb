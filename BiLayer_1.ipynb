{
 "cells": [
  {
   "cell_type": "code",
   "execution_count": null,
   "metadata": {},
   "outputs": [],
   "source": [
    "pip install django"
   ]
  },
  {
   "cell_type": "code",
   "execution_count": null,
   "metadata": {},
   "outputs": [],
   "source": []
  },
  {
   "cell_type": "code",
   "execution_count": null,
   "metadata": {},
   "outputs": [],
   "source": [
    "pip install mendeleev"
   ]
  },
  {
   "cell_type": "code",
   "execution_count": 1,
   "metadata": {},
   "outputs": [],
   "source": [
    "import pandas as pd\n",
    "from mendeleev import element\n",
    "import numpy as np\n",
    "import pickle as pickle\n",
    "import matplotlib.pyplot as plt\n",
    "import pymatgen as mg\n",
    "from pymatgen.ext.matproj import MPRester\n",
    "import seaborn as sns\n",
    "import matplotlib.pyplot as plt\n"
   ]
  },
  {
   "cell_type": "code",
   "execution_count": 3,
   "metadata": {},
   "outputs": [],
   "source": [
    "# from a pandas dataframe from a pkl file.\n",
    "\n",
    "with open(\"C:\\\\RPI\\\\MI2DMaterials\\\\BiLayer\\\\code\\\\file\\\\AAX_bilayer_data_dump.pkl\", \"rb\") as f:\n",
    "    data = pickle.load(f)\n",
    "    \n",
    "df  = pd.DataFrame(data)\n"
   ]
  },
  {
   "cell_type": "code",
   "execution_count": 5,
   "metadata": {},
   "outputs": [
    {
     "name": "stdout",
     "output_type": "stream",
     "text": [
      "Total Jobs\n",
      "345\n",
      "['FAILED' 'JOB_FINISHED' 'RESTART_READY' 'RUN_TIMEOUT' 'PREPROCESSED']\n"
     ]
    }
   ],
   "source": [
    "# make another dataframe with only the jobs that are finished\n",
    "count_row = df.shape[0]  # Gives number of rows\n",
    "count_col = df.shape[1]  # Gives number of columns\n",
    "print('Total Jobs')\n",
    "print(count_row)\n",
    "print(df.state.unique())\n",
    "\n",
    "df = df[df['state']=='JOB_FINISHED'].reset_index()"
   ]
  },
  {
   "cell_type": "code",
   "execution_count": null,
   "metadata": {},
   "outputs": [],
   "source": [
    "# Calculate the magnetic moment first , else the magnetization column was changing from list to string \n",
    "# df = df[df['state']=='JOB_FINISHED'].reset_index() is a very helful thing "
   ]
  },
  {
   "cell_type": "code",
   "execution_count": 6,
   "metadata": {},
   "outputs": [],
   "source": [
    "# vaishnavi's code modified to get total magnetic moment \n",
    "# if name == 'initial' or 'spin' or  'afm': only x is present , take the most relaxed one [-1] = magmom\n",
    "    # [-1][2] will give only the \" s', 'p', 'd', 'tot' \" data without header = magmom_x\n",
    "    # magmom_x_sites_tot is a list containing  all the total values  \n",
    "    # magmom_x_unitcell is the sum of all these total values \n",
    "# if name == ''spin_so' or 'afm_so' : has spin over coupling :has magnetic moment in all x, y and z direction \n",
    "    # repeat same as above for all x, y and z \n",
    "\n",
    "\n",
    "def get_magnetic_moment(df):\n",
    "    \"\"\" parse magnetization value from magnetization raw data \"\"\"\n",
    "    \n",
    "#     df['magmom_sites_tot'] = np.nan\n",
    "    df['magmom_unitcell_x'] = np.nan\n",
    "    df['magmom_unitcell_y'] = np.nan\n",
    "    df['magmom_unitcell_z'] = np.nan\n",
    "    df['magmom_total'] = np.nan\n",
    "    \n",
    "    for i in range(len(df)):\n",
    "        magmom_sites_tot = np.nan\n",
    "        magmom_unitcell = np.nan\n",
    "        #print(type(df['data'][i]))\n",
    "        if ('magnetization' in df['data'][i]):\n",
    "            raw_magmom = df['data'][i]['magnetization']\n",
    "\n",
    "            if df.name[i] == 'initial' or df.name[i] == 'spin' or df.name[i] == 'afm':\n",
    "                magmom = raw_magmom[-1]\n",
    "                magmom_x = magmom[2]\n",
    "\n",
    "                if isinstance(magmom_x[0], list):\n",
    "                    magmom_x_sites_tot = [x[-1] for x in magmom_x]\n",
    "                else:\n",
    "                    magmom_x_sites_tot = [x[-1] for x in magmom]\n",
    "                    \n",
    "                magmom_x_unitcell = np.sum(magmom_x_sites_tot)\n",
    "                magmom_sites_tot = magmom_x_sites_tot\n",
    "                \n",
    "                df['magmom_unitcell_x'][i] = abs(magmom_x_unitcell)\n",
    "                df['magmom_total'][i] = abs(magmom_x_unitcell)\n",
    "                \n",
    "#                 df['magmom_sites_tot'][i] = magmom_sites_tot\n",
    "\n",
    "                \n",
    "            elif df.name[i] == 'spin_so' or df.name[i] == 'afm_so':\n",
    "                magmom = raw_magmom[-3:]\n",
    "                magmom_x = magmom[0][2]\n",
    "                magmom_y = magmom[1][2]\n",
    "                magmom_z = magmom[2][2]\n",
    "\n",
    "                if isinstance(magmom_x[0], list):\n",
    "                    magmom_x_sites_tot = [x[-1] for x in magmom_x]\n",
    "                    magmom_x_unitcell = np.sum(magmom_x_sites_tot)\n",
    "                else:\n",
    "                    magmom_x_sites_tot = magmom_x\n",
    "                    magmom_x_unitcell = magmom_x\n",
    "\n",
    "                if isinstance(magmom_y[0], list):\n",
    "                    magmom_y_sites_tot = [x[-1] for x in magmom_y]\n",
    "                    magmom_y_unitcell = np.sum(magmom_y_sites_tot)\n",
    "                else:\n",
    "                    magmom_y_sites_tot = magmom_y\n",
    "                    magmom_y_unitcell = magmom_y\n",
    "\n",
    "                if isinstance(magmom_z[0], list):\n",
    "                    magmom_z_sites_tot = [x[-1] for x in magmom_z]\n",
    "                    magmom_z_unitcell = np.sum(magmom_z_sites_tot)\n",
    "                else:\n",
    "                    magmom_z_sites_tot = magmom_z\n",
    "                    magmom_z_unitcell = magmom_z\n",
    "\n",
    "                magmom_sites_tot = np.asarray([magmom_x_sites_tot, magmom_y_sites_tot, magmom_z_sites_tot], object)\n",
    "                \n",
    "                total_moment_sum = np.square(magmom_x_unitcell) + np.square(magmom_y_unitcell) + np.square(magmom_z_unitcell) \n",
    "                total_moment_temp = np. sqrt(total_moment_sum)\n",
    "                df['magmom_unitcell_x'][i] = abs(magmom_x_unitcell)\n",
    "                df['magmom_unitcell_y'][i] = abs(magmom_y_unitcell)\n",
    "                df['magmom_unitcell_z'][i] = abs(magmom_z_unitcell)\n",
    "                df['magmom_total'][i] = abs(total_moment_temp)\n",
    "#                 df['magmom_sites_tot'][i] = magmom_sites_tot\n",
    "\n",
    "    return df         \n"
   ]
  },
  {
   "cell_type": "code",
   "execution_count": 7,
   "metadata": {},
   "outputs": [
    {
     "name": "stderr",
     "output_type": "stream",
     "text": [
      "<ipython-input-6-bba31bb9c5bb>:38: SettingWithCopyWarning: \n",
      "A value is trying to be set on a copy of a slice from a DataFrame\n",
      "\n",
      "See the caveats in the documentation: https://pandas.pydata.org/pandas-docs/stable/user_guide/indexing.html#returning-a-view-versus-a-copy\n",
      "  df['magmom_unitcell_x'][i] = abs(magmom_x_unitcell)\n",
      "<ipython-input-6-bba31bb9c5bb>:39: SettingWithCopyWarning: \n",
      "A value is trying to be set on a copy of a slice from a DataFrame\n",
      "\n",
      "See the caveats in the documentation: https://pandas.pydata.org/pandas-docs/stable/user_guide/indexing.html#returning-a-view-versus-a-copy\n",
      "  df['magmom_total'][i] = abs(magmom_x_unitcell)\n",
      "<ipython-input-6-bba31bb9c5bb>:75: SettingWithCopyWarning: \n",
      "A value is trying to be set on a copy of a slice from a DataFrame\n",
      "\n",
      "See the caveats in the documentation: https://pandas.pydata.org/pandas-docs/stable/user_guide/indexing.html#returning-a-view-versus-a-copy\n",
      "  df['magmom_unitcell_x'][i] = abs(magmom_x_unitcell)\n",
      "<ipython-input-6-bba31bb9c5bb>:76: SettingWithCopyWarning: \n",
      "A value is trying to be set on a copy of a slice from a DataFrame\n",
      "\n",
      "See the caveats in the documentation: https://pandas.pydata.org/pandas-docs/stable/user_guide/indexing.html#returning-a-view-versus-a-copy\n",
      "  df['magmom_unitcell_y'][i] = abs(magmom_y_unitcell)\n",
      "<ipython-input-6-bba31bb9c5bb>:77: SettingWithCopyWarning: \n",
      "A value is trying to be set on a copy of a slice from a DataFrame\n",
      "\n",
      "See the caveats in the documentation: https://pandas.pydata.org/pandas-docs/stable/user_guide/indexing.html#returning-a-view-versus-a-copy\n",
      "  df['magmom_unitcell_z'][i] = abs(magmom_z_unitcell)\n",
      "<ipython-input-6-bba31bb9c5bb>:78: SettingWithCopyWarning: \n",
      "A value is trying to be set on a copy of a slice from a DataFrame\n",
      "\n",
      "See the caveats in the documentation: https://pandas.pydata.org/pandas-docs/stable/user_guide/indexing.html#returning-a-view-versus-a-copy\n",
      "  df['magmom_total'][i] = abs(total_moment_temp)\n"
     ]
    }
   ],
   "source": [
    "# add 4 columns with magnetic values x, y , z and total \n",
    "df = get_magnetic_moment(df)"
   ]
  },
  {
   "cell_type": "code",
   "execution_count": 9,
   "metadata": {},
   "outputs": [],
   "source": [
    "df_finished = df[df['state']=='JOB_FINISHED']"
   ]
  },
  {
   "cell_type": "code",
   "execution_count": 11,
   "metadata": {},
   "outputs": [
    {
     "name": "stdout",
     "output_type": "stream",
     "text": [
      "176\n",
      "57\n",
      "['Ir4Cl12' 'Zr2Ti2I12' 'Ti4Br12' 'Ni2Ir2Cl12' 'Mo2Ir2Br12' 'Zr2Ti2Br12'\n",
      " 'Cr2Ir2Br12' 'Ti2Ni2Br12' 'Cd2Ir2I12' 'Mo2Ir2Cl12' 'Ti2Ru2Cl12'\n",
      " 'Ti2Ni2Cl12' 'Cd2Ir2Br12' 'Ir2Ru2I12' 'Ir2Pd2Cl12' 'Ti4I12' 'Ir2Ru2Br12'\n",
      " 'Ti2Fe2I12' 'Fe2Ir2I12' 'Ti2Au2I12' 'Ir2Au2Br12' 'Ti2Zn2Cl12' 'Ti2Ni2I12'\n",
      " 'Ti2Ir2I12' 'Ir4Br12' 'Ti2Mo2I12' 'Cr2Ir2I12' 'Ti2Ru2Br12' 'Ti2Cd2Cl12'\n",
      " 'Ti2Cd2I12' 'Mo2Ir2I12' 'Ti2Pd2I12' 'Ti2Au2Cl12' 'Fe2Ir2Cl12' 'Ir4I12'\n",
      " 'Zn2Ir2Cl12' 'Zr2Ir2Cl12' 'Ti2Cd2Br12' 'Ni2Ir2Br12' 'Ti2Ru2I12'\n",
      " 'Ni2Ir2I12' 'Ti2Cr2Br12' 'Fe2Ir2Br12' 'Zr2Ir2Br12' 'Ti2Pd2Cl12'\n",
      " 'Ti2Cr2Cl12' 'Ti2Cr2I12' 'Zr2Ir2I12' 'Ti4Cl12' 'Ti2Zn2I12' 'Ti2Pd2Br12'\n",
      " 'Ir2Au2Cl12' 'Zn2Ir2I12' 'Ti2Au2Br12' 'Ti2Zn2Br12' 'Ir2Au2I12'\n",
      " 'Cd2Ir2Cl12']\n",
      "57\n"
     ]
    }
   ],
   "source": [
    "# check for how many structures the calculation is finished\n",
    "# add two rows with the stacking details and formula\n",
    "print(len(df_finished))\n",
    "print(len(df_finished.workflow.unique()))\n",
    "df_finished[['Formula','Stacking']] = df_finished.workflow.str.split(\",\",expand=True)\n",
    "print(df_finished.Formula.unique())\n",
    "print(len(df_finished.workflow.unique()))\n",
    "# 57 unique formula "
   ]
  },
  {
   "cell_type": "code",
   "execution_count": null,
   "metadata": {},
   "outputs": [],
   "source": []
  },
  {
   "cell_type": "code",
   "execution_count": null,
   "metadata": {},
   "outputs": [],
   "source": [
    "df.to_csv('AAX_RAW.csv')"
   ]
  },
  {
   "cell_type": "code",
   "execution_count": 17,
   "metadata": {},
   "outputs": [
    {
     "name": "stdout",
     "output_type": "stream",
     "text": [
      "<class 'collections.Counter'>\n",
      "[('Ir4Cl12',)]5\n",
      "\n",
      " No. of jobs for each structure\n",
      "{'Ir4Cl12': '5', 'Zr2Ti2I12': '2', 'Ti4Br12': '2', 'Ni2Ir2Cl12': '3', 'Mo2Ir2Br12': '4', 'Zr2Ti2Br12': '2', 'Cr2Ir2Br12': '3', 'Ti2Ni2Br12': '4', 'Cd2Ir2I12': '5', 'Mo2Ir2Cl12': '4', 'Ti2Ru2Cl12': '5', 'Ti2Ni2Cl12': '3', 'Cd2Ir2Br12': '5', 'Ir2Ru2I12': '4', 'Ir2Pd2Cl12': '5', 'Ti4I12': '2', 'Ir2Ru2Br12': '4', 'Ti2Fe2I12': '2', 'Fe2Ir2I12': '2', 'Ti2Au2I12': '2', 'Ir2Au2Br12': '2', 'Ti2Zn2Cl12': '5', 'Ti2Ni2I12': '2', 'Ti2Ir2I12': '1', 'Ir4Br12': '4', 'Ti2Mo2I12': '1', 'Cr2Ir2I12': '3', 'Ti2Ru2Br12': '3', 'Ti2Cd2Cl12': '5', 'Ti2Cd2I12': '4', 'Mo2Ir2I12': '3', 'Ti2Pd2I12': '2', 'Ti2Au2Cl12': '3', 'Fe2Ir2Cl12': '4', 'Ir4I12': '3', 'Zn2Ir2Cl12': '3', 'Zr2Ir2Cl12': '3', 'Ti2Cd2Br12': '5', 'Ni2Ir2Br12': '2', 'Ti2Ru2I12': '2', 'Ni2Ir2I12': '3', 'Ti2Cr2Br12': '1', 'Fe2Ir2Br12': '2', 'Zr2Ir2Br12': '4', 'Ti2Pd2Cl12': '4', 'Ti2Cr2Cl12': '2', 'Ti2Cr2I12': '1', 'Zr2Ir2I12': '3', 'Ti4Cl12': '4', 'Ti2Zn2I12': '3', 'Ti2Pd2Br12': '3', 'Ir2Au2Cl12': '4', 'Zn2Ir2I12': '2', 'Ti2Au2Br12': '3', 'Ti2Zn2Br12': '2', 'Ir2Au2I12': '3', 'Cd2Ir2Cl12': '4'}\n",
      "\n",
      " No. of unique structure\n",
      "57\n",
      "\n",
      " Total count of finished jobs\n",
      "176\n"
     ]
    }
   ],
   "source": [
    "# get an idea of how many jobs finihsed for each structure\n",
    "from collections import Counter\n",
    "#c = Counter(list(zip(df_finished.Stacking, df_finished.Formula)))\n",
    "c = Counter(list(zip(df_finished.Formula)))\n",
    "#print(c)\n",
    "print(type(c))\n",
    "dict_count = dict(c)\n",
    "#print(type(str(dict_count.keys)))\n",
    "\n",
    "dict_count_temp = []\n",
    "for key, val in dict_count.items():\n",
    "    dict_count_temp.append(str([key])+ str(val))\n",
    "\n",
    "#print(type(str(dict_count_temp)))\n",
    "print(dict_count_temp[0])\n",
    "dict_with_job_count = {}\n",
    "\n",
    "count = 0 \n",
    "\n",
    "for temp in dict_count_temp:\n",
    "    #print(temp)\n",
    "    val = temp[-1:]\n",
    "    count = count + int(val)\n",
    "    key_temp = temp[3: temp.rfind(',')]\n",
    "    key = key_temp.replace(\"'\", \"\")\n",
    "    #print(val)\n",
    "    dict_with_job_count.update({key: val})\n",
    "print(\"\\n No. of jobs for each structure\")\n",
    "print(dict_with_job_count)\n",
    "\n",
    "print(\"\\n No. of unique structure\")\n",
    "\n",
    "print(len(dict_with_job_count))\n",
    "\n",
    "print(\"\\n Total count of finished jobs\")\n",
    "\n",
    "print(count)"
   ]
  },
  {
   "cell_type": "code",
   "execution_count": 18,
   "metadata": {},
   "outputs": [
    {
     "data": {
      "text/plain": [
       "Index(['index', '_state', 'job_id', 'workflow', 'name', 'description', 'lock',\n",
       "       'tick', 'parents', 'input_files', 'stage_in_url', 'stage_out_files',\n",
       "       'stage_out_url', 'wall_time_minutes', 'num_nodes',\n",
       "       'coschedule_num_nodes', 'ranks_per_node', 'cpu_affinity',\n",
       "       'threads_per_rank', 'threads_per_core', 'node_packing_count',\n",
       "       'environ_vars', 'application', 'args', 'user_workdir',\n",
       "       'wait_for_parents', 'post_error_handler', 'post_timeout_handler',\n",
       "       'auto_timeout_retry', 'state', 'state_history', 'queued_launch_id',\n",
       "       'data', 'magmom_unitcell_x', 'magmom_unitcell_y', 'magmom_unitcell_z',\n",
       "       'magmom_total'],\n",
       "      dtype='object')"
      ]
     },
     "execution_count": 18,
     "metadata": {},
     "output_type": "execute_result"
    }
   ],
   "source": [
    "df.columns"
   ]
  },
  {
   "cell_type": "code",
   "execution_count": 12,
   "metadata": {},
   "outputs": [],
   "source": [
    "# data contains a dictionary of DFT results \n",
    "# check the contents of this dictionary \n",
    "df_filtered_finished_data = df_finished[['Formula', 'Stacking', 'name', 'data','magmom_unitcell_x', 'magmom_unitcell_y', 'magmom_unitcell_z',\n",
    "       'magmom_total']].copy()\n",
    "#df_filtered_finished_data\n",
    "#print(type(df_filtered_finished_data.iloc[0]['data']))\n",
    "#print(\"\\n Types of DFT data\")\n",
    "#print(df_filtered_finished_data.iloc[0]['data'].keys())\n",
    "#print(\"\\n DFT data : LOOP+\")\n",
    "#print(df_filtered_finished_data.iloc[0]['data'].get('LOOP+'))\n",
    "#print(\"\\n DFT data : NIONS\")\n",
    "#print(df_filtered_finished_data.iloc[0]['data'].get('NIONS'))\n",
    "#print(\"\\n DFT data : NKDIM\")\n",
    "#print(df_filtered_finished_data.iloc[0]['data'].get('NKDIM'))\n",
    "#print(\"\\n DFT data : NBANDS\")\n",
    "#print(df_filtered_finished_data.iloc[0]['data'].get('NBANDS'))\n",
    "#print(\"\\n DFT data : energy\")\n",
    "#print(df_filtered_finished_data.iloc[0]['data'].get('energy'))\n",
    "#print(\"\\n DFT data : stress\")\n",
    "#print(df_filtered_finished_data.iloc[0]['data'].get('stress'))\n",
    "#print(\"\\n DFT data : retry_count\")\n",
    "#print(df_filtered_finished_data.iloc[0]['data'].get('retry_count'))\n",
    "#print(\"\\n DFT data : lattice_vecs\")\n",
    "#print(df_filtered_finished_data.iloc[0]['data'].get('lattice_vecs'))\n",
    "#print(\"\\n DFT data : total charge\")\n",
    "#print(df_filtered_finished_data.iloc[0]['data'].get('total charge'))\n",
    "#print(\"\\n DFT data : magnetization\")\n",
    "#print(df_filtered_finished_data.iloc[0]['data'].get('magnetization'))\n",
    "#print(\"\\n DFT data : position_force\")\n",
    "#print(df_filtered_finished_data.iloc[0]['data'].get('position_force'))\n",
    "#print(\"\\n DFT data : volume of cell\")\n",
    "#print(df_filtered_finished_data.iloc[0]['data'].get('volume of cell'))"
   ]
  },
  {
   "cell_type": "code",
   "execution_count": 20,
   "metadata": {},
   "outputs": [
    {
     "name": "stdout",
     "output_type": "stream",
     "text": [
      "176\n"
     ]
    }
   ],
   "source": [
    "count_row = df_filtered_finished_data.shape[0]  # Gives number of rows\n",
    "count_col = df_filtered_finished_data.shape[1]  # Gives number of columns\n",
    "print(count_row)"
   ]
  },
  {
   "cell_type": "code",
   "execution_count": 21,
   "metadata": {},
   "outputs": [],
   "source": [
    "\n",
    "def parse_data_to_form_columns(df):\n",
    "    \n",
    "    #input: dataframe containing the energy data\n",
    "    \n",
    "    #output: input dataframe with added columns from the 'data' column i.e. energy, LOOP+, etc.\n",
    "    \n",
    "    rownum = 0\n",
    "    rownum = len(df)\n",
    "    print(rownum) # number of rows in the dataframe\n",
    "    \n",
    "    loop= []\n",
    "    nions= []\n",
    "    nkdim= []\n",
    "    nbannds= []\n",
    "    energy= []\n",
    "    stress= []\n",
    "    retry= []\n",
    "    lattice_vecs= []\n",
    "    charge= []\n",
    "    magnetization= []\n",
    "    position_force= []\n",
    "    vol= []\n",
    "    \n",
    "    \n",
    "    \n",
    "\n",
    "    for i in range(rownum) :\n",
    "        loop.append(df.iloc[i]['data'].get('LOOP+'))\n",
    "        nions.append(df.iloc[i]['data'].get('NIONS'))\n",
    "        nkdim.append(df.iloc[i]['data'].get('NKDIM'))\n",
    "        nbannds.append(df.iloc[i]['data'].get('NBANDS'))\n",
    "        energy.append(df.iloc[i]['data'].get('energy'))\n",
    "        stress.append(df.iloc[i]['data'].get('stress'))\n",
    "        retry.append(df.iloc[i]['data'].get('retry_count'))\n",
    "        lattice_vecs.append(df.iloc[i]['data'].get('lattice_vecs'))\n",
    "        charge.append(df.iloc[i]['data'].get('total charge'))\n",
    "        magnetization.append(df.iloc[i]['data'].get('magnetization'))\n",
    "        position_force.append(df.iloc[i]['data'].get('position_force'))\n",
    "        vol.append(df.iloc[i]['data'].get('volume of cell'))\n",
    "   \n",
    "    df['LOOP+'] = loop\n",
    "    df['NIONS'] = nions\n",
    "    df['NKDIM'] = nkdim\n",
    "    df['NBANDS'] = nbannds\n",
    "    df['energy'] = energy\n",
    "    df['stress'] = stress\n",
    "    df['retry_count'] = retry\n",
    "    df['lattice_vecs'] = lattice_vecs\n",
    "    df['total charge'] = charge\n",
    "    df['magnetization'] = magnetization\n",
    "    df['position_force'] = position_force\n",
    "    df['volume of cell'] = vol\n",
    "    return df"
   ]
  },
  {
   "cell_type": "code",
   "execution_count": 22,
   "metadata": {},
   "outputs": [
    {
     "name": "stdout",
     "output_type": "stream",
     "text": [
      "176\n"
     ]
    },
    {
     "data": {
      "text/plain": [
       "Index(['Formula', 'Stacking', 'name', 'data', 'magmom_unitcell_x',\n",
       "       'magmom_unitcell_y', 'magmom_unitcell_z', 'magmom_total', 'LOOP+',\n",
       "       'NIONS', 'NKDIM', 'NBANDS', 'energy', 'stress', 'retry_count',\n",
       "       'lattice_vecs', 'total charge', 'magnetization', 'position_force',\n",
       "       'volume of cell'],\n",
       "      dtype='object')"
      ]
     },
     "execution_count": 22,
     "metadata": {},
     "output_type": "execute_result"
    }
   ],
   "source": [
    "parse_data_to_form_columns(df_filtered_finished_data)\n",
    "df_filtered_finished_data.columns\n",
    "# Index(['Formula', 'Stacking', 'name', 'data'], dtype='object')\n"
   ]
  },
  {
   "cell_type": "code",
   "execution_count": 23,
   "metadata": {},
   "outputs": [],
   "source": [
    "# Take the most relaxed energy , if the energy is a list take the last one , if float keep it\n",
    "def get_energy_data(df):\n",
    "    \"\"\"Get the dataframe as an input and get the energy data present in the 'data' \n",
    "    column of the dataframe to retrieve the most relaxed energy for that material.\n",
    "    \"\"\"\n",
    "    rownum = len(df)\n",
    "    relaxed_Energy = []\n",
    "    for i in range(rownum) :\n",
    "        if isinstance(df.iloc[i]['energy'],list):\n",
    "            energy_temp = []\n",
    "            energy_temp = df.iloc[i]['energy']\n",
    "            relaxed_Energy.append(energy_temp[-1])\n",
    "        else:\n",
    "            relaxed_Energy.append(df.iloc[i]['energy'])\n",
    "            \n",
    "    df['relaxed_Energy'] = relaxed_Energy \n",
    "    return df"
   ]
  },
  {
   "cell_type": "code",
   "execution_count": 24,
   "metadata": {},
   "outputs": [
    {
     "name": "stdout",
     "output_type": "stream",
     "text": [
      "176\n"
     ]
    }
   ],
   "source": [
    "df_filtered_finished_data = get_energy_data(df_filtered_finished_data)\n",
    "count_row = df_filtered_finished_data.shape[0]  # Gives number of rows\n",
    "count_col = df_filtered_finished_data.shape[1]  # Gives number of columns\n",
    "print(count_row)"
   ]
  },
  {
   "cell_type": "code",
   "execution_count": 25,
   "metadata": {},
   "outputs": [],
   "source": [
    "mprest = MPRester('PzoyfeSvTTxngtLA')"
   ]
  },
  {
   "cell_type": "code",
   "execution_count": 26,
   "metadata": {},
   "outputs": [],
   "source": [
    "def get_sum_individual_energies(df):\n",
    "\n",
    "    # Add coulms with 'sum_individual_energy' , 'elements_present', and  composition. \n",
    "    # sum_individual_energy = sum of energy per atom (min) from materials projects for each formula\n",
    "    # elements_present is a list of elements\n",
    "    # composition is a dictionary with keys as elements and value as its count.\n",
    "    \n",
    "    rownum = len(df)\n",
    "    sum_individual_energy = []\n",
    "    elements_present = []\n",
    "    composition = []\n",
    "\n",
    "    for i in range(rownum) :\n",
    "        formula = df.iloc[i]['Formula']\n",
    "        arr_of_elements = mg.Composition(formula)\n",
    "        num_of_elements = arr_of_elements.get_el_amt_dict()\n",
    "        \n",
    "        # num_of_elements is a dictionary Ir4Cl12 : {'Ir': 4.0, 'Cl': 12.0})\n",
    "        \n",
    "        elements_present.append(list(num_of_elements.keys()))\n",
    "        composition.append(dict(num_of_elements))\n",
    "        \n",
    "        sum_individual_energies = 0\n",
    "        # Ir -8.83  cl - 7.39\n",
    "        for elem in arr_of_elements:\n",
    "            en = mprest.get_data(elem) # has all values from material projects\n",
    "            en = [x['energy_per_atom'] for x in en] # has multiple energies\n",
    "            #if en:\n",
    "            en = np.min(en)*num_of_elements[str(elem)] # choose the lowest energy and multiply with no.of atoms\n",
    "            #else:\n",
    "                #en = -0.142        \n",
    "            sum_individual_energies = sum_individual_energies + en\n",
    "        \n",
    "        sum_individual_energy.append(sum_individual_energies)\n",
    "    \n",
    "    df['sum_individual_energy'] = sum_individual_energy \n",
    "    df['elements_present'] = elements_present \n",
    "    df['composition'] = composition \n",
    "    print(get_sum_individual_energies)\n",
    "    return df"
   ]
  },
  {
   "cell_type": "code",
   "execution_count": 27,
   "metadata": {},
   "outputs": [
    {
     "name": "stdout",
     "output_type": "stream",
     "text": [
      "<function get_sum_individual_energies at 0x000002953F8D9CA0>\n",
      "176\n"
     ]
    }
   ],
   "source": [
    "df_filtered_finished_data = get_sum_individual_energies(df_filtered_finished_data)\n",
    "count_row = df_filtered_finished_data.shape[0]  # Gives number of rows\n",
    "count_col = df_filtered_finished_data.shape[1]  # Gives number of columns\n",
    "print(count_row)"
   ]
  },
  {
   "cell_type": "code",
   "execution_count": 28,
   "metadata": {},
   "outputs": [],
   "source": [
    "def get_formation_energy(df):\n",
    "    # formation_energy = relaxed_Energy - sum_individual_energy\n",
    "    rownum = len(df)\n",
    "    formation_energy = []\n",
    "\n",
    "    for i in range(rownum) :\n",
    "        formation_energy_val = 0\n",
    "        formation_energy_val_float = 0\n",
    "        relaxed_Energy = df.iloc[i]['relaxed_Energy']\n",
    "        sum_individual_energy = df.iloc[i]['sum_individual_energy']\n",
    "\n",
    "        formation_energy_val = relaxed_Energy - sum_individual_energy\n",
    "        #formation_energy_val_float = formation_energy_val.item()\n",
    "        formation_energy.append(formation_energy_val)       \n",
    "    \n",
    "    df['formation_energy'] = formation_energy\n",
    "    \n",
    "    return df"
   ]
  },
  {
   "cell_type": "code",
   "execution_count": 29,
   "metadata": {},
   "outputs": [
    {
     "name": "stdout",
     "output_type": "stream",
     "text": [
      "176\n"
     ]
    }
   ],
   "source": [
    "df_filtered_finished_data = get_formation_energy(df_filtered_finished_data)\n",
    "count_row = df_filtered_finished_data.shape[0]  # Gives number of rows\n",
    "count_col = df_filtered_finished_data.shape[1]  # Gives number of columns\n",
    "print(count_row)"
   ]
  },
  {
   "cell_type": "code",
   "execution_count": 30,
   "metadata": {},
   "outputs": [
    {
     "name": "stdout",
     "output_type": "stream",
     "text": [
      "count    176.000000\n",
      "mean     -70.034593\n",
      "std       13.708047\n",
      "min     -104.279224\n",
      "25%      -79.833499\n",
      "50%      -68.288990\n",
      "75%      -60.062864\n",
      "max      -43.234708\n",
      "Name: formation_energy, dtype: float64\n"
     ]
    }
   ],
   "source": [
    "from statistics import mean, median\n",
    "\n",
    "formation_energy = df_filtered_finished_data['formation_energy']\n",
    "#formation_energy_np = formation_energy.to_numpy(),linspace()\n",
    "\n",
    "print(df_filtered_finished_data['formation_energy'].describe())\n"
   ]
  },
  {
   "cell_type": "code",
   "execution_count": 31,
   "metadata": {},
   "outputs": [
    {
     "data": {
      "text/plain": [
       "Text(0, 0.5, 'Frequency')"
      ]
     },
     "execution_count": 31,
     "metadata": {},
     "output_type": "execute_result"
    },
    {
     "data": {
      "image/png": "[encoded data removed]",
      "text/plain": [
       "<Figure size 432x288 with 1 Axes>"
      ]
     },
     "metadata": {
      "needs_background": "light"
     },
     "output_type": "display_data"
    }
   ],
   "source": [
    "plt.hist(df_filtered_finished_data['formation_energy'],alpha=0.5)\n",
    "plt.title('Histogram of Formation Energy')\n",
    "plt.xlabel('Formation Energy')\n",
    "plt.ylabel('Frequency')"
   ]
  },
  {
   "cell_type": "code",
   "execution_count": 32,
   "metadata": {},
   "outputs": [],
   "source": [
    "# check for transition elements and halides in the formula\n",
    "\n",
    "transition_elements_dict = {'Ti': 'titanium', 'V': 'vanadium','Cr': 'chromium','Mn': 'manganese','Fe': 'iron',\n",
    "           'Co': 'cobalt','Ni': 'nickel','Cu': 'copper','Zr': 'zirconium','Nb': 'niobium',\n",
    "           'Mo': 'molybdenum','Tc': 'technetium','Ru': 'ruthenium','Rh': 'rhodium','Pd': 'palladium',\n",
    "           'Ag': 'silver','Hf': 'hafnium','Ta': 'tantalum','W': 'tungsten','Re': 'rhenium',\n",
    "           'Os': 'osmium','Ir': 'iridium','Pt': 'platinum','Au': 'gold', 'Sc': 'scandium',\n",
    "           'Zn': 'zinc','Y': 'yttrium','Cd': 'cadmium','Hg': 'mercury','Rf': 'rutherfordium',\n",
    "           'Db': 'dubnium','Sg': 'seaborgium','Bh': 'bohrium','Hs': 'hassium','Mt': 'meitnerium',\n",
    "           'Uun':'ununnilium','Uuu': 'unununium','Uub': 'unubium'}\n",
    "transition_metal_symbol = list(transition_elements_dict.keys())\n",
    "count = 0\n",
    "for symbol in transition_metal_symbol:\n",
    "    count = count +1\n",
    "\n",
    "def classify_based_on_transition_metal( formula ):\n",
    "   \n",
    "   list_of_transition_metal = []\n",
    "   for symbol in transition_metal_symbol:\n",
    "    if(symbol in formula):\n",
    "        list_of_transition_metal.append(symbol)\n",
    "   return list_of_transition_metal\n",
    "\n",
    "\n",
    "\n",
    "def has_key_in(string):\n",
    "  return any(k in string for k in transition_elements_dict)\n",
    "\n",
    "halides_dict = {'F': 'Fluoride', 'Cl': 'Chloride','Br': 'Bromide','I': 'Iodide'}\n",
    "halide_symbol = list(halides_dict.keys())\n",
    "\n",
    "\n",
    "def classify_based_on_halides( formula ):\n",
    "   \n",
    "   halides = ''\n",
    "   for symbol in halide_symbol:\n",
    "    if(symbol in formula):\n",
    "        halides = symbol\n",
    "   return halides\n"
   ]
  },
  {
   "cell_type": "code",
   "execution_count": 33,
   "metadata": {},
   "outputs": [],
   "source": [
    "def check_for_transition_metal(df):\n",
    "    # transition_element will contain a list of transition elements present\n",
    "    rownum = len(df)\n",
    "    transition_element = []\n",
    "\n",
    "    for i in range(rownum) :\n",
    "        tranistion_ele = []\n",
    "        \n",
    "        elements_present = df.iloc[i]['elements_present']\n",
    "        \n",
    "        tranistion_ele = classify_based_on_transition_metal(elements_present)\n",
    "        \n",
    "        transition_element.append(tranistion_ele)\n",
    "        \n",
    "    df['Transition_Element'] = transition_element\n",
    "    \n",
    "    return df"
   ]
  },
  {
   "cell_type": "code",
   "execution_count": 34,
   "metadata": {},
   "outputs": [],
   "source": [
    "def check_for_halides(df):\n",
    "    # halides will contain a halides that is present\n",
    "    rownum = len(df)\n",
    "    halides = []\n",
    "\n",
    "    for i in range(rownum) :\n",
    "        halide_ele = ''\n",
    "        \n",
    "        elements_present = df.iloc[i]['elements_present']\n",
    "        \n",
    "        halide_ele = classify_based_on_halides(elements_present)\n",
    "        \n",
    "        halides.append(halide_ele) \n",
    "        \n",
    "    df['Halides'] = halides\n",
    "    \n",
    "    return df"
   ]
  },
  {
   "cell_type": "code",
   "execution_count": 35,
   "metadata": {},
   "outputs": [
    {
     "name": "stdout",
     "output_type": "stream",
     "text": [
      "176\n"
     ]
    }
   ],
   "source": [
    "df_filtered_finished_data = check_for_transition_metal(df_filtered_finished_data)\n",
    "df_filtered_finished_data = check_for_halides(df_filtered_finished_data)\n",
    "\n",
    "count_row = df_filtered_finished_data.shape[0]  # Gives number of rows\n",
    "count_col = df_filtered_finished_data.shape[1]  # Gives number of columns\n",
    "print(count_row)"
   ]
  },
  {
   "cell_type": "code",
   "execution_count": 36,
   "metadata": {},
   "outputs": [
    {
     "name": "stdout",
     "output_type": "stream",
     "text": [
      "Count of transition element in dictionary ( x axis)\n",
      "38\n",
      "Presence of Transition Element in the data set :\n",
      "{'Ti': 80, 'V': 0, 'Cr': 10, 'Mn': 0, 'Fe': 10, 'Co': 0, 'Ni': 17, 'Cu': 0, 'Zr': 14, 'Nb': 0, 'Mo': 12, 'Tc': 0, 'Ru': 18, 'Rh': 0, 'Pd': 14, 'Ag': 0, 'Hf': 0, 'Ta': 0, 'W': 0, 'Re': 0, 'Os': 0, 'Ir': 97, 'Pt': 0, 'Au': 17, 'Sc': 0, 'Zn': 15, 'Y': 0, 'Cd': 28, 'Hg': 0, 'Rf': 0, 'Db': 0, 'Sg': 0, 'Bh': 0, 'Hs': 0, 'Mt': 0, 'Uun': 0, 'Uuu': 0, 'Uub': 0}\n"
     ]
    },
    {
     "data": {
      "image/png": "[encoded data removed]",
      "text/plain": [
       "<Figure size 1440x216 with 1 Axes>"
      ]
     },
     "metadata": {
      "needs_background": "light"
     },
     "output_type": "display_data"
    }
   ],
   "source": [
    "count = 0\n",
    "d = { }\n",
    "\n",
    "for ele in transition_metal_symbol:\n",
    "    count = count +1\n",
    "print(\"Count of transition element in dictionary ( x axis)\")    \n",
    "print(count)\n",
    "#df_filtered_finished_data.Transition_Element\n",
    "\n",
    "list_of_list_of_transition_metal = np.array(df_filtered_finished_data.Transition_Element)\n",
    "\n",
    "\n",
    "#print(list_of_normalized_moment)\n",
    "#print(list_of_list_of_transition_metal)\n",
    "#transition_metal_symbol = ['Fe']\n",
    "\n",
    "for ele in transition_metal_symbol:\n",
    "    count = 0\n",
    "    for each_list in df_filtered_finished_data.Transition_Element:\n",
    "        if ele in each_list:\n",
    "            count = count +1 \n",
    "            #print(df_heatmap.normalized_moment)\n",
    "    d[ele] = count\n",
    "print(\"Presence of Transition Element in the data set :\")\n",
    "print(d)\n",
    "\n",
    "plt.figure(figsize=(20, 3))  # width:20, height:3\n",
    "#plt.bar(range(len(my_dict)), my_dict.values(), align='edge', width=0.3)\n",
    "\n",
    "plt.bar(range(len(d)), list(d.values()), align='edge', width=0.5)\n",
    "plt.xticks(range(len(d)), list(d.keys()))\n",
    "plt.title('Plot of count of compound containing transition elements')\n",
    "plt.xlabel('transition elements')\n",
    "plt.ylabel('count')\n",
    "plt.grid(axis='y', alpha=0.75)\n",
    "plt.show()"
   ]
  },
  {
   "cell_type": "code",
   "execution_count": 37,
   "metadata": {},
   "outputs": [
    {
     "name": "stdout",
     "output_type": "stream",
     "text": [
      "Count of Halides in dictionary ( x axis)\n",
      "4\n",
      "Presence of Halides in the data set :\n",
      "{'F': 0, 'Cl': 66, 'Br': 55, 'I': 55}\n"
     ]
    },
    {
     "data": {
      "image/png": "[encoded data removed]",
      "text/plain": [
       "<Figure size 1440x216 with 1 Axes>"
      ]
     },
     "metadata": {
      "needs_background": "light"
     },
     "output_type": "display_data"
    }
   ],
   "source": [
    "count = 0\n",
    "d = { }\n",
    "\n",
    "for ele in halide_symbol:\n",
    "    count = count +1\n",
    "print(\"Count of Halides in dictionary ( x axis)\")    \n",
    "print(count)\n",
    "#df_filtered_finished_data.Transition_Element\n",
    "\n",
    "list_of_list_of_halides = np.array(df_filtered_finished_data.Halides)\n",
    "\n",
    "for ele in halide_symbol:\n",
    "    count = 0\n",
    "    for each_list in df_filtered_finished_data.Halides:\n",
    "        if ele in each_list:\n",
    "            count = count +1 \n",
    "            #print(df_heatmap.normalized_moment)\n",
    "    d[ele] = count\n",
    "print(\"Presence of Halides in the data set :\")\n",
    "print(d)\n",
    "\n",
    "plt.figure(figsize=(20, 3))  # width:20, height:3\n",
    "#plt.bar(range(len(my_dict)), my_dict.values(), align='edge', width=0.3)\n",
    "\n",
    "plt.bar(range(len(d)), list(d.values()), align='edge', width=0.5)\n",
    "plt.xticks(range(len(d)), list(d.keys()))\n",
    "plt.title('Plot of count of compound containing Halides')\n",
    "plt.xlabel('transition elements')\n",
    "plt.ylabel('count')\n",
    "plt.grid(axis='y', alpha=0.75)\n",
    "plt.show()"
   ]
  },
  {
   "cell_type": "code",
   "execution_count": 38,
   "metadata": {},
   "outputs": [],
   "source": [
    "def add_descriptors_from_mendeleev(df):\n",
    "    # add descriptors from medeleev package \n",
    "    # each property is multiplied with the count of individual atom and then added to get the sum for the compound\n",
    "    rownum = len(df)\n",
    "\n",
    "    \n",
    "    total_electron_count = [] # addition of atomic no.\n",
    "    \n",
    "    total_nvalence = []\n",
    "    total_heat_of_formation = []\n",
    "    total_unpaired_electrons = []\n",
    "    total_electron_affinity = []\n",
    "    total_en_ghosh = []\n",
    "    total_en_pauling = []\n",
    "    total_dipole_polarizability = []\n",
    "\n",
    "    for i in range(rownum) :\n",
    "        total_electron_count_temp = 0\n",
    "        \n",
    "        total_nvalence_temp = 0\n",
    "        total_heat_of_formation_temp = 0\n",
    "        total_unpaired_electrons_temp = 0\n",
    "        total_electron_affinity_temp = 0\n",
    "        total_en_ghosh_temp = 0\n",
    "        total_en_pauling_temp = 0\n",
    "        total_dipole_polarizability_temp = 0\n",
    "        \n",
    "        \n",
    "        composition = df.iloc[i]['composition']\n",
    "        elements_present = list(composition.keys())\n",
    "\n",
    "        \n",
    "        for elem in elements_present: \n",
    "             \n",
    "            atom_count = composition.get(elem)\n",
    "            \n",
    "            atomic_number = element(str(elem)).atomic_number\n",
    "            \n",
    "            dipole_polarizability = element(str(elem)).dipole_polarizability\n",
    "            electron_affinity =element(str(elem)).electron_affinity\n",
    "            en_ghosh = element(str(elem)).en_ghosh\n",
    "            en_pauling = element(str(elem)).en_pauling\n",
    "            nvalence =  element(str(elem)).nvalence()\n",
    "            heat_of_formation = element(str(elem)).heat_of_formation\n",
    "            electronic_config = element(str(elem)).ec\n",
    "            unpaired_electrons = electronic_config.unpaired_electrons()\n",
    "            \n",
    "\n",
    "            \n",
    "            total_electron_count_temp = total_electron_count_temp + (atomic_number*atom_count)\n",
    "            \n",
    "            total_nvalence_temp = total_nvalence_temp + (nvalence*atom_count)\n",
    "            total_heat_of_formation_temp = total_heat_of_formation_temp + (heat_of_formation*atom_count)\n",
    "            total_unpaired_electrons_temp = total_unpaired_electrons_temp + (unpaired_electrons*atom_count)\n",
    "            \n",
    "            total_electron_affinity_temp = total_electron_affinity_temp + ((float(0 if electron_affinity is None else electron_affinity))*atom_count)\n",
    "                \n",
    "            total_en_ghosh_temp = total_en_ghosh_temp + (en_ghosh*atom_count)\n",
    "            total_en_pauling_temp = total_en_pauling_temp + (en_pauling*atom_count)\n",
    "            total_dipole_polarizability_temp = total_dipole_polarizability_temp + (dipole_polarizability*atom_count)\n",
    "        \n",
    "            \n",
    "        total_electron_count.append(total_electron_count_temp)\n",
    "        \n",
    "        total_nvalence.append(total_nvalence_temp)\n",
    "        total_heat_of_formation.append(total_heat_of_formation_temp)\n",
    "        total_unpaired_electrons.append(total_unpaired_electrons_temp)\n",
    "        total_electron_affinity.append(total_electron_affinity_temp)\n",
    "        total_en_ghosh.append(total_en_ghosh_temp)\n",
    "        total_en_pauling.append(total_en_pauling_temp)\n",
    "        total_dipole_polarizability.append(total_dipole_polarizability_temp)\n",
    "    \n",
    "        \n",
    "    df['total_electron_count'] = total_electron_count\n",
    "    \n",
    "    df['total_nvalence'] = total_nvalence\n",
    "    df['total_heat_of_formation'] = total_heat_of_formation\n",
    "    df['total_unpaired_electrons'] = total_unpaired_electrons\n",
    "    df['total_electron_affinity'] = total_electron_affinity\n",
    "    df['total_en_ghosh'] = total_en_ghosh\n",
    "    df['total_en_pauling'] = total_en_pauling\n",
    "    df['total_dipole_polarizability'] = total_dipole_polarizability\n",
    "    \n",
    "    return df"
   ]
  },
  {
   "cell_type": "code",
   "execution_count": 39,
   "metadata": {},
   "outputs": [
    {
     "name": "stdout",
     "output_type": "stream",
     "text": [
      "176\n"
     ]
    }
   ],
   "source": [
    "df_filtered_finished_data = add_descriptors_from_mendeleev(df_filtered_finished_data)\n",
    "count_row = df_filtered_finished_data.shape[0]  # Gives number of rows\n",
    "count_col = df_filtered_finished_data.shape[1]  # Gives number of columns\n",
    "print(count_row)"
   ]
  },
  {
   "cell_type": "code",
   "execution_count": 41,
   "metadata": {},
   "outputs": [
    {
     "data": {
      "image/png": "[encoded data removed]",
      "text/plain": [
       "<Figure size 432x288 with 1 Axes>"
      ]
     },
     "metadata": {
      "needs_background": "light"
     },
     "output_type": "display_data"
    }
   ],
   "source": [
    "#plots to show the range of formation energy for different names\n",
    "\n",
    "fig, ax = plt.subplots()\n",
    "\n",
    "ax.scatter(df_filtered_finished_data['formation_energy'], df_filtered_finished_data['name'])\n",
    "plt.title('Range of Formation Energy Vs Name')\n",
    "plt.xlabel('Formation Energy')\n",
    "plt.ylabel('name')\n",
    "\n",
    "plt.show()"
   ]
  },
  {
   "cell_type": "code",
   "execution_count": 42,
   "metadata": {},
   "outputs": [
    {
     "data": {
      "image/png": "[encoded data removed]",
      "text/plain": [
       "<Figure size 432x288 with 1 Axes>"
      ]
     },
     "metadata": {
      "needs_background": "light"
     },
     "output_type": "display_data"
    }
   ],
   "source": [
    "\n",
    "#plots to show the range of formation energy for different hallides\n",
    "fig, ax2 = plt.subplots()\n",
    "\n",
    "ax2.scatter(df_filtered_finished_data['formation_energy'], df_filtered_finished_data['Halides'])\n",
    "\n",
    "plt.title('Range of Formation Energy Vs Halides')\n",
    "plt.xlabel('Formation Energy')\n",
    "plt.ylabel('Halides')\n",
    "\n",
    "plt.show()"
   ]
  },
  {
   "cell_type": "code",
   "execution_count": null,
   "metadata": {},
   "outputs": [],
   "source": []
  },
  {
   "cell_type": "code",
   "execution_count": 43,
   "metadata": {},
   "outputs": [
    {
     "data": {
      "image/png": "[encoded data removed]",
      "text/plain": [
       "<Figure size 432x288 with 1 Axes>"
      ]
     },
     "metadata": {
      "needs_background": "light"
     },
     "output_type": "display_data"
    }
   ],
   "source": [
    "#plots to show the range of formation energy for different names\n",
    "#the colors mark the three hallides available\n",
    "\n",
    "fig, ax3 = plt.subplots()\n",
    "colors = {\"Cl\":\"red\", \"I\":\"blue\", \"Br\":\"green\", \"F\":\"black\"}\n",
    "\n",
    "ax3.scatter(df_filtered_finished_data['formation_energy'], df_filtered_finished_data['name'], c=df_filtered_finished_data['Halides'].apply(lambda x: colors[x]))\n",
    "\n",
    "plt.title('Range of Formation Energy wrt name and Halides')\n",
    "plt.xlabel('Formation Energy')\n",
    "plt.ylabel('HALIDES:Cl-Red,I-Blue,Br-green,F-black')\n",
    "\n",
    "plt.show()"
   ]
  },
  {
   "cell_type": "code",
   "execution_count": 44,
   "metadata": {},
   "outputs": [
    {
     "name": "stdout",
     "output_type": "stream",
     "text": [
      "       name Halides  formation_energy_mean\n",
      "0       afm      Br             -68.133138\n",
      "1       afm      Cl             -73.984736\n",
      "2       afm       I             -56.289386\n",
      "3    afm_so      Br             -72.008734\n",
      "4    afm_so      Cl             -81.230002\n",
      "5    afm_so       I             -57.451103\n",
      "6   initial      Br             -71.092832\n",
      "7   initial      Cl             -78.878978\n",
      "8   initial       I             -60.170182\n",
      "9      spin      Br             -72.417269\n",
      "10     spin      Cl             -79.543593\n",
      "11     spin       I             -59.739304\n",
      "12  spin_so      Br             -69.531421\n",
      "13  spin_so      Cl             -80.426588\n",
      "14  spin_so       I             -56.533816\n"
     ]
    },
    {
     "data": {
      "image/png": "[encoded data removed]",
      "text/plain": [
       "<Figure size 432x288 with 1 Axes>"
      ]
     },
     "metadata": {
      "needs_background": "light"
     },
     "output_type": "display_data"
    }
   ],
   "source": [
    "grouped_multiple = df_filtered_finished_data.groupby(['name', 'Halides']).agg({'formation_energy': ['mean']})\n",
    "grouped_multiple.columns = ['formation_energy_mean']\n",
    "grouped_multiple = grouped_multiple.reset_index()\n",
    "print(grouped_multiple)\n",
    "\n",
    "fig, ax4 = plt.subplots()\n",
    "colors = {\"Cl\":\"red\", \"I\":\"blue\", \"Br\":\"green\", \"F\":\"black\"}\n",
    "\n",
    "ax4.scatter(grouped_multiple['formation_energy_mean'], grouped_multiple['name'], c=grouped_multiple['Halides'].apply(lambda x: colors[x]))\n",
    "plt.title('Mean of Formation Energy wrt name and Halides')\n",
    "plt.xlabel('Formation Energy')\n",
    "plt.ylabel('HALIDES:Cl-Red,I-Blue,Br-green,F-black')\n",
    "plt.show()"
   ]
  },
  {
   "cell_type": "code",
   "execution_count": null,
   "metadata": {},
   "outputs": [],
   "source": []
  },
  {
   "cell_type": "code",
   "execution_count": 45,
   "metadata": {},
   "outputs": [
    {
     "name": "stdout",
     "output_type": "stream",
     "text": [
      "       name Halides  formation_energy\n",
      "0       afm      Br                12\n",
      "1       afm      Cl                10\n",
      "2       afm       I                15\n",
      "3    afm_so      Br                 8\n",
      "4    afm_so      Cl                13\n",
      "5    afm_so       I                 3\n",
      "6   initial      Br                18\n",
      "7   initial      Cl                17\n",
      "8   initial       I                22\n",
      "9      spin      Br                 9\n",
      "10     spin      Cl                15\n",
      "11     spin       I                13\n",
      "12  spin_so      Br                 8\n",
      "13  spin_so      Cl                11\n",
      "14  spin_so       I                 2\n"
     ]
    }
   ],
   "source": [
    "grouped_multiple = df_filtered_finished_data.groupby(['name', 'Halides'])['formation_energy'].count()\n",
    "#grouped_multiple.columns = ['formation_energy_mean']\n",
    "grouped_multiple = grouped_multiple.reset_index()\n",
    "\n",
    "print(grouped_multiple)\n",
    "# Made a BiPartite graph for dynamic visualization"
   ]
  },
  {
   "cell_type": "code",
   "execution_count": null,
   "metadata": {},
   "outputs": [],
   "source": []
  },
  {
   "cell_type": "code",
   "execution_count": 46,
   "metadata": {},
   "outputs": [
    {
     "name": "stdout",
     "output_type": "stream",
     "text": [
      "Index(['Formula', 'Stacking', 'name', 'data', 'magmom_unitcell_x',\n",
      "       'magmom_unitcell_y', 'magmom_unitcell_z', 'magmom_total', 'LOOP+',\n",
      "       'NIONS', 'NKDIM', 'NBANDS', 'energy', 'stress', 'retry_count',\n",
      "       'lattice_vecs', 'total charge', 'magnetization', 'position_force',\n",
      "       'volume of cell', 'relaxed_Energy', 'sum_individual_energy',\n",
      "       'elements_present', 'composition', 'formation_energy',\n",
      "       'Transition_Element', 'Halides', 'total_electron_count',\n",
      "       'total_nvalence', 'total_heat_of_formation', 'total_unpaired_electrons',\n",
      "       'total_electron_affinity', 'total_en_ghosh', 'total_en_pauling',\n",
      "       'total_dipole_polarizability'],\n",
      "      dtype='object')\n"
     ]
    }
   ],
   "source": [
    "# corelation between formation energy and descriptor\n",
    "# more correlated if close to 1\n",
    "print(df_filtered_finished_data.columns)\n",
    "df_energy_heatmap = df_filtered_finished_data[['relaxed_Energy', 'sum_individual_energy', 'formation_energy',\n",
    "                                              'total_electron_count', 'total_nvalence', 'total_heat_of_formation',\n",
    "                                           'total_unpaired_electrons', 'total_electron_affinity', 'total_en_ghosh',\n",
    "                                           'total_en_pauling', 'total_dipole_polarizability']].copy()"
   ]
  },
  {
   "cell_type": "code",
   "execution_count": 47,
   "metadata": {},
   "outputs": [
    {
     "data": {
      "image/png": "[encoded data removed]",
      "text/plain": [
       "<Figure size 432x288 with 2 Axes>"
      ]
     },
     "metadata": {
      "needs_background": "light"
     },
     "output_type": "display_data"
    }
   ],
   "source": [
    "corr = df_energy_heatmap.corr()\n",
    "ax = sns.heatmap(\n",
    "    corr, \n",
    "    vmin=-1, vmax=1, center=0,\n",
    "    cmap=sns.diverging_palette(20, 220, n=200),\n",
    "    square=True\n",
    ")\n",
    "ax.set_xticklabels(\n",
    "    ax.get_xticklabels(),\n",
    "    rotation=45,\n",
    "    horizontalalignment='right'\n",
    ");"
   ]
  },
  {
   "cell_type": "code",
   "execution_count": 48,
   "metadata": {},
   "outputs": [],
   "source": [
    "df_filtered_finished_data.to_csv('BiLayer_Data.csv')"
   ]
  },
  {
   "cell_type": "code",
   "execution_count": null,
   "metadata": {},
   "outputs": [],
   "source": [
    "#visualization : "
   ]
  },
  {
   "cell_type": "code",
   "execution_count": 13,
   "metadata": {},
   "outputs": [
    {
     "name": "stdout",
     "output_type": "stream",
     "text": [
      "<class 'dict'>\n",
      "\n",
      " Types of DFT data\n",
      "dict_keys(['LOOP+', 'NIONS', 'NKDIM', 'NBANDS', 'energy', 'stress', 'retry_count', 'lattice_vecs', 'total charge', 'magnetization', 'position_force', 'volume of cell'])\n",
      "\n",
      " DFT data : LOOP+\n",
      "[444.2358, 103.2472, 147.5554, 183.8595]\n",
      "\n",
      " DFT data : NIONS\n",
      "32\n",
      "\n",
      " DFT data : NKDIM\n",
      "34\n",
      "\n",
      " DFT data : NBANDS\n",
      "176\n",
      "\n",
      " DFT data : energy\n",
      "[-130.45522294, -130.45541663, -130.45530501, -130.45539068]\n",
      "\n",
      " DFT data : stress\n",
      "[[['XX', 'YY', 'ZZ', 'XY', 'YZ', 'ZX'], [[-1.03806, -1.10905, -0.71774, 0.04707, 0.0743, -0.05102]]], [['XX', 'YY', 'ZZ', 'XY', 'YZ', 'ZX'], [[-0.98946, -1.1362, -0.53625, 0.10255, 0.14343, -0.0989]]], [['XX', 'YY', 'ZZ', 'XY', 'YZ', 'ZX'], [[-0.81727, -0.6872, -0.718, -0.08385, -0.12329, 0.09207]]], [['XX', 'YY', 'ZZ', 'XY', 'YZ', 'ZX'], [[-0.82957, -0.7696, -0.67754, -0.03822, -0.05455, 0.04194]]]]\n",
      "\n",
      " DFT data : retry_count\n",
      "1\n",
      "\n",
      " DFT data : lattice_vecs\n",
      "[[[12.288479771, 0.001249247, 0.086537966, 0.081371438, 0.046992579, 0.000115827], [-3.072524362, 5.320585052, -0.106088469, -1.158e-05, 0.187921265, -0.001068417], [-0.128575904, 0.155306644, 27.317910345, -0.000257814, 0.000580924, 0.036601505]], [[12.288479771, 0.001249247, 0.086537966, 0.081371438, 0.046992579, 0.000115827], [-3.072524362, 5.320585052, -0.106088469, -1.158e-05, 0.187921265, -0.001068417], [-0.128575904, 0.155306644, 27.317910345, -0.000257814, 0.000580924, 0.036601505]], [[12.287552229, 0.001778099, 0.085989461, 0.081375559, 0.046995657, 0.000116399], [-3.072061999, 5.319705539, -0.10561183, -1.9634e-05, 0.187947534, -0.001080818], [-0.129820454, 0.157115555, 27.323788604, -0.000256169, 0.000578556, 0.036593602]], [[12.285944744, 0.002695117, 0.085038369, 0.081382699, 0.047000991, 0.000117391], [-3.071260485, 5.318180849, -0.104785355, -3.3609e-05, 0.187993094, -0.001102318], [-0.131978485, 0.160252182, 27.333983286, -0.000253317, 0.000574451, 0.036579905]], [[12.286762844, 0.00222834, 0.085522489, 0.081379065, 0.046998276, 0.000116886], [-3.071668434, 5.318956882, -0.105206043, -2.6494e-05, 0.187969901, -0.001091374], [-0.130880012, 0.158655588, 27.328793731, -0.000254769, 0.000576541, 0.036586876]]]\n",
      "\n",
      " DFT data : total charge\n",
      "[[['s', 'p', 'd', 'tot'], [[0.546, 0.589, 7.025, 8.16], [0.546, 0.589, 7.025, 8.16], [0.546, 0.589, 7.025, 8.16], [0.546, 0.589, 7.025, 8.16], [0.546, 0.589, 7.025, 8.16], [0.546, 0.589, 7.025, 8.16], [0.546, 0.589, 7.025, 8.16], [0.546, 0.589, 7.025, 8.16], [1.603, 3.462, 0.0, 5.065], [1.603, 3.462, 0.0, 5.065], [1.603, 3.462, 0.0, 5.065], [1.603, 3.462, 0.0, 5.065], [1.603, 3.462, 0.0, 5.065], [1.603, 3.462, 0.0, 5.065], [1.603, 3.462, 0.0, 5.065], [1.603, 3.462, 0.0, 5.065], [1.603, 3.462, 0.0, 5.065], [1.603, 3.462, 0.0, 5.065], [1.603, 3.462, 0.0, 5.065], [1.603, 3.462, 0.0, 5.065], [1.603, 3.462, 0.0, 5.065], [1.603, 3.462, 0.0, 5.065], [1.603, 3.462, 0.0, 5.065], [1.603, 3.462, 0.0, 5.065], [1.603, 3.463, 0.0, 5.065], [1.603, 3.462, 0.0, 5.065], [1.603, 3.463, 0.0, 5.065], [1.603, 3.462, 0.0, 5.065], [1.603, 3.462, 0.0, 5.065], [1.603, 3.462, 0.0, 5.065], [1.603, 3.462, 0.0, 5.065], [1.603, 3.462, 0.0, 5.065]]], [['s', 'p', 'd', 'tot'], [[0.546, 0.589, 7.025, 8.161], [0.546, 0.589, 7.025, 8.161], [0.546, 0.589, 7.025, 8.161], [0.546, 0.589, 7.025, 8.161], [0.546, 0.589, 7.025, 8.161], [0.546, 0.589, 7.025, 8.16], [0.546, 0.589, 7.025, 8.161], [0.546, 0.589, 7.025, 8.161], [1.603, 3.463, 0.0, 5.065], [1.603, 3.463, 0.0, 5.065], [1.603, 3.462, 0.0, 5.065], [1.603, 3.462, 0.0, 5.065], [1.603, 3.462, 0.0, 5.065], [1.603, 3.462, 0.0, 5.065], [1.603, 3.462, 0.0, 5.065], [1.603, 3.462, 0.0, 5.065], [1.603, 3.462, 0.0, 5.065], [1.603, 3.463, 0.0, 5.065], [1.603, 3.462, 0.0, 5.065], [1.603, 3.462, 0.0, 5.065], [1.603, 3.463, 0.0, 5.065], [1.603, 3.463, 0.0, 5.065], [1.603, 3.463, 0.0, 5.065], [1.603, 3.462, 0.0, 5.065], [1.603, 3.463, 0.0, 5.065], [1.603, 3.462, 0.0, 5.065], [1.603, 3.462, 0.0, 5.065], [1.603, 3.462, 0.0, 5.065], [1.603, 3.463, 0.0, 5.065], [1.603, 3.462, 0.0, 5.065], [1.603, 3.463, 0.0, 5.065], [1.603, 3.462, 0.0, 5.065]]], [['s', 'p', 'd', 'tot'], [[0.546, 0.59, 7.026, 8.161], [0.546, 0.59, 7.026, 8.161], [0.546, 0.59, 7.026, 8.161], [0.546, 0.59, 7.026, 8.162], [0.546, 0.59, 7.026, 8.162], [0.546, 0.59, 7.026, 8.161], [0.546, 0.59, 7.026, 8.161], [0.546, 0.589, 7.026, 8.161], [1.603, 3.462, 0.0, 5.065], [1.603, 3.463, 0.0, 5.065], [1.603, 3.463, 0.0, 5.065], [1.603, 3.463, 0.0, 5.066], [1.603, 3.462, 0.0, 5.065], [1.603, 3.463, 0.0, 5.065], [1.603, 3.463, 0.0, 5.065], [1.603, 3.463, 0.0, 5.066], [1.603, 3.462, 0.0, 5.065], [1.603, 3.463, 0.0, 5.065], [1.603, 3.462, 0.0, 5.065], [1.603, 3.463, 0.0, 5.065], [1.603, 3.463, 0.0, 5.065], [1.603, 3.462, 0.0, 5.065], [1.603, 3.463, 0.0, 5.065], [1.603, 3.463, 0.0, 5.065], [1.603, 3.462, 0.0, 5.065], [1.603, 3.462, 0.0, 5.065], [1.603, 3.463, 0.0, 5.065], [1.603, 3.462, 0.0, 5.065], [1.603, 3.462, 0.0, 5.065], [1.603, 3.462, 0.0, 5.065], [1.603, 3.463, 0.0, 5.065], [1.603, 3.462, 0.0, 5.065]]], [['s', 'p', 'd', 'tot'], [[0.546, 0.589, 7.025, 8.161], [0.546, 0.589, 7.025, 8.161], [0.546, 0.589, 7.025, 8.161], [0.546, 0.59, 7.025, 8.161], [0.546, 0.59, 7.025, 8.161], [0.546, 0.59, 7.025, 8.161], [0.546, 0.589, 7.026, 8.161], [0.546, 0.589, 7.025, 8.161], [1.603, 3.462, 0.0, 5.065], [1.603, 3.463, 0.0, 5.065], [1.603, 3.463, 0.0, 5.065], [1.603, 3.463, 0.0, 5.065], [1.603, 3.462, 0.0, 5.065], [1.603, 3.463, 0.0, 5.065], [1.603, 3.462, 0.0, 5.065], [1.603, 3.463, 0.0, 5.065], [1.603, 3.462, 0.0, 5.065], [1.603, 3.463, 0.0, 5.065], [1.603, 3.462, 0.0, 5.065], [1.603, 3.463, 0.0, 5.065], [1.603, 3.463, 0.0, 5.065], [1.603, 3.462, 0.0, 5.065], [1.603, 3.463, 0.0, 5.065], [1.603, 3.462, 0.0, 5.065], [1.603, 3.462, 0.0, 5.065], [1.603, 3.462, 0.0, 5.065], [1.603, 3.463, 0.0, 5.065], [1.603, 3.462, 0.0, 5.065], [1.603, 3.462, 0.0, 5.065], [1.603, 3.462, 0.0, 5.065], [1.603, 3.463, 0.0, 5.065], [1.603, 3.462, 0.0, 5.065]]], [['s', 'p', 'd', 'tot'], [[0.546, 0.589, 7.025, 8.161], [0.546, 0.589, 7.025, 8.161], [0.546, 0.589, 7.025, 8.161], [0.546, 0.59, 7.025, 8.161], [0.546, 0.59, 7.025, 8.161], [0.546, 0.59, 7.025, 8.161], [0.546, 0.589, 7.026, 8.161], [0.546, 0.589, 7.025, 8.161], [1.603, 3.462, 0.0, 5.065], [1.603, 3.463, 0.0, 5.065], [1.603, 3.463, 0.0, 5.065], [1.603, 3.463, 0.0, 5.065], [1.603, 3.462, 0.0, 5.065], [1.603, 3.463, 0.0, 5.065], [1.603, 3.462, 0.0, 5.065], [1.603, 3.463, 0.0, 5.065], [1.603, 3.462, 0.0, 5.065], [1.603, 3.463, 0.0, 5.065], [1.603, 3.462, 0.0, 5.065], [1.603, 3.463, 0.0, 5.065], [1.603, 3.463, 0.0, 5.065], [1.603, 3.462, 0.0, 5.065], [1.603, 3.463, 0.0, 5.065], [1.603, 3.462, 0.0, 5.065], [1.603, 3.462, 0.0, 5.065], [1.603, 3.462, 0.0, 5.065], [1.603, 3.463, 0.0, 5.065], [1.603, 3.462, 0.0, 5.065], [1.603, 3.462, 0.0, 5.065], [1.603, 3.462, 0.0, 5.065], [1.603, 3.463, 0.0, 5.065], [1.603, 3.462, 0.0, 5.065]]]]\n",
      "\n",
      " DFT data : magnetization\n",
      "[['x', ['s', 'p', 'd', 'tot'], [[0.0, 0.0, 0.0, 0.0], [0.0, 0.0, 0.0, 0.0], [0.0, 0.0, 0.0, 0.0], [0.0, 0.0, 0.0, 0.0], [0.0, 0.0, 0.0, 0.0], [0.0, 0.0, 0.0, 0.0], [0.0, 0.0, 0.0, 0.0], [0.0, 0.0, 0.0, 0.0], [0.0, 0.0, 0.0, 0.0], [0.0, 0.0, 0.0, 0.0], [0.0, 0.0, 0.0, 0.0], [0.0, 0.0, 0.0, 0.0], [0.0, 0.0, 0.0, 0.0], [0.0, 0.0, 0.0, 0.0], [0.0, 0.0, 0.0, 0.0], [0.0, 0.0, 0.0, 0.0], [0.0, 0.0, 0.0, 0.0], [0.0, 0.0, 0.0, 0.0], [0.0, 0.0, 0.0, 0.0], [0.0, 0.0, 0.0, 0.0], [0.0, 0.0, 0.0, 0.0], [0.0, 0.0, 0.0, 0.0], [0.0, 0.0, 0.0, 0.0], [0.0, 0.0, 0.0, 0.0], [0.0, 0.0, 0.0, 0.0], [0.0, 0.0, 0.0, 0.0], [0.0, 0.0, 0.0, 0.0], [0.0, 0.0, 0.0, 0.0], [0.0, 0.0, 0.0, 0.0], [0.0, 0.0, 0.0, 0.0], [0.0, 0.0, 0.0, 0.0], [0.0, 0.0, 0.0, 0.0]]], ['x', ['s', 'p', 'd', 'tot'], [[0.0, 0.0, 0.0, 0.0], [0.0, 0.0, 0.0, 0.0], [0.0, 0.0, 0.0, 0.0], [0.0, 0.0, 0.0, 0.0], [0.0, 0.0, 0.0, 0.0], [0.0, 0.0, 0.0, 0.0], [0.0, 0.0, 0.0, 0.0], [0.0, 0.0, 0.0, 0.0], [0.0, 0.0, 0.0, 0.0], [0.0, 0.0, 0.0, 0.0], [0.0, 0.0, 0.0, 0.0], [0.0, 0.0, 0.0, 0.0], [0.0, 0.0, 0.0, 0.0], [0.0, 0.0, 0.0, 0.0], [0.0, 0.0, 0.0, 0.0], [0.0, 0.0, 0.0, 0.0], [0.0, 0.0, 0.0, 0.0], [0.0, 0.0, 0.0, 0.0], [0.0, 0.0, 0.0, 0.0], [0.0, 0.0, 0.0, 0.0], [0.0, 0.0, 0.0, 0.0], [0.0, 0.0, 0.0, 0.0], [0.0, 0.0, 0.0, 0.0], [0.0, 0.0, 0.0, 0.0], [0.0, 0.0, 0.0, 0.0], [0.0, 0.0, 0.0, 0.0], [0.0, 0.0, 0.0, 0.0], [0.0, 0.0, 0.0, 0.0], [0.0, 0.0, 0.0, 0.0], [0.0, 0.0, 0.0, 0.0], [0.0, 0.0, 0.0, 0.0], [0.0, 0.0, 0.0, 0.0]]], ['x', ['s', 'p', 'd', 'tot'], [[0.0, 0.0, 0.0, 0.0], [0.0, 0.0, 0.0, 0.0], [0.0, 0.0, 0.0, 0.0], [0.0, 0.0, 0.0, 0.0], [0.0, 0.0, 0.0, 0.0], [0.0, 0.0, 0.0, 0.0], [0.0, 0.0, 0.0, 0.0], [0.0, 0.0, 0.0, 0.0], [0.0, 0.0, 0.0, 0.0], [0.0, 0.0, 0.0, 0.0], [0.0, 0.0, 0.0, 0.0], [0.0, 0.0, 0.0, 0.0], [0.0, 0.0, 0.0, 0.0], [0.0, 0.0, 0.0, 0.0], [0.0, 0.0, 0.0, 0.0], [0.0, 0.0, 0.0, 0.0], [0.0, 0.0, 0.0, 0.0], [0.0, 0.0, 0.0, 0.0], [0.0, 0.0, 0.0, 0.0], [0.0, 0.0, 0.0, 0.0], [0.0, 0.0, 0.0, 0.0], [0.0, 0.0, 0.0, 0.0], [0.0, 0.0, 0.0, 0.0], [0.0, 0.0, 0.0, 0.0], [0.0, 0.0, 0.0, 0.0], [0.0, 0.0, 0.0, 0.0], [0.0, 0.0, 0.0, 0.0], [0.0, 0.0, 0.0, 0.0], [0.0, 0.0, 0.0, 0.0], [0.0, 0.0, 0.0, 0.0], [0.0, 0.0, 0.0, 0.0], [0.0, 0.0, 0.0, 0.0]]], ['x', ['s', 'p', 'd', 'tot'], [[0.0, 0.0, 0.0, 0.0], [0.0, 0.0, 0.0, 0.0], [0.0, 0.0, 0.0, 0.0], [0.0, 0.0, 0.0, 0.0], [0.0, 0.0, 0.0, 0.0], [0.0, 0.0, 0.0, 0.0], [0.0, 0.0, 0.0, 0.0], [0.0, 0.0, 0.0, 0.0], [0.0, 0.0, 0.0, 0.0], [0.0, 0.0, 0.0, 0.0], [0.0, 0.0, 0.0, 0.0], [0.0, 0.0, 0.0, 0.0], [0.0, 0.0, 0.0, 0.0], [0.0, 0.0, 0.0, 0.0], [0.0, 0.0, 0.0, 0.0], [0.0, 0.0, 0.0, 0.0], [0.0, 0.0, 0.0, 0.0], [0.0, 0.0, 0.0, 0.0], [0.0, 0.0, 0.0, 0.0], [0.0, 0.0, 0.0, 0.0], [0.0, 0.0, 0.0, 0.0], [0.0, 0.0, 0.0, 0.0], [0.0, 0.0, 0.0, 0.0], [0.0, 0.0, 0.0, 0.0], [0.0, 0.0, 0.0, 0.0], [0.0, 0.0, 0.0, 0.0], [0.0, 0.0, 0.0, 0.0], [0.0, 0.0, 0.0, 0.0], [0.0, 0.0, 0.0, 0.0], [0.0, 0.0, 0.0, 0.0], [0.0, 0.0, 0.0, 0.0], [0.0, 0.0, 0.0, 0.0]]], ['x', ['s', 'p', 'd', 'tot'], [[0.0, 0.0, 0.0, 0.0], [0.0, 0.0, 0.0, 0.0], [0.0, 0.0, 0.0, 0.0], [0.0, 0.0, 0.0, 0.0], [0.0, 0.0, 0.0, 0.0], [0.0, 0.0, 0.0, 0.0], [0.0, 0.0, 0.0, 0.0], [0.0, 0.0, 0.0, 0.0], [0.0, 0.0, 0.0, 0.0], [0.0, 0.0, 0.0, 0.0], [0.0, 0.0, 0.0, 0.0], [0.0, 0.0, 0.0, 0.0], [0.0, 0.0, 0.0, 0.0], [0.0, 0.0, 0.0, 0.0], [0.0, 0.0, 0.0, 0.0], [0.0, 0.0, 0.0, 0.0], [0.0, 0.0, 0.0, 0.0], [0.0, 0.0, 0.0, 0.0], [0.0, 0.0, 0.0, 0.0], [0.0, 0.0, 0.0, 0.0], [0.0, 0.0, 0.0, 0.0], [0.0, 0.0, 0.0, 0.0], [0.0, 0.0, 0.0, 0.0], [0.0, 0.0, 0.0, 0.0], [0.0, 0.0, 0.0, 0.0], [0.0, 0.0, 0.0, 0.0], [0.0, 0.0, 0.0, 0.0], [0.0, 0.0, 0.0, 0.0], [0.0, 0.0, 0.0, 0.0], [0.0, 0.0, 0.0, 0.0], [0.0, 0.0, 0.0, 0.0], [0.0, 0.0, 0.0, 0.0]]]]\n",
      "\n",
      " DFT data : position_force\n",
      "[[[3.06342, 5.33002, 1.58393, 0.011564, 0.015636, 0.008906], [7.12648, 5.37057, 8.67124, 0.014521, 0.016404, 0.010356], [-0.00691, 0.00954, 1.64664, -0.024559, -0.006238, 0.00977], [4.05617, 0.0501, 8.73395, -0.022484, -0.005983, 0.011105], [-0.00824, 3.5562, 1.59008, 0.002903, 0.010016, 0.015472], [4.05486, 3.59676, 8.67768, 0.004015, 0.01046, 0.01299], [6.13638, 3.55727, 1.6335, -0.007629, 0.000827, 0.012835], [-2.08906, 3.59655, 8.63457, -0.005089, 0.00211, 0.010421], [0.87952, 1.80328, 2.91681, -0.005157, 0.005045, -0.002452], [4.94282, 1.84375, 10.00437, -0.006536, 0.004405, -0.007153], [7.02381, 1.80423, 2.96026, -0.009478, -0.001726, -0.005551], [11.08713, 1.84474, 10.04783, -0.011267, -0.00305, -0.010433], [1.07077, 5.24019, 2.86362, -0.003188, -0.009202, -0.000403], [5.13398, 5.28093, 9.9512, -0.003055, -0.010728, -0.005178], [7.21464, 5.24068, 2.90694, 0.009694, -0.003608, -0.002726], [-1.01062, 5.28015, 9.90797, 0.009588, -0.005098, -0.007299], [-2.00122, 3.68733, 2.86673, 0.002726, 0.007413, -0.003156], [2.06161, 3.72774, 9.95425, 0.003167, 0.008662, -0.008183], [4.14303, 3.68816, 2.91012, 0.002918, 0.005913, -0.003203], [8.20589, 3.72857, 9.99764, 0.002676, 0.00729, -0.008194], [-0.89539, 1.76279, 0.32092, 0.007168, -0.007631, 0.000318], [3.16745, 1.80341, 7.40859, 0.006963, -0.007203, -0.00358], [5.24875, 1.76342, 0.36426, 0.006717, -0.005745, 0.001814], [9.3116, 1.80408, 7.45194, 0.006206, -0.005988, -0.002207], [1.98518, 3.64721, 0.31156, -0.004356, -0.00145, -0.004372], [6.04839, 3.68781, 7.39907, -0.005341, -0.001982, -0.008298], [8.12901, 3.64753, 0.35467, 0.005317, 0.007127, -0.001071], [-0.09627, 3.68691, 7.35566, 0.004246, 0.006297, -0.005215], [-1.08741, 5.1992, 0.26503, 0.006243, -0.007514, -0.001115], [2.97568, 5.23966, 7.35249, 0.006207, -0.008259, -0.005157], [5.05708, 5.19997, 0.3083, -0.001979, -0.007731, 0.00245], [9.1202, 5.24044, 7.39575, -0.002719, -0.008469, -0.001491]], [[3.06368, 5.32997, 1.58475, -0.000476, -0.00024, 0.001237], [7.12619, 5.37118, 8.67343, -7.3e-05, -9.3e-05, -0.000909], [-0.0077, 0.00947, 1.64727, -0.00182, -0.000985, 0.001371], [4.05482, 0.05068, 8.73596, -0.001839, -0.001138, -0.000813], [-0.00807, 3.55611, 1.59111, 0.001176, 0.00107, 0.002042], [4.05442, 3.59732, 8.67997, 0.001476, 0.001061, -0.000745], [6.13578, 3.55717, 1.63418, 0.000419, 0.000489, 0.001687], [-2.0893, 3.5966, 8.63706, 0.000739, 0.000463, -0.001132], [0.87925, 1.80341, 2.91744, -0.003402, -0.001875, 0.000927], [4.94188, 1.8445, 10.00621, -0.003606, -0.001625, -0.000887], [7.02295, 1.80443, 2.96053, -0.002282, -0.000396, 0.002113], [11.08559, 1.84554, 10.0493, -0.002645, -0.000294, 0.000172], [1.07069, 5.23943, 2.86453, 0.002984, -0.003124, 0.00053], [5.13327, 5.28077, 9.9533, 0.003036, -0.003577, -0.001568], [7.21447, 5.24035, 2.9075, 0.000771, -0.003465, 0.001356], [-1.01049, 5.27989, 9.91029, 0.001053, -0.003748, -0.000659], [-2.00097, 3.68714, 2.86759, 0.002421, 0.002226, 0.00157], [2.06125, 3.72823, 9.9563, 0.003031, 0.002341, -0.000545], [4.14283, 3.68819, 2.91071, 0.00193, 0.002031, 0.001733], [8.20505, 3.72928, 9.99942, 0.002569, 0.00213, -0.000379], [-0.89506, 1.76231, 0.32116, 0.004503, 0.001622, 0.00027], [3.16715, 1.80359, 7.41005, 0.004534, 0.001358, -0.001891], [5.24861, 1.76326, 0.36427, 0.003768, 0.001312, -0.000267], [9.31082, 1.80455, 7.45316, 0.00389, 0.001094, -0.002325], [1.98504, 3.64677, 0.31165, -0.002003, 0.00467, 0.001727], [6.04759, 3.68799, 7.40039, -0.001854, 0.004553, -0.000728], [8.12869, 3.6476, 0.35459, -0.003184, 0.002954, 0.00086], [-0.09632, 3.68707, 7.35734, -0.002679, 0.002997, -0.001606], [-1.08693, 5.19823, 0.26546, -0.004121, -0.002914, 0.001142], [2.97552, 5.23931, 7.35413, -0.003869, -0.003201, -0.001429], [5.05684, 5.19926, 0.30855, -0.002259, -0.002704, -0.000185], [9.11932, 5.24035, 7.39723, -0.002187, -0.002993, -0.002668]], [[6.13539, 0.01169, 1.69095, -0.014698, -0.018692, -0.006758], [10.19696, 0.05406, 8.78202, -0.017855, -0.019734, -0.014991], [-0.00906, 0.00934, 1.64838, 0.027951, 0.007609, -0.007652], [4.05246, 0.05169, 8.73945, 0.025834, 0.007075, -0.01576], [-0.00779, 3.55593, 1.59289, -0.002861, -0.010572, -0.012468], [4.05367, 3.59829, 8.68395, -0.003632, -0.011467, -0.017791], [6.13473, 3.557, 1.63536, 0.008419, -0.000464, -0.009954], [-2.0897, 3.59669, 8.64139, 0.006094, -0.002183, -0.015428], [0.87877, 1.80363, 2.91855, -0.003866, -0.00782, 0.004262], [4.94024, 1.84581, 10.00939, -0.003354, -0.006953, 0.002002], [7.02145, 1.80477, 2.961, 0.001927, 0.000396, 0.007754], [11.08291, 1.84693, 10.05184, 0.002678, 0.001518, 0.005852], [1.07055, 5.23812, 2.8661, 0.008087, 0.00268, 0.001652], [5.13204, 5.28049, 9.95695, 0.008693, 0.002771, -0.000753], [7.21417, 5.23977, 2.90848, -0.006547, -0.00391, 0.004156], [-1.01028, 5.27944, 9.9143, -0.005952, -0.003676, 0.001801], [-2.00053, 3.68681, 2.86909, 0.002223, -0.001162, 0.005698], [2.06061, 3.72908, 9.95987, 0.003415, -0.001687, 0.003234], [4.14247, 3.68824, 2.91173, 0.002563, 0.000556, 0.005513], [8.20359, 3.73051, 10.00251, 0.004314, 7.2e-05, 0.003108], [-0.89448, 1.76147, 0.32157, 0.001112, 0.009585, 0.004634], [3.16663, 1.80389, 7.41259, 0.001667, 0.009078, 0.002315], [5.24836, 1.76297, 0.36428, 0.002086, 0.00812, 0.003019], [9.30945, 1.80537, 7.45529, 0.003001, 0.008017, 0.000786], [1.98481, 3.646, 0.31181, 0.00072, 0.010017, 0.01084], [6.04622, 3.68831, 7.40267, 0.002053, 0.010849, 0.008219], [8.12814, 3.64772, 0.35444, -0.010798, -2.4e-05, 0.007472], [-0.09641, 3.68734, 7.36026, -0.009308, 0.000819, 0.004748], [-1.08612, 5.19654, 0.26619, -0.01386, 0.002259, 0.007166], [2.97525, 5.23871, 7.35698, -0.01372, 0.002046, 0.004194], [5.05645, 5.19803, 0.30899, -0.003442, 0.002545, 0.003154], [9.11779, 5.24019, 7.39979, -0.002944, 0.002331, -2.3e-05]], [[6.13557, 0.01097, 1.69065, -0.003777, -0.004017, 0.000348], [10.19762, 0.05274, 8.78051, -0.004488, -0.004533, -0.00452], [-0.00837, 0.00941, 1.64782, 0.005896, 0.002128, 8e-06], [4.05366, 0.05118, 8.73767, 0.00569, 0.00193, -0.004755], [-0.00794, 3.55602, 1.59198, -0.000437, -0.0015, 0.000157], [4.05405, 3.59779, 8.68192, -0.000415, -0.001911, -0.004837], [6.13526, 3.55709, 1.63476, 0.001212, 0.000168, 0.000585], [-2.0895, 3.59664, 8.63919, 0.001031, -0.000268, -0.004465], [0.87902, 1.80352, 2.91798, -0.00606, -0.001922, 0.004287], [4.94108, 1.84514, 10.00777, -0.00678, -0.001895, -0.000425], [7.02221, 1.8046, 2.96076, -0.005772, -0.001486, 0.004212], [11.08427, 1.84622, 10.05054, -0.006369, -0.00154, -0.000223], [1.07062, 5.23879, 2.8653, 0.003532, -0.004791, 0.002763], [5.13267, 5.28063, 9.95509, 0.004056, -0.005702, -0.001985], [7.21432, 5.24006, 2.90798, 0.002434, -0.005639, 0.002892], [-1.01039, 5.27967, 9.91226, 0.002651, -0.006531, -0.00171], [-2.00075, 3.68697, 2.86833, 0.003812, 0.004148, 0.004657], [2.06094, 3.72864, 9.95805, 0.004973, 0.004688, -0.000416], [4.14265, 3.68822, 2.91121, 0.00452, 0.004579, 0.004265], [8.20434, 3.72988, 10.00094, 0.005558, 0.005215, -0.000679], [-0.89477, 1.7619, 0.32136, 0.004882, 0.001954, 0.001098], [3.16689, 1.80373, 7.4113, 0.005157, 0.002031, -0.002827], [5.24848, 1.76312, 0.36427, 0.00596, 0.002365, 0.001274], [9.31015, 1.80495, 7.45421, 0.006197, 0.002259, -0.002708], [1.98493, 3.64639, 0.31173, -0.002737, 0.006048, 0.003225], [6.04692, 3.68815, 7.40151, -0.002483, 0.006385, -0.000907], [8.12842, 3.64766, 0.35451, -0.004156, 0.0054, 0.003188], [-0.09637, 3.6872, 7.35877, -0.004099, 0.005387, -0.001085], [-1.08653, 5.1974, 0.26582, -0.005304, -0.002733, 0.001821], [2.97539, 5.23902, 7.35553, -0.005459, -0.003428, -0.002676], [5.05665, 5.19865, 0.30877, -0.004585, -0.003095, 0.001975], [9.11857, 5.24027, 7.39848, -0.00464, -0.003693, -0.002535]]]\n",
      "\n",
      " DFT data : volume of cell\n",
      "[1786.42, 1786.42, 1786.42, 1786.42, 1786.42]\n"
     ]
    }
   ],
   "source": [
    "# data contains a dictionary of DFT results \n",
    "# check the contents of this dictionary \n",
    "df_filtered_finished_data = df_finished[['Formula', 'Stacking', 'name', 'data','magmom_unitcell_x', 'magmom_unitcell_y', 'magmom_unitcell_z',\n",
    "       'magmom_total']].copy()\n",
    "#df_filtered_finished_data\n",
    "print(type(df_filtered_finished_data.iloc[0]['data']))\n",
    "print(\"\\n Types of DFT data\")\n",
    "print(df_filtered_finished_data.iloc[0]['data'].keys())\n",
    "print(\"\\n DFT data : LOOP+\")\n",
    "print(df_filtered_finished_data.iloc[0]['data'].get('LOOP+'))\n",
    "print(\"\\n DFT data : NIONS\")\n",
    "print(df_filtered_finished_data.iloc[0]['data'].get('NIONS'))\n",
    "print(\"\\n DFT data : NKDIM\")\n",
    "print(df_filtered_finished_data.iloc[0]['data'].get('NKDIM'))\n",
    "print(\"\\n DFT data : NBANDS\")\n",
    "print(df_filtered_finished_data.iloc[0]['data'].get('NBANDS'))\n",
    "print(\"\\n DFT data : energy\")\n",
    "print(df_filtered_finished_data.iloc[0]['data'].get('energy'))\n",
    "print(\"\\n DFT data : stress\")\n",
    "print(df_filtered_finished_data.iloc[0]['data'].get('stress'))\n",
    "print(\"\\n DFT data : retry_count\")\n",
    "print(df_filtered_finished_data.iloc[0]['data'].get('retry_count'))\n",
    "print(\"\\n DFT data : lattice_vecs\")\n",
    "print(df_filtered_finished_data.iloc[0]['data'].get('lattice_vecs'))\n",
    "print(\"\\n DFT data : total charge\")\n",
    "print(df_filtered_finished_data.iloc[0]['data'].get('total charge'))\n",
    "print(\"\\n DFT data : magnetization\")\n",
    "print(df_filtered_finished_data.iloc[0]['data'].get('magnetization'))\n",
    "print(\"\\n DFT data : position_force\")\n",
    "print(df_filtered_finished_data.iloc[0]['data'].get('position_force'))\n",
    "print(\"\\n DFT data : volume of cell\")\n",
    "print(df_filtered_finished_data.iloc[0]['data'].get('volume of cell'))"
   ]
  },
  {
   "cell_type": "code",
   "execution_count": null,
   "metadata": {},
   "outputs": [],
   "source": []
  }
 ],
 "metadata": {
  "kernelspec": {
   "display_name": "Python 3",
   "language": "python",
   "name": "python3"
  },
  "language_info": {
   "codemirror_mode": {
    "name": "ipython",
    "version": 3
   },
   "file_extension": ".py",
   "mimetype": "text/x-python",
   "name": "python",
   "nbconvert_exporter": "python",
   "pygments_lexer": "ipython3",
   "version": "3.8.3"
  }
 },
 "nbformat": 4,
 "nbformat_minor": 4
}
