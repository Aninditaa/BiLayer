{
 "cells": [
  {
   "cell_type": "code",
   "execution_count": null,
   "metadata": {},
   "outputs": [],
   "source": [
    "pip install django"
   ]
  },
  {
   "cell_type": "code",
   "execution_count": null,
   "metadata": {},
   "outputs": [],
   "source": [
    "pip install mendeleev"
   ]
  },
  {
   "cell_type": "code",
   "execution_count": 130,
   "metadata": {},
   "outputs": [],
   "source": [
    "import pandas as pd\n",
    "from mendeleev import element\n",
    "import numpy as np\n",
    "import pickle as pickle\n",
    "import matplotlib.pyplot as plt\n",
    "import pymatgen as mg\n",
    "from pymatgen.ext.matproj import MPRester\n",
    "import seaborn as sns\n",
    "import matplotlib.pyplot as plt"
   ]
  },
  {
   "cell_type": "code",
   "execution_count": 131,
   "metadata": {},
   "outputs": [],
   "source": [
    "# from a pandas dataframe from a pkl file.\n",
    "\n",
    "with open(\"C:\\\\RPI\\\\MI2DMaterials\\\\BiLayer\\\\code\\\\file\\\\AAX_bilayer_data_dump.pkl\", \"rb\") as f:\n",
    "    data = pickle.load(f)\n",
    "    \n",
    "df  = pd.DataFrame(data)"
   ]
  },
  {
   "cell_type": "code",
   "execution_count": 132,
   "metadata": {},
   "outputs": [
    {
     "name": "stdout",
     "output_type": "stream",
     "text": [
      "Total Jobs\n",
      "345\n",
      "['FAILED' 'JOB_FINISHED' 'RESTART_READY' 'RUN_TIMEOUT' 'PREPROCESSED']\n"
     ]
    }
   ],
   "source": [
    "# make another dataframe with only the jobs that are finished\n",
    "count_row = df.shape[0]  # Gives number of rows\n",
    "count_col = df.shape[1]  # Gives number of columns\n",
    "print('Total Jobs')\n",
    "print(count_row)\n",
    "print(df.state.unique())\n",
    "df_finished = df[df['state']=='JOB_FINISHED']\n"
   ]
  },
  {
   "cell_type": "code",
   "execution_count": 133,
   "metadata": {},
   "outputs": [
    {
     "name": "stdout",
     "output_type": "stream",
     "text": [
      "176\n",
      "57\n",
      "['Ir4Cl12' 'Zr2Ti2I12' 'Ti4Br12' 'Ni2Ir2Cl12' 'Mo2Ir2Br12' 'Zr2Ti2Br12'\n",
      " 'Cr2Ir2Br12' 'Ti2Ni2Br12' 'Cd2Ir2I12' 'Mo2Ir2Cl12' 'Ti2Ru2Cl12'\n",
      " 'Ti2Ni2Cl12' 'Cd2Ir2Br12' 'Ir2Ru2I12' 'Ir2Pd2Cl12' 'Ti4I12' 'Ir2Ru2Br12'\n",
      " 'Ti2Fe2I12' 'Fe2Ir2I12' 'Ti2Au2I12' 'Ir2Au2Br12' 'Ti2Zn2Cl12' 'Ti2Ni2I12'\n",
      " 'Ti2Ir2I12' 'Ir4Br12' 'Ti2Mo2I12' 'Cr2Ir2I12' 'Ti2Ru2Br12' 'Ti2Cd2Cl12'\n",
      " 'Ti2Cd2I12' 'Mo2Ir2I12' 'Ti2Pd2I12' 'Ti2Au2Cl12' 'Fe2Ir2Cl12' 'Ir4I12'\n",
      " 'Zn2Ir2Cl12' 'Zr2Ir2Cl12' 'Ti2Cd2Br12' 'Ni2Ir2Br12' 'Ti2Ru2I12'\n",
      " 'Ni2Ir2I12' 'Ti2Cr2Br12' 'Fe2Ir2Br12' 'Zr2Ir2Br12' 'Ti2Pd2Cl12'\n",
      " 'Ti2Cr2Cl12' 'Ti2Cr2I12' 'Zr2Ir2I12' 'Ti4Cl12' 'Ti2Zn2I12' 'Ti2Pd2Br12'\n",
      " 'Ir2Au2Cl12' 'Zn2Ir2I12' 'Ti2Au2Br12' 'Ti2Zn2Br12' 'Ir2Au2I12'\n",
      " 'Cd2Ir2Cl12']\n",
      "57\n"
     ]
    },
    {
     "name": "stderr",
     "output_type": "stream",
     "text": [
      "C:\\Users\\ghosh\\anaconda3\\lib\\site-packages\\pandas\\core\\frame.py:3191: SettingWithCopyWarning: \n",
      "A value is trying to be set on a copy of a slice from a DataFrame.\n",
      "Try using .loc[row_indexer,col_indexer] = value instead\n",
      "\n",
      "See the caveats in the documentation: https://pandas.pydata.org/pandas-docs/stable/user_guide/indexing.html#returning-a-view-versus-a-copy\n",
      "  self[k1] = value[k2]\n"
     ]
    }
   ],
   "source": [
    "# check for how many structures the calculation is finished\n",
    "# add two rows with the stacking details and formula\n",
    "print(len(df_finished))\n",
    "print(len(df_finished.workflow.unique()))\n",
    "df_finished[['Formula','Stacking']] = df_finished.workflow.str.split(\",\",expand=True)\n",
    "print(df_finished.Formula.unique())\n",
    "print(len(df_finished.workflow.unique()))\n",
    "# 57 unique formula "
   ]
  },
  {
   "cell_type": "code",
   "execution_count": null,
   "metadata": {},
   "outputs": [],
   "source": [
    "df.to_csv('AAX_RAW.csv')"
   ]
  },
  {
   "cell_type": "code",
   "execution_count": 134,
   "metadata": {},
   "outputs": [
    {
     "name": "stdout",
     "output_type": "stream",
     "text": [
      "<class 'collections.Counter'>\n",
      "[('Ir4Cl12',)]5\n",
      "\n",
      " No. of jobs for each structure\n",
      "{'Ir4Cl12': '5', 'Zr2Ti2I12': '2', 'Ti4Br12': '2', 'Ni2Ir2Cl12': '3', 'Mo2Ir2Br12': '4', 'Zr2Ti2Br12': '2', 'Cr2Ir2Br12': '3', 'Ti2Ni2Br12': '4', 'Cd2Ir2I12': '5', 'Mo2Ir2Cl12': '4', 'Ti2Ru2Cl12': '5', 'Ti2Ni2Cl12': '3', 'Cd2Ir2Br12': '5', 'Ir2Ru2I12': '4', 'Ir2Pd2Cl12': '5', 'Ti4I12': '2', 'Ir2Ru2Br12': '4', 'Ti2Fe2I12': '2', 'Fe2Ir2I12': '2', 'Ti2Au2I12': '2', 'Ir2Au2Br12': '2', 'Ti2Zn2Cl12': '5', 'Ti2Ni2I12': '2', 'Ti2Ir2I12': '1', 'Ir4Br12': '4', 'Ti2Mo2I12': '1', 'Cr2Ir2I12': '3', 'Ti2Ru2Br12': '3', 'Ti2Cd2Cl12': '5', 'Ti2Cd2I12': '4', 'Mo2Ir2I12': '3', 'Ti2Pd2I12': '2', 'Ti2Au2Cl12': '3', 'Fe2Ir2Cl12': '4', 'Ir4I12': '3', 'Zn2Ir2Cl12': '3', 'Zr2Ir2Cl12': '3', 'Ti2Cd2Br12': '5', 'Ni2Ir2Br12': '2', 'Ti2Ru2I12': '2', 'Ni2Ir2I12': '3', 'Ti2Cr2Br12': '1', 'Fe2Ir2Br12': '2', 'Zr2Ir2Br12': '4', 'Ti2Pd2Cl12': '4', 'Ti2Cr2Cl12': '2', 'Ti2Cr2I12': '1', 'Zr2Ir2I12': '3', 'Ti4Cl12': '4', 'Ti2Zn2I12': '3', 'Ti2Pd2Br12': '3', 'Ir2Au2Cl12': '4', 'Zn2Ir2I12': '2', 'Ti2Au2Br12': '3', 'Ti2Zn2Br12': '2', 'Ir2Au2I12': '3', 'Cd2Ir2Cl12': '4'}\n",
      "\n",
      " No. of unique structure\n",
      "57\n",
      "\n",
      " Total count of finished jobs\n",
      "176\n"
     ]
    }
   ],
   "source": [
    "# get an idea of how many jobs finihsed for each structure\n",
    "from collections import Counter\n",
    "#c = Counter(list(zip(df_finished.Stacking, df_finished.Formula)))\n",
    "c = Counter(list(zip(df_finished.Formula)))\n",
    "#print(c)\n",
    "print(type(c))\n",
    "dict_count = dict(c)\n",
    "#print(type(str(dict_count.keys)))\n",
    "\n",
    "dict_count_temp = []\n",
    "for key, val in dict_count.items():\n",
    "    dict_count_temp.append(str([key])+ str(val))\n",
    "\n",
    "#print(type(str(dict_count_temp)))\n",
    "print(dict_count_temp[0])\n",
    "dict_with_job_count = {}\n",
    "\n",
    "count = 0 \n",
    "\n",
    "for temp in dict_count_temp:\n",
    "    #print(temp)\n",
    "    val = temp[-1:]\n",
    "    count = count + int(val)\n",
    "    key_temp = temp[3: temp.rfind(',')]\n",
    "    key = key_temp.replace(\"'\", \"\")\n",
    "    #print(val)\n",
    "    dict_with_job_count.update({key: val})\n",
    "print(\"\\n No. of jobs for each structure\")\n",
    "print(dict_with_job_count)\n",
    "\n",
    "print(\"\\n No. of unique structure\")\n",
    "\n",
    "print(len(dict_with_job_count))\n",
    "\n",
    "print(\"\\n Total count of finished jobs\")\n",
    "\n",
    "print(count)"
   ]
  },
  {
   "cell_type": "code",
   "execution_count": 135,
   "metadata": {},
   "outputs": [
    {
     "data": {
      "text/plain": [
       "Index(['_state', 'job_id', 'workflow', 'name', 'description', 'lock', 'tick',\n",
       "       'parents', 'input_files', 'stage_in_url', 'stage_out_files',\n",
       "       'stage_out_url', 'wall_time_minutes', 'num_nodes',\n",
       "       'coschedule_num_nodes', 'ranks_per_node', 'cpu_affinity',\n",
       "       'threads_per_rank', 'threads_per_core', 'node_packing_count',\n",
       "       'environ_vars', 'application', 'args', 'user_workdir',\n",
       "       'wait_for_parents', 'post_error_handler', 'post_timeout_handler',\n",
       "       'auto_timeout_retry', 'state', 'state_history', 'queued_launch_id',\n",
       "       'data'],\n",
       "      dtype='object')"
      ]
     },
     "execution_count": 135,
     "metadata": {},
     "output_type": "execute_result"
    }
   ],
   "source": [
    "df.columns"
   ]
  },
  {
   "cell_type": "code",
   "execution_count": 136,
   "metadata": {},
   "outputs": [],
   "source": [
    "# data contains a dictionary of DFT results \n",
    "# check the contents of this dictionary \n",
    "df_filtered_finished_data = df_finished[['Formula', 'Stacking', 'name', 'data']].copy()\n",
    "#df_filtered_finished_data\n",
    "#print(type(df_filtered_finished_data.iloc[0]['data']))\n",
    "#print(\"\\n Types of DFT data\")\n",
    "#print(df_filtered_finished_data.iloc[0]['data'].keys())\n",
    "#print(\"\\n DFT data : LOOP+\")\n",
    "#print(df_filtered_finished_data.iloc[0]['data'].get('LOOP+'))\n",
    "#print(\"\\n DFT data : NIONS\")\n",
    "#print(df_filtered_finished_data.iloc[0]['data'].get('NIONS'))\n",
    "#print(\"\\n DFT data : NKDIM\")\n",
    "#print(df_filtered_finished_data.iloc[0]['data'].get('NKDIM'))\n",
    "#print(\"\\n DFT data : NBANDS\")\n",
    "#print(df_filtered_finished_data.iloc[0]['data'].get('NBANDS'))\n",
    "#print(\"\\n DFT data : energy\")\n",
    "#print(df_filtered_finished_data.iloc[0]['data'].get('energy'))\n",
    "#print(\"\\n DFT data : stress\")\n",
    "#print(df_filtered_finished_data.iloc[0]['data'].get('stress'))\n",
    "#print(\"\\n DFT data : retry_count\")\n",
    "#print(df_filtered_finished_data.iloc[0]['data'].get('retry_count'))\n",
    "#print(\"\\n DFT data : lattice_vecs\")\n",
    "#print(df_filtered_finished_data.iloc[0]['data'].get('lattice_vecs'))\n",
    "#print(\"\\n DFT data : total charge\")\n",
    "#print(df_filtered_finished_data.iloc[0]['data'].get('total charge'))\n",
    "#print(\"\\n DFT data : magnetization\")\n",
    "#print(df_filtered_finished_data.iloc[0]['data'].get('magnetization'))\n",
    "#print(\"\\n DFT data : position_force\")\n",
    "#print(df_filtered_finished_data.iloc[0]['data'].get('position_force'))\n",
    "#print(\"\\n DFT data : volume of cell\")\n",
    "#print(df_filtered_finished_data.iloc[0]['data'].get('volume of cell'))"
   ]
  },
  {
   "cell_type": "code",
   "execution_count": 137,
   "metadata": {},
   "outputs": [
    {
     "name": "stdout",
     "output_type": "stream",
     "text": [
      "176\n"
     ]
    }
   ],
   "source": [
    "count_row = df_filtered_finished_data.shape[0]  # Gives number of rows\n",
    "count_col = df_filtered_finished_data.shape[1]  # Gives number of columns\n",
    "print(count_row)"
   ]
  },
  {
   "cell_type": "code",
   "execution_count": 138,
   "metadata": {},
   "outputs": [],
   "source": [
    "\n",
    "def parse_data_to_form_columns(df):\n",
    "    \n",
    "    #input: dataframe containing the energy data\n",
    "    \n",
    "    #output: input dataframe with added columns from the 'data' column i.e. energy, LOOP+, etc.\n",
    "    \n",
    "    rownum = 0\n",
    "    rownum = len(df)\n",
    "    print(rownum) # number of rows in the dataframe\n",
    "    \n",
    "    loop= []\n",
    "    nions= []\n",
    "    nkdim= []\n",
    "    nbannds= []\n",
    "    energy= []\n",
    "    stress= []\n",
    "    retry= []\n",
    "    lattice_vecs= []\n",
    "    charge= []\n",
    "    magnetization= []\n",
    "    position_force= []\n",
    "    vol= []\n",
    "    \n",
    "    \n",
    "    \n",
    "\n",
    "    for i in range(rownum) :\n",
    "        loop.append(df.iloc[i]['data'].get('LOOP+'))\n",
    "        nions.append(df.iloc[i]['data'].get('NIONS'))\n",
    "        nkdim.append(df.iloc[i]['data'].get('NKDIM'))\n",
    "        nbannds.append(df.iloc[i]['data'].get('NBANDS'))\n",
    "        energy.append(df.iloc[i]['data'].get('energy'))\n",
    "        stress.append(df.iloc[i]['data'].get('stress'))\n",
    "        retry.append(df.iloc[i]['data'].get('retry_count'))\n",
    "        lattice_vecs.append(df.iloc[i]['data'].get('lattice_vecs'))\n",
    "        charge.append(df.iloc[i]['data'].get('total charge'))\n",
    "        magnetization.append(df.iloc[i]['data'].get('magnetization'))\n",
    "        position_force.append(df.iloc[i]['data'].get('position_force'))\n",
    "        vol.append(df.iloc[i]['data'].get('volume of cell'))\n",
    "   \n",
    "    df['LOOP+'] = loop\n",
    "    df['NIONS'] = nions\n",
    "    df['NKDIM'] = nkdim\n",
    "    df['NBANDS'] = nbannds\n",
    "    df['energy'] = energy\n",
    "    df['stress'] = stress\n",
    "    df['retry_count'] = retry\n",
    "    df['lattice_vecs'] = lattice_vecs\n",
    "    df['total charge'] = charge\n",
    "    df['magnetization'] = magnetization\n",
    "    df['position_force'] = position_force\n",
    "    df['volume of cell'] = vol\n",
    "    return df"
   ]
  },
  {
   "cell_type": "code",
   "execution_count": 139,
   "metadata": {},
   "outputs": [
    {
     "name": "stdout",
     "output_type": "stream",
     "text": [
      "176\n"
     ]
    },
    {
     "data": {
      "text/plain": [
       "Index(['Formula', 'Stacking', 'name', 'data', 'LOOP+', 'NIONS', 'NKDIM',\n",
       "       'NBANDS', 'energy', 'stress', 'retry_count', 'lattice_vecs',\n",
       "       'total charge', 'magnetization', 'position_force', 'volume of cell'],\n",
       "      dtype='object')"
      ]
     },
     "execution_count": 139,
     "metadata": {},
     "output_type": "execute_result"
    }
   ],
   "source": [
    "parse_data_to_form_columns(df_filtered_finished_data)\n",
    "df_filtered_finished_data.columns\n",
    "# Index(['Formula', 'Stacking', 'name', 'data'], dtype='object')\n"
   ]
  },
  {
   "cell_type": "code",
   "execution_count": 140,
   "metadata": {},
   "outputs": [],
   "source": [
    "# Take the most relaxed energy , if the energy is a list take the last one , if float keep it\n",
    "def get_energy_data(df):\n",
    "    \"\"\"Get the dataframe as an input and get the energy data present in the 'data' \n",
    "    column of the dataframe to retrieve the most relaxed energy for that material.\n",
    "    \"\"\"\n",
    "    rownum = len(df)\n",
    "    relaxed_Energy = []\n",
    "    for i in range(rownum) :\n",
    "        if isinstance(df.iloc[i]['energy'],list):\n",
    "            energy_temp = []\n",
    "            energy_temp = df.iloc[i]['energy']\n",
    "            relaxed_Energy.append(energy_temp[-1])\n",
    "        else:\n",
    "            relaxed_Energy.append(df.iloc[i]['energy'])\n",
    "            \n",
    "    df['relaxed_Energy'] = relaxed_Energy \n",
    "    return df"
   ]
  },
  {
   "cell_type": "code",
   "execution_count": 141,
   "metadata": {},
   "outputs": [
    {
     "name": "stdout",
     "output_type": "stream",
     "text": [
      "176\n"
     ]
    }
   ],
   "source": [
    "df_filtered_finished_data = get_energy_data(df_filtered_finished_data)\n",
    "count_row = df_filtered_finished_data.shape[0]  # Gives number of rows\n",
    "count_col = df_filtered_finished_data.shape[1]  # Gives number of columns\n",
    "print(count_row)"
   ]
  },
  {
   "cell_type": "code",
   "execution_count": 142,
   "metadata": {},
   "outputs": [],
   "source": [
    "mprest = MPRester('PzoyfeSvTTxngtLA')"
   ]
  },
  {
   "cell_type": "code",
   "execution_count": 143,
   "metadata": {},
   "outputs": [],
   "source": [
    "def get_sum_individual_energies(df):\n",
    "\n",
    "    # Add coulms with 'sum_individual_energy' , 'elements_present', and  composition. \n",
    "    # sum_individual_energy = sum of energy per atom (min) from materials projects for each formula\n",
    "    # elements_present is a list of elements\n",
    "    # composition is a dictionary with keys as elements and value as its count.\n",
    "    \n",
    "    rownum = len(df)\n",
    "    sum_individual_energy = []\n",
    "    elements_present = []\n",
    "    composition = []\n",
    "\n",
    "    for i in range(rownum) :\n",
    "        formula = df.iloc[i]['Formula']\n",
    "        arr_of_elements = mg.Composition(formula)\n",
    "        num_of_elements = arr_of_elements.get_el_amt_dict()\n",
    "        \n",
    "        # num_of_elements is a dictionary Ir4Cl12 : {'Ir': 4.0, 'Cl': 12.0})\n",
    "        \n",
    "        elements_present.append(list(num_of_elements.keys()))\n",
    "        composition.append(dict(num_of_elements))\n",
    "        \n",
    "        sum_individual_energies = 0\n",
    "        # Ir -8.83  cl - 7.39\n",
    "        for elem in arr_of_elements:\n",
    "            en = mprest.get_data(elem) # has all values from material projects\n",
    "            en = [x['energy_per_atom'] for x in en] # has multiple energies\n",
    "            #if en:\n",
    "            en = np.min(en)*num_of_elements[str(elem)] # choose the lowest energy and multiply with no.of atoms\n",
    "            #else:\n",
    "                #en = -0.142        \n",
    "            sum_individual_energies = sum_individual_energies + en\n",
    "        \n",
    "        sum_individual_energy.append(sum_individual_energies)\n",
    "    \n",
    "    df['sum_individual_energy'] = sum_individual_energy \n",
    "    df['elements_present'] = elements_present \n",
    "    df['composition'] = composition \n",
    "    print(get_sum_individual_energies)\n",
    "    return df"
   ]
  },
  {
   "cell_type": "code",
   "execution_count": 144,
   "metadata": {},
   "outputs": [
    {
     "name": "stdout",
     "output_type": "stream",
     "text": [
      "<function get_sum_individual_energies at 0x000002E7C8826040>\n",
      "176\n"
     ]
    }
   ],
   "source": [
    "df_filtered_finished_data = get_sum_individual_energies(df_filtered_finished_data)\n",
    "count_row = df_filtered_finished_data.shape[0]  # Gives number of rows\n",
    "count_col = df_filtered_finished_data.shape[1]  # Gives number of columns\n",
    "print(count_row)"
   ]
  },
  {
   "cell_type": "code",
   "execution_count": 145,
   "metadata": {},
   "outputs": [],
   "source": [
    "def get_formation_energy(df):\n",
    "    # formation_energy = relaxed_Energy - sum_individual_energy\n",
    "    rownum = len(df)\n",
    "    formation_energy = []\n",
    "\n",
    "    for i in range(rownum) :\n",
    "        formation_energy_val = 0\n",
    "        formation_energy_val_float = 0\n",
    "        relaxed_Energy = df.iloc[i]['relaxed_Energy']\n",
    "        sum_individual_energy = df.iloc[i]['sum_individual_energy']\n",
    "\n",
    "        formation_energy_val = relaxed_Energy - sum_individual_energy\n",
    "        #formation_energy_val_float = formation_energy_val.item()\n",
    "        formation_energy.append(formation_energy_val)       \n",
    "    \n",
    "    df['formation_energy'] = formation_energy\n",
    "    \n",
    "    return df"
   ]
  },
  {
   "cell_type": "code",
   "execution_count": 146,
   "metadata": {},
   "outputs": [
    {
     "name": "stdout",
     "output_type": "stream",
     "text": [
      "176\n"
     ]
    }
   ],
   "source": [
    "df_filtered_finished_data = get_formation_energy(df_filtered_finished_data)\n",
    "count_row = df_filtered_finished_data.shape[0]  # Gives number of rows\n",
    "count_col = df_filtered_finished_data.shape[1]  # Gives number of columns\n",
    "print(count_row)"
   ]
  },
  {
   "cell_type": "code",
   "execution_count": 147,
   "metadata": {},
   "outputs": [
    {
     "name": "stdout",
     "output_type": "stream",
     "text": [
      "count    176.000000\n",
      "mean     -70.034593\n",
      "std       13.708047\n",
      "min     -104.279224\n",
      "25%      -79.833499\n",
      "50%      -68.288990\n",
      "75%      -60.062864\n",
      "max      -43.234708\n",
      "Name: formation_energy, dtype: float64\n"
     ]
    }
   ],
   "source": [
    "from statistics import mean, median\n",
    "\n",
    "formation_energy = df_filtered_finished_data['formation_energy']\n",
    "#formation_energy_np = formation_energy.to_numpy(),linspace()\n",
    "\n",
    "print(df_filtered_finished_data['formation_energy'].describe())\n"
   ]
  },
  {
   "cell_type": "code",
   "execution_count": 148,
   "metadata": {},
   "outputs": [
    {
     "data": {
      "text/plain": [
       "Text(0, 0.5, 'Frequency')"
      ]
     },
     "execution_count": 148,
     "metadata": {},
     "output_type": "execute_result"
    },
    {
     "data": {
      "image/png": "[encoded data removed]",
      "text/plain": [
       "<Figure size 432x288 with 1 Axes>"
      ]
     },
     "metadata": {
      "needs_background": "light"
     },
     "output_type": "display_data"
    }
   ],
   "source": [
    "plt.hist(df_filtered_finished_data['formation_energy'],alpha=0.5)\n",
    "plt.title('Histogram of Formation Energy')\n",
    "plt.xlabel('Formation Energy')\n",
    "plt.ylabel('Frequency')"
   ]
  },
  {
   "cell_type": "code",
   "execution_count": 149,
   "metadata": {},
   "outputs": [],
   "source": [
    "# check for transition elements and halides in the formula\n",
    "\n",
    "transition_elements_dict = {'Ti': 'titanium', 'V': 'vanadium','Cr': 'chromium','Mn': 'manganese','Fe': 'iron',\n",
    "           'Co': 'cobalt','Ni': 'nickel','Cu': 'copper','Zr': 'zirconium','Nb': 'niobium',\n",
    "           'Mo': 'molybdenum','Tc': 'technetium','Ru': 'ruthenium','Rh': 'rhodium','Pd': 'palladium',\n",
    "           'Ag': 'silver','Hf': 'hafnium','Ta': 'tantalum','W': 'tungsten','Re': 'rhenium',\n",
    "           'Os': 'osmium','Ir': 'iridium','Pt': 'platinum','Au': 'gold', 'Sc': 'scandium',\n",
    "           'Zn': 'zinc','Y': 'yttrium','Cd': 'cadmium','Hg': 'mercury','Rf': 'rutherfordium',\n",
    "           'Db': 'dubnium','Sg': 'seaborgium','Bh': 'bohrium','Hs': 'hassium','Mt': 'meitnerium',\n",
    "           'Uun':'ununnilium','Uuu': 'unununium','Uub': 'unubium'}\n",
    "transition_metal_symbol = list(transition_elements_dict.keys())\n",
    "count = 0\n",
    "for symbol in transition_metal_symbol:\n",
    "    count = count +1\n",
    "\n",
    "def classify_based_on_transition_metal( formula ):\n",
    "   \n",
    "   list_of_transition_metal = []\n",
    "   for symbol in transition_metal_symbol:\n",
    "    if(symbol in formula):\n",
    "        list_of_transition_metal.append(symbol)\n",
    "   return list_of_transition_metal\n",
    "\n",
    "\n",
    "\n",
    "def has_key_in(string):\n",
    "  return any(k in string for k in transition_elements_dict)\n",
    "\n",
    "halides_dict = {'F': 'Fluoride', 'Cl': 'Chloride','Br': 'Bromide','I': 'Iodide'}\n",
    "halide_symbol = list(halides_dict.keys())\n",
    "\n",
    "\n",
    "def classify_based_on_halides( formula ):\n",
    "   \n",
    "   list_of_halides = []\n",
    "   for symbol in halide_symbol:\n",
    "    if(symbol in formula):\n",
    "        list_of_halides.append(symbol)\n",
    "   return list_of_halides\n"
   ]
  },
  {
   "cell_type": "code",
   "execution_count": 150,
   "metadata": {},
   "outputs": [],
   "source": [
    "def check_for_transition_metal(df):\n",
    "    # transition_element will contain a list of transition elements present\n",
    "    rownum = len(df)\n",
    "    transition_element = []\n",
    "\n",
    "    for i in range(rownum) :\n",
    "        tranistion_ele = []\n",
    "        \n",
    "        elements_present = df.iloc[i]['elements_present']\n",
    "        \n",
    "        tranistion_ele = classify_based_on_transition_metal(elements_present)\n",
    "        \n",
    "        transition_element.append(tranistion_ele)\n",
    "        \n",
    "    df['Transition_Element'] = transition_element\n",
    "    \n",
    "    return df"
   ]
  },
  {
   "cell_type": "code",
   "execution_count": 151,
   "metadata": {},
   "outputs": [],
   "source": [
    "def check_for_halides(df):\n",
    "    # halides will contain a halides that is present\n",
    "    rownum = len(df)\n",
    "    halides = []\n",
    "\n",
    "    for i in range(rownum) :\n",
    "        halide_ele = []\n",
    "        \n",
    "        elements_present = df.iloc[i]['elements_present']\n",
    "        \n",
    "        halide_ele = classify_based_on_halides(elements_present)\n",
    "        \n",
    "        halides.append(halide_ele) \n",
    "        \n",
    "    df['Halides'] = halides\n",
    "    \n",
    "    return df"
   ]
  },
  {
   "cell_type": "code",
   "execution_count": 152,
   "metadata": {},
   "outputs": [
    {
     "name": "stdout",
     "output_type": "stream",
     "text": [
      "176\n"
     ]
    }
   ],
   "source": [
    "df_filtered_finished_data = check_for_transition_metal(df_filtered_finished_data)\n",
    "df_filtered_finished_data = check_for_halides(df_filtered_finished_data)\n",
    "\n",
    "count_row = df_filtered_finished_data.shape[0]  # Gives number of rows\n",
    "count_col = df_filtered_finished_data.shape[1]  # Gives number of columns\n",
    "print(count_row)"
   ]
  },
  {
   "cell_type": "code",
   "execution_count": 153,
   "metadata": {},
   "outputs": [
    {
     "name": "stdout",
     "output_type": "stream",
     "text": [
      "Count of transition element in dictionary ( x axis)\n",
      "38\n",
      "Presence of Transition Element in the data set :\n",
      "{'Ti': 80, 'V': 0, 'Cr': 10, 'Mn': 0, 'Fe': 10, 'Co': 0, 'Ni': 17, 'Cu': 0, 'Zr': 14, 'Nb': 0, 'Mo': 12, 'Tc': 0, 'Ru': 18, 'Rh': 0, 'Pd': 14, 'Ag': 0, 'Hf': 0, 'Ta': 0, 'W': 0, 'Re': 0, 'Os': 0, 'Ir': 97, 'Pt': 0, 'Au': 17, 'Sc': 0, 'Zn': 15, 'Y': 0, 'Cd': 28, 'Hg': 0, 'Rf': 0, 'Db': 0, 'Sg': 0, 'Bh': 0, 'Hs': 0, 'Mt': 0, 'Uun': 0, 'Uuu': 0, 'Uub': 0}\n"
     ]
    },
    {
     "data": {
      "image/png": "[encoded data removed]",
      "text/plain": [
       "<Figure size 1440x216 with 1 Axes>"
      ]
     },
     "metadata": {
      "needs_background": "light"
     },
     "output_type": "display_data"
    }
   ],
   "source": [
    "count = 0\n",
    "d = { }\n",
    "\n",
    "for ele in transition_metal_symbol:\n",
    "    count = count +1\n",
    "print(\"Count of transition element in dictionary ( x axis)\")    \n",
    "print(count)\n",
    "#df_filtered_finished_data.Transition_Element\n",
    "\n",
    "list_of_list_of_transition_metal = np.array(df_filtered_finished_data.Transition_Element)\n",
    "\n",
    "\n",
    "#print(list_of_normalized_moment)\n",
    "#print(list_of_list_of_transition_metal)\n",
    "#transition_metal_symbol = ['Fe']\n",
    "\n",
    "for ele in transition_metal_symbol:\n",
    "    count = 0\n",
    "    for each_list in df_filtered_finished_data.Transition_Element:\n",
    "        if ele in each_list:\n",
    "            count = count +1 \n",
    "            #print(df_heatmap.normalized_moment)\n",
    "    d[ele] = count\n",
    "print(\"Presence of Transition Element in the data set :\")\n",
    "print(d)\n",
    "\n",
    "plt.figure(figsize=(20, 3))  # width:20, height:3\n",
    "#plt.bar(range(len(my_dict)), my_dict.values(), align='edge', width=0.3)\n",
    "\n",
    "plt.bar(range(len(d)), list(d.values()), align='edge', width=0.5)\n",
    "plt.xticks(range(len(d)), list(d.keys()))\n",
    "plt.title('Plot of count of compound containing transition elements')\n",
    "plt.xlabel('transition elements')\n",
    "plt.ylabel('count')\n",
    "plt.grid(axis='y', alpha=0.75)\n",
    "plt.show()"
   ]
  },
  {
   "cell_type": "code",
   "execution_count": 154,
   "metadata": {},
   "outputs": [
    {
     "name": "stdout",
     "output_type": "stream",
     "text": [
      "Count of Halides in dictionary ( x axis)\n",
      "4\n",
      "Presence of Halides in the data set :\n",
      "{'F': 0, 'Cl': 66, 'Br': 55, 'I': 55}\n"
     ]
    },
    {
     "data": {
      "image/png": "[encoded data removed]",
      "text/plain": [
       "<Figure size 1440x216 with 1 Axes>"
      ]
     },
     "metadata": {
      "needs_background": "light"
     },
     "output_type": "display_data"
    }
   ],
   "source": [
    "count = 0\n",
    "d = { }\n",
    "\n",
    "for ele in halide_symbol:\n",
    "    count = count +1\n",
    "print(\"Count of Halides in dictionary ( x axis)\")    \n",
    "print(count)\n",
    "#df_filtered_finished_data.Transition_Element\n",
    "\n",
    "list_of_list_of_halides = np.array(df_filtered_finished_data.Halides)\n",
    "\n",
    "for ele in halide_symbol:\n",
    "    count = 0\n",
    "    for each_list in df_filtered_finished_data.Halides:\n",
    "        if ele in each_list:\n",
    "            count = count +1 \n",
    "            #print(df_heatmap.normalized_moment)\n",
    "    d[ele] = count\n",
    "print(\"Presence of Halides in the data set :\")\n",
    "print(d)\n",
    "\n",
    "plt.figure(figsize=(20, 3))  # width:20, height:3\n",
    "#plt.bar(range(len(my_dict)), my_dict.values(), align='edge', width=0.3)\n",
    "\n",
    "plt.bar(range(len(d)), list(d.values()), align='edge', width=0.5)\n",
    "plt.xticks(range(len(d)), list(d.keys()))\n",
    "plt.title('Plot of count of compound containing Halides')\n",
    "plt.xlabel('transition elements')\n",
    "plt.ylabel('count')\n",
    "plt.grid(axis='y', alpha=0.75)\n",
    "plt.show()"
   ]
  },
  {
   "cell_type": "code",
   "execution_count": 158,
   "metadata": {},
   "outputs": [],
   "source": [
    "def add_descriptors_from_mendeleev(df):\n",
    "    # add descriptors from medeleev package \n",
    "    # each property is multiplied with the count of individual atom and then added to get the sum for the compound\n",
    "    rownum = len(df)\n",
    "\n",
    "    \n",
    "    total_electron_count = [] # addition of atomic no.\n",
    "    \n",
    "    total_nvalence = []\n",
    "    total_heat_of_formation = []\n",
    "    total_unpaired_electrons = []\n",
    "    total_electron_affinity = []\n",
    "    total_en_ghosh = []\n",
    "    total_en_pauling = []\n",
    "    total_dipole_polarizability = []\n",
    "\n",
    "    for i in range(rownum) :\n",
    "        total_electron_count_temp = 0\n",
    "        \n",
    "        total_nvalence_temp = 0\n",
    "        total_heat_of_formation_temp = 0\n",
    "        total_unpaired_electrons_temp = 0\n",
    "        total_electron_affinity_temp = 0\n",
    "        total_en_ghosh_temp = 0\n",
    "        total_en_pauling_temp = 0\n",
    "        total_dipole_polarizability_temp = 0\n",
    "        \n",
    "        \n",
    "        composition = df.iloc[i]['composition']\n",
    "        elements_present = list(composition.keys())\n",
    "\n",
    "        \n",
    "        for elem in elements_present: \n",
    "             \n",
    "            atom_count = composition.get(elem)\n",
    "            \n",
    "            atomic_number = element(str(elem)).atomic_number\n",
    "            \n",
    "            dipole_polarizability = element(str(elem)).dipole_polarizability\n",
    "            electron_affinity =element(str(elem)).electron_affinity\n",
    "            en_ghosh = element(str(elem)).en_ghosh\n",
    "            en_pauling = element(str(elem)).en_pauling\n",
    "            nvalence =  element(str(elem)).nvalence()\n",
    "            heat_of_formation = element(str(elem)).heat_of_formation\n",
    "            electronic_config = element(str(elem)).ec\n",
    "            unpaired_electrons = electronic_config.unpaired_electrons()\n",
    "            \n",
    "\n",
    "            \n",
    "            total_electron_count_temp = total_electron_count_temp + (atomic_number*atom_count)\n",
    "            \n",
    "            total_nvalence_temp = total_nvalence_temp + (nvalence*atom_count)\n",
    "            total_heat_of_formation_temp = total_heat_of_formation_temp + (heat_of_formation*atom_count)\n",
    "            total_unpaired_electrons_temp = total_unpaired_electrons_temp + (unpaired_electrons*atom_count)\n",
    "            \n",
    "            total_electron_affinity_temp = total_electron_affinity_temp + ((float(0 if electron_affinity is None else electron_affinity))*atom_count)\n",
    "                \n",
    "            total_en_ghosh_temp = total_en_ghosh_temp + (en_ghosh*atom_count)\n",
    "            total_en_pauling_temp = total_en_pauling_temp + (en_pauling*atom_count)\n",
    "            total_dipole_polarizability_temp = total_dipole_polarizability_temp + (dipole_polarizability*atom_count)\n",
    "        \n",
    "            \n",
    "        total_electron_count.append(total_electron_count_temp)\n",
    "        \n",
    "        total_nvalence.append(total_nvalence_temp)\n",
    "        total_heat_of_formation.append(total_heat_of_formation_temp)\n",
    "        total_unpaired_electrons.append(total_unpaired_electrons_temp)\n",
    "        total_electron_affinity.append(total_electron_affinity_temp)\n",
    "        total_en_ghosh.append(total_en_ghosh_temp)\n",
    "        total_en_pauling.append(total_en_pauling_temp)\n",
    "        total_dipole_polarizability.append(total_dipole_polarizability_temp)\n",
    "    \n",
    "        \n",
    "    df['total_electron_count'] = total_electron_count\n",
    "    \n",
    "    df['total_nvalence'] = total_nvalence\n",
    "    df['total_heat_of_formation'] = total_heat_of_formation\n",
    "    df['total_unpaired_electrons'] = total_unpaired_electrons\n",
    "    df['total_electron_affinity'] = total_electron_affinity\n",
    "    df['total_en_ghosh'] = total_en_ghosh\n",
    "    df['total_en_pauling'] = total_en_pauling\n",
    "    df['total_dipole_polarizability'] = total_dipole_polarizability\n",
    "    \n",
    "    return df"
   ]
  },
  {
   "cell_type": "code",
   "execution_count": 159,
   "metadata": {},
   "outputs": [
    {
     "name": "stdout",
     "output_type": "stream",
     "text": [
      "176\n"
     ]
    }
   ],
   "source": [
    "df_filtered_finished_data = add_descriptors_from_mendeleev(df_filtered_finished_data)\n",
    "count_row = df_filtered_finished_data.shape[0]  # Gives number of rows\n",
    "count_col = df_filtered_finished_data.shape[1]  # Gives number of columns\n",
    "print(count_row)"
   ]
  },
  {
   "cell_type": "code",
   "execution_count": 160,
   "metadata": {},
   "outputs": [
    {
     "data": {
      "text/html": [
       "<div>\n",
       "<style scoped>\n",
       "    .dataframe tbody tr th:only-of-type {\n",
       "        vertical-align: middle;\n",
       "    }\n",
       "\n",
       "    .dataframe tbody tr th {\n",
       "        vertical-align: top;\n",
       "    }\n",
       "\n",
       "    .dataframe thead th {\n",
       "        text-align: right;\n",
       "    }\n",
       "</style>\n",
       "<table border=\"1\" class=\"dataframe\">\n",
       "  <thead>\n",
       "    <tr style=\"text-align: right;\">\n",
       "      <th></th>\n",
       "      <th>Formula</th>\n",
       "      <th>Stacking</th>\n",
       "      <th>name</th>\n",
       "      <th>data</th>\n",
       "      <th>LOOP+</th>\n",
       "      <th>NIONS</th>\n",
       "      <th>NKDIM</th>\n",
       "      <th>NBANDS</th>\n",
       "      <th>energy</th>\n",
       "      <th>stress</th>\n",
       "      <th>...</th>\n",
       "      <th>Transition_Element</th>\n",
       "      <th>Halides</th>\n",
       "      <th>total_electron_count</th>\n",
       "      <th>total_nvalence</th>\n",
       "      <th>total_heat_of_formation</th>\n",
       "      <th>total_unpaired_electrons</th>\n",
       "      <th>total_electron_affinity</th>\n",
       "      <th>total_en_ghosh</th>\n",
       "      <th>total_en_pauling</th>\n",
       "      <th>total_dipole_polarizability</th>\n",
       "    </tr>\n",
       "  </thead>\n",
       "  <tbody>\n",
       "    <tr>\n",
       "      <th>1</th>\n",
       "      <td>Ir4Cl12</td>\n",
       "      <td>ABstacking</td>\n",
       "      <td>spin</td>\n",
       "      <td>{'LOOP+': [444.2358, 103.2472, 147.5554, 183.8...</td>\n",
       "      <td>[444.2358, 103.2472, 147.5554, 183.8595]</td>\n",
       "      <td>32</td>\n",
       "      <td>34</td>\n",
       "      <td>176</td>\n",
       "      <td>[-130.45522294, -130.45541663, -130.45530501, ...</td>\n",
       "      <td>[[[XX, YY, ZZ, XY, YZ, ZX], [[-1.03806, -1.109...</td>\n",
       "      <td>...</td>\n",
       "      <td>[Ir]</td>\n",
       "      <td>[Cl]</td>\n",
       "      <td>512.0</td>\n",
       "      <td>120.0</td>\n",
       "      <td>4131.624</td>\n",
       "      <td>24.0</td>\n",
       "      <td>49.607900</td>\n",
       "      <td>4.169876</td>\n",
       "      <td>46.72</td>\n",
       "      <td>391.2</td>\n",
       "    </tr>\n",
       "    <tr>\n",
       "      <th>3</th>\n",
       "      <td>Zr2Ti2I12</td>\n",
       "      <td>ABstacking</td>\n",
       "      <td>initial</td>\n",
       "      <td>{'LOOP+': [1593.245, 326.0933, 396.8862, 308.7...</td>\n",
       "      <td>[1593.245, 326.0933, 396.8862, 308.7425, 377.3...</td>\n",
       "      <td>32</td>\n",
       "      <td>34</td>\n",
       "      <td>192</td>\n",
       "      <td>[-128.8407076, -128.7730153, -128.2104543, -12...</td>\n",
       "      <td>[[[XX, YY, ZZ, XY, YZ, ZX], [[17.42665, 12.875...</td>\n",
       "      <td>...</td>\n",
       "      <td>[Ti, Zr]</td>\n",
       "      <td>[I]</td>\n",
       "      <td>760.0</td>\n",
       "      <td>100.0</td>\n",
       "      <td>3447.084</td>\n",
       "      <td>20.0</td>\n",
       "      <td>37.718442</td>\n",
       "      <td>3.130716</td>\n",
       "      <td>37.66</td>\n",
       "      <td>818.8</td>\n",
       "    </tr>\n",
       "    <tr>\n",
       "      <th>5</th>\n",
       "      <td>Ti4Br12</td>\n",
       "      <td>ABstacking</td>\n",
       "      <td>initial</td>\n",
       "      <td>{'LOOP+': [696.6812, 209.2252, 150.3886, 121.2...</td>\n",
       "      <td>[696.6812, 209.2252, 150.3886, 121.282, 220.83...</td>\n",
       "      <td>32</td>\n",
       "      <td>34</td>\n",
       "      <td>192</td>\n",
       "      <td>[-139.93458187, -140.59615028, -141.16280557, ...</td>\n",
       "      <td>[[[XX, YY, ZZ, XY, YZ, ZX], [[16.18543, 15.309...</td>\n",
       "      <td>...</td>\n",
       "      <td>[Ti]</td>\n",
       "      <td>[Br]</td>\n",
       "      <td>508.0</td>\n",
       "      <td>100.0</td>\n",
       "      <td>3234.200</td>\n",
       "      <td>20.0</td>\n",
       "      <td>40.679058</td>\n",
       "      <td>3.388548</td>\n",
       "      <td>41.68</td>\n",
       "      <td>652.0</td>\n",
       "    </tr>\n",
       "    <tr>\n",
       "      <th>7</th>\n",
       "      <td>Ni2Ir2Cl12</td>\n",
       "      <td>ABstacking</td>\n",
       "      <td>initial</td>\n",
       "      <td>{'LOOP+': [609.0947, 129.4953, 82.5947, 64.488...</td>\n",
       "      <td>[609.0947, 129.4953, 82.5947, 64.4883, 65.5359...</td>\n",
       "      <td>32</td>\n",
       "      <td>34</td>\n",
       "      <td>176</td>\n",
       "      <td>[-117.62589054, -117.6507844, -117.66163541, -...</td>\n",
       "      <td>[[[XX, YY, ZZ, XY, YZ, ZX], [[18.29158, 18.673...</td>\n",
       "      <td>...</td>\n",
       "      <td>[Ni, Ir]</td>\n",
       "      <td>[Cl]</td>\n",
       "      <td>414.0</td>\n",
       "      <td>122.0</td>\n",
       "      <td>3653.824</td>\n",
       "      <td>22.0</td>\n",
       "      <td>48.792300</td>\n",
       "      <td>3.962170</td>\n",
       "      <td>46.14</td>\n",
       "      <td>381.2</td>\n",
       "    </tr>\n",
       "    <tr>\n",
       "      <th>8</th>\n",
       "      <td>Mo2Ir2Br12</td>\n",
       "      <td>ABstacking</td>\n",
       "      <td>afm_so</td>\n",
       "      <td>{'LOOP+': [2381.2066, 914.4853, 588.6001, 501....</td>\n",
       "      <td>[2381.2066, 914.4853, 588.6001, 501.4889, 904....</td>\n",
       "      <td>32</td>\n",
       "      <td>64</td>\n",
       "      <td>336</td>\n",
       "      <td>[-134.12771631, -134.12783091, -134.12803681, ...</td>\n",
       "      <td>[[[XX, YY, ZZ, XY, YZ, ZX], [[-0.35855, -0.277...</td>\n",
       "      <td>...</td>\n",
       "      <td>[Mo, Ir]</td>\n",
       "      <td>[Br]</td>\n",
       "      <td>658.0</td>\n",
       "      <td>114.0</td>\n",
       "      <td>3998.160</td>\n",
       "      <td>30.0</td>\n",
       "      <td>44.986658</td>\n",
       "      <td>3.659748</td>\n",
       "      <td>44.24</td>\n",
       "      <td>534.0</td>\n",
       "    </tr>\n",
       "  </tbody>\n",
       "</table>\n",
       "<p>5 rows × 31 columns</p>\n",
       "</div>"
      ],
      "text/plain": [
       "      Formula    Stacking     name  \\\n",
       "1     Ir4Cl12  ABstacking     spin   \n",
       "3   Zr2Ti2I12  ABstacking  initial   \n",
       "5     Ti4Br12  ABstacking  initial   \n",
       "7  Ni2Ir2Cl12  ABstacking  initial   \n",
       "8  Mo2Ir2Br12  ABstacking   afm_so   \n",
       "\n",
       "                                                data  \\\n",
       "1  {'LOOP+': [444.2358, 103.2472, 147.5554, 183.8...   \n",
       "3  {'LOOP+': [1593.245, 326.0933, 396.8862, 308.7...   \n",
       "5  {'LOOP+': [696.6812, 209.2252, 150.3886, 121.2...   \n",
       "7  {'LOOP+': [609.0947, 129.4953, 82.5947, 64.488...   \n",
       "8  {'LOOP+': [2381.2066, 914.4853, 588.6001, 501....   \n",
       "\n",
       "                                               LOOP+  NIONS  NKDIM  NBANDS  \\\n",
       "1           [444.2358, 103.2472, 147.5554, 183.8595]     32     34     176   \n",
       "3  [1593.245, 326.0933, 396.8862, 308.7425, 377.3...     32     34     192   \n",
       "5  [696.6812, 209.2252, 150.3886, 121.282, 220.83...     32     34     192   \n",
       "7  [609.0947, 129.4953, 82.5947, 64.4883, 65.5359...     32     34     176   \n",
       "8  [2381.2066, 914.4853, 588.6001, 501.4889, 904....     32     64     336   \n",
       "\n",
       "                                              energy  \\\n",
       "1  [-130.45522294, -130.45541663, -130.45530501, ...   \n",
       "3  [-128.8407076, -128.7730153, -128.2104543, -12...   \n",
       "5  [-139.93458187, -140.59615028, -141.16280557, ...   \n",
       "7  [-117.62589054, -117.6507844, -117.66163541, -...   \n",
       "8  [-134.12771631, -134.12783091, -134.12803681, ...   \n",
       "\n",
       "                                              stress  ...  Transition_Element  \\\n",
       "1  [[[XX, YY, ZZ, XY, YZ, ZX], [[-1.03806, -1.109...  ...                [Ir]   \n",
       "3  [[[XX, YY, ZZ, XY, YZ, ZX], [[17.42665, 12.875...  ...            [Ti, Zr]   \n",
       "5  [[[XX, YY, ZZ, XY, YZ, ZX], [[16.18543, 15.309...  ...                [Ti]   \n",
       "7  [[[XX, YY, ZZ, XY, YZ, ZX], [[18.29158, 18.673...  ...            [Ni, Ir]   \n",
       "8  [[[XX, YY, ZZ, XY, YZ, ZX], [[-0.35855, -0.277...  ...            [Mo, Ir]   \n",
       "\n",
       "  Halides total_electron_count total_nvalence total_heat_of_formation  \\\n",
       "1    [Cl]                512.0          120.0                4131.624   \n",
       "3     [I]                760.0          100.0                3447.084   \n",
       "5    [Br]                508.0          100.0                3234.200   \n",
       "7    [Cl]                414.0          122.0                3653.824   \n",
       "8    [Br]                658.0          114.0                3998.160   \n",
       "\n",
       "  total_unpaired_electrons  total_electron_affinity  total_en_ghosh  \\\n",
       "1                     24.0                49.607900        4.169876   \n",
       "3                     20.0                37.718442        3.130716   \n",
       "5                     20.0                40.679058        3.388548   \n",
       "7                     22.0                48.792300        3.962170   \n",
       "8                     30.0                44.986658        3.659748   \n",
       "\n",
       "  total_en_pauling total_dipole_polarizability  \n",
       "1            46.72                       391.2  \n",
       "3            37.66                       818.8  \n",
       "5            41.68                       652.0  \n",
       "7            46.14                       381.2  \n",
       "8            44.24                       534.0  \n",
       "\n",
       "[5 rows x 31 columns]"
      ]
     },
     "execution_count": 160,
     "metadata": {},
     "output_type": "execute_result"
    }
   ],
   "source": [
    "df_filtered_finished_data.head()"
   ]
  },
  {
   "cell_type": "code",
   "execution_count": null,
   "metadata": {},
   "outputs": [],
   "source": []
  },
  {
   "cell_type": "code",
   "execution_count": null,
   "metadata": {},
   "outputs": [],
   "source": []
  },
  {
   "cell_type": "code",
   "execution_count": null,
   "metadata": {},
   "outputs": [],
   "source": []
  },
  {
   "cell_type": "code",
   "execution_count": null,
   "metadata": {},
   "outputs": [],
   "source": []
  },
  {
   "cell_type": "code",
   "execution_count": 162,
   "metadata": {},
   "outputs": [
    {
     "name": "stdout",
     "output_type": "stream",
     "text": [
      "Index(['Formula', 'Stacking', 'name', 'data', 'LOOP+', 'NIONS', 'NKDIM',\n",
      "       'NBANDS', 'energy', 'stress', 'retry_count', 'lattice_vecs',\n",
      "       'total charge', 'magnetization', 'position_force', 'volume of cell',\n",
      "       'relaxed_Energy', 'sum_individual_energy', 'elements_present',\n",
      "       'composition', 'formation_energy', 'Transition_Element', 'Halides',\n",
      "       'total_electron_count', 'total_nvalence', 'total_heat_of_formation',\n",
      "       'total_unpaired_electrons', 'total_electron_affinity', 'total_en_ghosh',\n",
      "       'total_en_pauling', 'total_dipole_polarizability'],\n",
      "      dtype='object')\n"
     ]
    }
   ],
   "source": [
    "# corelation between formation energy and descriptor\n",
    "# more correlated if close to 1\n",
    "print(df_filtered_finished_data.columns)\n",
    "df_energy_heatmap = df_filtered_finished_data[['relaxed_Energy', 'sum_individual_energy', 'formation_energy',\n",
    "                                              'total_electron_count', 'total_nvalence', 'total_heat_of_formation',\n",
    "                                           'total_unpaired_electrons', 'total_electron_affinity', 'total_en_ghosh',\n",
    "                                           'total_en_pauling', 'total_dipole_polarizability']].copy()"
   ]
  },
  {
   "cell_type": "code",
   "execution_count": 163,
   "metadata": {},
   "outputs": [
    {
     "data": {
      "image/png": "[encoded data removed]",
      "text/plain": [
       "<Figure size 432x288 with 2 Axes>"
      ]
     },
     "metadata": {
      "needs_background": "light"
     },
     "output_type": "display_data"
    }
   ],
   "source": [
    "corr = df_energy_heatmap.corr()\n",
    "ax = sns.heatmap(\n",
    "    corr, \n",
    "    vmin=-1, vmax=1, center=0,\n",
    "    cmap=sns.diverging_palette(20, 220, n=200),\n",
    "    square=True\n",
    ")\n",
    "ax.set_xticklabels(\n",
    "    ax.get_xticklabels(),\n",
    "    rotation=45,\n",
    "    horizontalalignment='right'\n",
    ");"
   ]
  },
  {
   "cell_type": "code",
   "execution_count": 164,
   "metadata": {},
   "outputs": [],
   "source": [
    "df_filtered_finished_data.to_csv('AAX.csv')"
   ]
  },
  {
   "cell_type": "code",
   "execution_count": 70,
   "metadata": {},
   "outputs": [
    {
     "name": "stdout",
     "output_type": "stream",
     "text": [
      "<class 'list'>\n",
      "[['x', ['s', 'p', 'd', 'tot'], [[0.011, 0.009, 0.886, 0.906], [0.011, 0.009, 0.834, 0.854], [0.011, 0.009, 0.809, 0.829], [0.011, 0.009, 0.788, 0.808], [0.011, 0.009, 0.833, 0.853], [0.011, 0.009, 0.841, 0.861], [0.011, 0.009, 0.868, 0.888], [0.011, 0.009, 0.836, 0.857], [-0.001, -0.016, 0.007, -0.01], [-0.001, -0.018, 0.007, -0.012], [-0.001, -0.017, 0.008, -0.01], [-0.001, -0.018, 0.007, -0.012], [-0.001, -0.017, 0.008, -0.01], [-0.001, -0.018, 0.008, -0.011], [-0.001, -0.017, 0.008, -0.01], [-0.001, -0.018, 0.008, -0.011], [-0.001, -0.019, 0.004, -0.015], [-0.001, -0.02, 0.004, -0.017], [-0.001, -0.016, 0.004, -0.012], [-0.001, -0.018, 0.004, -0.014], [-0.001, -0.018, 0.007, -0.011], [-0.001, -0.019, 0.007, -0.013], [-0.001, -0.016, 0.008, -0.009], [-0.001, -0.018, 0.007, -0.011], [-0.001, -0.016, 0.008, -0.009], [-0.001, -0.018, 0.007, -0.011], [-0.001, -0.017, 0.008, -0.01], [-0.001, -0.019, 0.007, -0.013], [-0.001, -0.018, 0.004, -0.014], [-0.001, -0.019, 0.004, -0.015], [-0.001, -0.016, 0.004, -0.013], [-0.001, -0.019, 0.004, -0.015]]], ['x', ['s', 'p', 'd', 'tot'], [[0.011, 0.009, 0.835, 0.855], [0.011, 0.009, 0.839, 0.859], [0.011, 0.009, 0.851, 0.87], [0.011, 0.009, 0.821, 0.841], [0.011, 0.009, 0.844, 0.864], [0.011, 0.009, 0.834, 0.854], [0.011, 0.009, 0.831, 0.85], [0.011, 0.009, 0.84, 0.86], [-0.001, -0.016, 0.007, -0.01], [-0.001, -0.018, 0.007, -0.012], [-0.001, -0.018, 0.007, -0.012], [-0.001, -0.018, 0.007, -0.012], [-0.001, -0.018, 0.007, -0.012], [-0.001, -0.018, 0.007, -0.012], [-0.001, -0.018, 0.007, -0.011], [-0.001, -0.018, 0.007, -0.012], [-0.001, -0.016, 0.004, -0.013], [-0.001, -0.017, 0.004, -0.014], [-0.001, -0.016, 0.004, -0.013], [-0.001, -0.016, 0.004, -0.013], [-0.001, -0.017, 0.007, -0.011], [-0.001, -0.018, 0.007, -0.012], [-0.001, -0.017, 0.007, -0.011], [-0.001, -0.017, 0.007, -0.011], [-0.001, -0.017, 0.007, -0.011], [-0.001, -0.018, 0.007, -0.012], [-0.001, -0.018, 0.007, -0.012], [-0.001, -0.019, 0.007, -0.013], [-0.001, -0.015, 0.004, -0.012], [-0.001, -0.017, 0.004, -0.014], [-0.001, -0.016, 0.004, -0.013], [-0.001, -0.016, 0.004, -0.013]]], ['x', ['s', 'p', 'd', 'tot'], [[0.01, 0.008, 0.826, 0.844], [0.01, 0.008, 0.844, 0.862], [0.01, 0.009, 0.859, 0.877], [0.009, 0.008, 0.934, 0.951], [0.01, 0.009, 0.838, 0.857], [0.01, 0.008, 0.811, 0.83], [0.01, 0.008, 0.811, 0.829], [0.01, 0.008, 0.83, 0.848], [-0.001, -0.023, 0.006, -0.019], [-0.001, -0.017, 0.006, -0.012], [-0.001, -0.019, 0.006, -0.014], [-0.001, -0.018, 0.006, -0.013], [-0.001, -0.023, 0.006, -0.017], [-0.001, -0.02, 0.006, -0.014], [-0.001, -0.022, 0.006, -0.017], [-0.001, -0.018, 0.006, -0.013], [-0.001, -0.019, 0.004, -0.016], [-0.001, -0.014, 0.004, -0.011], [0.0, -0.016, 0.003, -0.013], [0.0, -0.015, 0.003, -0.012], [-0.001, -0.022, 0.006, -0.018], [-0.001, -0.018, 0.006, -0.013], [-0.001, -0.02, 0.006, -0.015], [-0.001, -0.019, 0.006, -0.014], [-0.001, -0.023, 0.006, -0.018], [-0.001, -0.02, 0.006, -0.015], [-0.001, -0.022, 0.006, -0.017], [-0.001, -0.019, 0.006, -0.013], [0.0, -0.019, 0.003, -0.016], [-0.001, -0.015, 0.004, -0.012], [0.0, -0.016, 0.003, -0.013], [0.0, -0.015, 0.003, -0.012]]], ['x', ['s', 'p', 'd', 'tot'], [[0.01, 0.008, 0.808, 0.826], [0.01, 0.008, 0.85, 0.867], [0.01, 0.009, 0.863, 0.882], [0.009, 0.008, 0.921, 0.939], [0.01, 0.009, 0.838, 0.858], [0.01, 0.008, 0.819, 0.838], [0.01, 0.008, 0.823, 0.841], [0.01, 0.008, 0.837, 0.855], [-0.001, -0.023, 0.006, -0.019], [-0.001, -0.018, 0.006, -0.013], [-0.001, -0.02, 0.006, -0.015], [-0.001, -0.018, 0.006, -0.013], [-0.001, -0.023, 0.006, -0.018], [-0.001, -0.02, 0.006, -0.015], [-0.001, -0.022, 0.006, -0.017], [-0.001, -0.019, 0.006, -0.013], [-0.001, -0.019, 0.004, -0.016], [-0.001, -0.014, 0.004, -0.011], [-0.001, -0.017, 0.003, -0.014], [-0.001, -0.015, 0.003, -0.012], [-0.001, -0.022, 0.006, -0.018], [-0.001, -0.019, 0.006, -0.014], [-0.001, -0.02, 0.006, -0.016], [-0.001, -0.019, 0.006, -0.014], [-0.001, -0.024, 0.006, -0.019], [-0.001, -0.02, 0.006, -0.015], [-0.001, -0.022, 0.006, -0.017], [-0.001, -0.019, 0.006, -0.014], [-0.001, -0.019, 0.003, -0.016], [-0.001, -0.015, 0.004, -0.012], [-0.001, -0.017, 0.003, -0.014], [-0.001, -0.015, 0.003, -0.012]]], ['x', ['s', 'p', 'd', 'tot'], [[0.009, 0.008, 0.802, 0.82], [0.009, 0.008, 0.864, 0.881], [0.009, 0.008, 0.88, 0.897], [0.009, 0.008, 0.784, 0.801], [0.009, 0.008, 0.854, 0.871], [0.009, 0.008, 0.855, 0.872], [0.009, 0.008, 0.827, 0.844], [0.009, 0.008, 0.865, 0.882], [-0.001, -0.016, 0.006, -0.011], [-0.001, -0.02, 0.005, -0.015], [-0.001, -0.02, 0.005, -0.015], [-0.001, -0.019, 0.005, -0.014], [-0.001, -0.019, 0.006, -0.015], [-0.001, -0.02, 0.006, -0.015], [-0.001, -0.018, 0.006, -0.013], [-0.001, -0.02, 0.006, -0.016], [-0.001, -0.012, 0.004, -0.009], [0.0, -0.016, 0.003, -0.013], [-0.001, -0.016, 0.003, -0.013], [0.0, -0.014, 0.004, -0.01], [-0.001, -0.016, 0.006, -0.011], [-0.001, -0.02, 0.005, -0.016], [-0.001, -0.02, 0.005, -0.015], [-0.001, -0.018, 0.006, -0.014], [-0.001, -0.018, 0.006, -0.013], [-0.001, -0.02, 0.006, -0.015], [-0.001, -0.019, 0.006, -0.014], [-0.001, -0.021, 0.006, -0.016], [-0.001, -0.012, 0.004, -0.009], [0.0, -0.015, 0.003, -0.013], [-0.001, -0.015, 0.003, -0.013], [-0.001, -0.014, 0.004, -0.011]]], ['x', ['s', 'p', 'd', 'tot'], [[0.009, 0.008, 0.819, 0.836], [0.009, 0.008, 0.841, 0.858], [0.009, 0.008, 0.879, 0.896], [0.009, 0.008, 0.822, 0.84], [0.009, 0.008, 0.863, 0.88], [0.009, 0.008, 0.835, 0.852], [0.009, 0.008, 0.837, 0.855], [0.009, 0.008, 0.843, 0.86], [-0.001, -0.017, 0.006, -0.013], [-0.001, -0.02, 0.005, -0.015], [-0.001, -0.019, 0.006, -0.014], [-0.001, -0.019, 0.005, -0.015], [-0.001, -0.019, 0.006, -0.014], [-0.001, -0.02, 0.006, -0.015], [-0.001, -0.019, 0.006, -0.014], [-0.001, -0.02, 0.006, -0.015], [-0.001, -0.014, 0.004, -0.011], [-0.001, -0.016, 0.003, -0.013], [-0.001, -0.015, 0.003, -0.013], [-0.001, -0.015, 0.003, -0.012], [-0.001, -0.017, 0.006, -0.013], [-0.001, -0.02, 0.005, -0.015], [-0.001, -0.019, 0.006, -0.014], [-0.001, -0.019, 0.006, -0.014], [-0.001, -0.019, 0.006, -0.014], [-0.001, -0.02, 0.006, -0.015], [-0.001, -0.019, 0.006, -0.014], [-0.001, -0.021, 0.006, -0.016], [-0.001, -0.013, 0.004, -0.01], [-0.001, -0.016, 0.003, -0.013], [-0.001, -0.015, 0.003, -0.012], [-0.001, -0.015, 0.003, -0.012]]], ['x', ['s', 'p', 'd', 'tot'], [[0.009, 0.008, 0.825, 0.842], [0.009, 0.008, 0.836, 0.853], [0.009, 0.008, 0.876, 0.893], [0.009, 0.008, 0.821, 0.838], [0.009, 0.008, 0.865, 0.882], [0.009, 0.008, 0.835, 0.852], [0.009, 0.008, 0.836, 0.853], [0.009, 0.008, 0.841, 0.859], [-0.001, -0.017, 0.006, -0.012], [-0.001, -0.02, 0.005, -0.015], [-0.001, -0.019, 0.006, -0.014], [-0.001, -0.019, 0.005, -0.015], [-0.001, -0.019, 0.006, -0.014], [-0.001, -0.02, 0.006, -0.016], [-0.001, -0.018, 0.006, -0.013], [-0.001, -0.02, 0.006, -0.015], [-0.001, -0.013, 0.004, -0.01], [-0.001, -0.016, 0.003, -0.013], [-0.001, -0.015, 0.003, -0.012], [-0.001, -0.015, 0.003, -0.012], [-0.001, -0.017, 0.006, -0.012], [-0.001, -0.02, 0.005, -0.015], [-0.001, -0.019, 0.006, -0.014], [-0.001, -0.019, 0.006, -0.015], [-0.001, -0.018, 0.006, -0.013], [-0.001, -0.02, 0.006, -0.015], [-0.001, -0.019, 0.006, -0.014], [-0.001, -0.021, 0.006, -0.016], [-0.001, -0.013, 0.004, -0.01], [-0.001, -0.016, 0.003, -0.013], [-0.001, -0.015, 0.003, -0.012], [-0.001, -0.015, 0.003, -0.012]]], ['x', ['s', 'p', 'd', 'tot'], [[0.009, 0.008, 0.831, 0.848], [0.009, 0.008, 0.838, 0.855], [0.009, 0.008, 0.861, 0.878], [0.009, 0.008, 0.84, 0.858], [0.009, 0.008, 0.856, 0.873], [0.009, 0.008, 0.835, 0.852], [0.009, 0.008, 0.844, 0.862], [0.009, 0.008, 0.838, 0.856], [-0.001, -0.019, 0.006, -0.014], [-0.001, -0.019, 0.005, -0.015], [-0.001, -0.019, 0.006, -0.014], [-0.001, -0.019, 0.005, -0.015], [-0.001, -0.02, 0.006, -0.015], [-0.001, -0.02, 0.006, -0.015], [-0.001, -0.019, 0.006, -0.014], [-0.001, -0.02, 0.006, -0.015], [-0.001, -0.015, 0.004, -0.012], [-0.001, -0.016, 0.003, -0.013], [-0.001, -0.015, 0.003, -0.012], [-0.001, -0.015, 0.003, -0.012], [-0.001, -0.019, 0.006, -0.014], [-0.001, -0.02, 0.005, -0.015], [-0.001, -0.019, 0.006, -0.014], [-0.001, -0.019, 0.006, -0.015], [-0.001, -0.019, 0.006, -0.014], [-0.001, -0.02, 0.006, -0.015], [-0.001, -0.02, 0.006, -0.015], [-0.001, -0.02, 0.006, -0.016], [-0.001, -0.014, 0.004, -0.011], [-0.001, -0.016, 0.003, -0.013], [-0.001, -0.015, 0.003, -0.012], [-0.001, -0.015, 0.003, -0.012]]], ['x', ['s', 'p', 'd', 'tot'], [[0.009, 0.008, 0.842, 0.859], [0.009, 0.008, 0.844, 0.861], [0.009, 0.008, 0.848, 0.865], [0.009, 0.008, 0.849, 0.866], [0.009, 0.008, 0.841, 0.858], [0.009, 0.008, 0.837, 0.854], [0.009, 0.008, 0.841, 0.858], [0.009, 0.008, 0.836, 0.854], [-0.001, -0.019, 0.006, -0.014], [-0.001, -0.019, 0.006, -0.014], [-0.001, -0.019, 0.006, -0.014], [-0.001, -0.019, 0.006, -0.014], [-0.001, -0.02, 0.006, -0.015], [-0.001, -0.02, 0.006, -0.015], [-0.001, -0.019, 0.006, -0.014], [-0.001, -0.019, 0.006, -0.015], [-0.001, -0.015, 0.003, -0.012], [-0.001, -0.015, 0.003, -0.012], [-0.001, -0.014, 0.003, -0.012], [0.0, -0.014, 0.003, -0.012], [-0.001, -0.019, 0.006, -0.014], [-0.001, -0.019, 0.006, -0.015], [-0.001, -0.019, 0.006, -0.014], [-0.001, -0.019, 0.006, -0.014], [-0.001, -0.019, 0.006, -0.014], [-0.001, -0.02, 0.006, -0.015], [-0.001, -0.02, 0.006, -0.015], [-0.001, -0.02, 0.006, -0.015], [-0.001, -0.015, 0.003, -0.012], [-0.001, -0.015, 0.003, -0.012], [-0.001, -0.014, 0.003, -0.012], [-0.001, -0.015, 0.003, -0.012]]], ['x', ['s', 'p', 'd', 'tot'], [[0.009, 0.008, 0.836, 0.853], [0.009, 0.008, 0.838, 0.855], [0.009, 0.008, 0.842, 0.859], [0.009, 0.008, 0.84, 0.857], [0.009, 0.008, 0.85, 0.867], [0.009, 0.008, 0.84, 0.857], [0.009, 0.008, 0.836, 0.853], [0.009, 0.008, 0.843, 0.86], [-0.001, -0.019, 0.006, -0.013], [-0.001, -0.019, 0.006, -0.014], [-0.001, -0.019, 0.006, -0.014], [-0.001, -0.019, 0.006, -0.014], [-0.001, -0.019, 0.006, -0.014], [-0.001, -0.019, 0.006, -0.014], [-0.001, -0.019, 0.006, -0.014], [-0.001, -0.019, 0.006, -0.014], [0.0, -0.014, 0.003, -0.011], [0.0, -0.014, 0.003, -0.011], [0.0, -0.014, 0.003, -0.011], [0.0, -0.013, 0.003, -0.011], [-0.001, -0.019, 0.006, -0.014], [-0.001, -0.019, 0.006, -0.014], [-0.001, -0.019, 0.006, -0.014], [-0.001, -0.019, 0.006, -0.013], [-0.001, -0.019, 0.006, -0.014], [-0.001, -0.019, 0.006, -0.014], [-0.001, -0.019, 0.006, -0.014], [-0.001, -0.019, 0.006, -0.014], [0.0, -0.013, 0.003, -0.011], [0.0, -0.014, 0.003, -0.011], [0.0, -0.014, 0.003, -0.011], [0.0, -0.014, 0.003, -0.011]]], ['x', ['s', 'p', 'd', 'tot'], [[0.009, 0.008, 0.838, 0.855], [0.009, 0.008, 0.84, 0.858], [0.009, 0.008, 0.842, 0.86], [0.009, 0.008, 0.844, 0.861], [0.009, 0.008, 0.84, 0.857], [0.009, 0.008, 0.841, 0.858], [0.009, 0.008, 0.841, 0.858], [0.009, 0.008, 0.842, 0.859], [-0.001, -0.019, 0.006, -0.014], [-0.001, -0.019, 0.006, -0.014], [-0.001, -0.019, 0.006, -0.014], [-0.001, -0.019, 0.006, -0.014], [-0.001, -0.019, 0.006, -0.014], [-0.001, -0.019, 0.006, -0.014], [-0.001, -0.019, 0.006, -0.014], [-0.001, -0.019, 0.006, -0.014], [0.0, -0.014, 0.003, -0.012], [0.0, -0.014, 0.003, -0.011], [0.0, -0.014, 0.003, -0.011], [0.0, -0.013, 0.003, -0.011], [-0.001, -0.019, 0.006, -0.014], [-0.001, -0.019, 0.006, -0.014], [-0.001, -0.019, 0.006, -0.014], [-0.001, -0.019, 0.006, -0.014], [-0.001, -0.019, 0.006, -0.014], [-0.001, -0.019, 0.006, -0.014], [-0.001, -0.019, 0.006, -0.014], [-0.001, -0.019, 0.006, -0.014], [0.0, -0.014, 0.003, -0.011], [0.0, -0.014, 0.003, -0.011], [0.0, -0.014, 0.003, -0.011], [0.0, -0.014, 0.003, -0.011]]], ['x', ['s', 'p', 'd', 'tot'], [[0.009, 0.008, 0.838, 0.855], [0.009, 0.008, 0.84, 0.858], [0.009, 0.008, 0.842, 0.86], [0.009, 0.008, 0.844, 0.861], [0.009, 0.008, 0.84, 0.857], [0.009, 0.008, 0.841, 0.858], [0.009, 0.008, 0.841, 0.858], [0.009, 0.008, 0.842, 0.859], [-0.001, -0.019, 0.006, -0.014], [-0.001, -0.019, 0.006, -0.014], [-0.001, -0.019, 0.006, -0.014], [-0.001, -0.019, 0.006, -0.014], [-0.001, -0.019, 0.006, -0.014], [-0.001, -0.019, 0.006, -0.014], [-0.001, -0.019, 0.006, -0.014], [-0.001, -0.019, 0.006, -0.014], [0.0, -0.014, 0.003, -0.012], [0.0, -0.014, 0.003, -0.011], [0.0, -0.014, 0.003, -0.011], [0.0, -0.013, 0.003, -0.011], [-0.001, -0.019, 0.006, -0.014], [-0.001, -0.019, 0.006, -0.014], [-0.001, -0.019, 0.006, -0.014], [-0.001, -0.019, 0.006, -0.014], [-0.001, -0.019, 0.006, -0.014], [-0.001, -0.019, 0.006, -0.014], [-0.001, -0.019, 0.006, -0.014], [-0.001, -0.019, 0.006, -0.014], [0.0, -0.014, 0.003, -0.011], [0.0, -0.014, 0.003, -0.011], [0.0, -0.014, 0.003, -0.011], [0.0, -0.014, 0.003, -0.011]]]]\n"
     ]
    }
   ],
   "source": [
    "rownum = len(df_filtered_finished_data.head())\n",
    "print(type(df_filtered_finished_data.iloc[2]['magnetization']))\n",
    "        \n",
    "print(df_filtered_finished_data.iloc[2]['magnetization'])\n",
    "\n",
    "\n",
    "        \n"
   ]
  },
  {
   "cell_type": "code",
   "execution_count": null,
   "metadata": {},
   "outputs": [],
   "source": [
    "visualization : "
   ]
  },
  {
   "cell_type": "code",
   "execution_count": null,
   "metadata": {},
   "outputs": [],
   "source": [
    "def get_magnetic_moment(df):\n",
    "    \"\"\" parse magnetization value from magnetization raw data \"\"\"\n",
    "    \n",
    "#     df['magmom_sites_tot'] = np.nan\n",
    "    df['magmom_unitcell_x'] = np.nan\n",
    "    df['magmom_unitcell_y'] = np.nan\n",
    "    df['magmom_unitcell_z'] = np.nan\n",
    "    \n",
    "    for i in range(len(df)):\n",
    "        magmom_sites_tot = np.nan\n",
    "        magmom_unitcell = np.nan\n",
    "        print(type(df['data'][i]))\n",
    "        if ('magnetization' in df['data'][i]):\n",
    "            raw_magmom = df['data'][i]['magnetization']\n",
    "\n",
    "            if df.name[i] == 'initial' or df.name[i] == 'spin' or df.name[i] == 'afm':\n",
    "                magmom = raw_magmom[-1]\n",
    "                magmom_x = magmom[2]\n",
    "\n",
    "                if isinstance(magmom_x[0], list):\n",
    "                    magmom_x_sites_tot = [x[-1] for x in magmom_x]\n",
    "                else:\n",
    "                    magmom_x_sites_tot = [x[-1] for x in magmom]\n",
    "                    \n",
    "                magmom_x_unitcell = np.sum(magmom_x_sites_tot)\n",
    "                magmom_sites_tot = magmom_x_sites_tot\n",
    "                \n",
    "                df['magmom_unitcell_x'][i] = abs(magmom_x_unitcell)\n",
    "#                 df['magmom_sites_tot'][i] = magmom_sites_tot\n",
    "\n",
    "                \n",
    "            elif df.name[i] == 'spin_so' or df.name[i] == 'afm_so':\n",
    "                magmom = raw_magmom[-3:]\n",
    "                magmom_x = magmom[0][2]\n",
    "                magmom_y = magmom[1][2]\n",
    "                magmom_z = magmom[2][2]\n",
    "\n",
    "                if isinstance(magmom_x[0], list):\n",
    "                    magmom_x_sites_tot = [x[-1] for x in magmom_x]\n",
    "                    magmom_x_unitcell = np.sum(magmom_x_sites_tot)\n",
    "                else:\n",
    "                    magmom_x_sites_tot = magmom_x\n",
    "                    magmom_x_unitcell = magmom_x\n",
    "\n",
    "                if isinstance(magmom_y[0], list):\n",
    "                    magmom_y_sites_tot = [x[-1] for x in magmom_y]\n",
    "                    magmom_y_unitcell = np.sum(magmom_y_sites_tot)\n",
    "                else:\n",
    "                    magmom_y_sites_tot = magmom_y\n",
    "                    magmom_y_unitcell = magmom_y\n",
    "\n",
    "                if isinstance(magmom_z[0], list):\n",
    "                    magmom_z_sites_tot = [x[-1] for x in magmom_z]\n",
    "                    magmom_z_unitcell = np.sum(magmom_z_sites_tot)\n",
    "                else:\n",
    "                    magmom_z_sites_tot = magmom_z\n",
    "                    magmom_z_unitcell = magmom_z\n",
    "\n",
    "                magmom_sites_tot = np.asarray([magmom_x_sites_tot, magmom_y_sites_tot, magmom_z_sites_tot], object)\n",
    "                \n",
    "                df['magmom_unitcell_x'][i] = abs(magmom_x_unitcell)\n",
    "                df['magmom_unitcell_y'][i] = abs(magmom_y_unitcell)\n",
    "                df['magmom_unitcell_z'][i] = abs(magmom_z_unitcell)\n",
    "#                 df['magmom_sites_tot'][i] = magmom_sites_tot\n",
    "\n",
    "    return df         "
   ]
  },
  {
   "cell_type": "code",
   "execution_count": null,
   "metadata": {},
   "outputs": [],
   "source": []
  }
 ],
 "metadata": {
  "kernelspec": {
   "display_name": "Python 3",
   "language": "python",
   "name": "python3"
  },
  "language_info": {
   "codemirror_mode": {
    "name": "ipython",
    "version": 3
   },
   "file_extension": ".py",
   "mimetype": "text/x-python",
   "name": "python",
   "nbconvert_exporter": "python",
   "pygments_lexer": "ipython3",
   "version": "3.8.3"
  }
 },
 "nbformat": 4,
 "nbformat_minor": 4
}
