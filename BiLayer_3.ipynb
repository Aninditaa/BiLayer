{
 "cells": [
  {
   "cell_type": "code",
   "execution_count": 1,
   "metadata": {},
   "outputs": [],
   "source": [
    "import pandas as pd\n",
    "from mendeleev import element\n",
    "import numpy as np\n",
    "import pickle as pickle\n",
    "import matplotlib.pyplot as plt\n",
    "import pymatgen as mg\n",
    "from pymatgen.ext.matproj import MPRester\n",
    "import seaborn as sns\n",
    "import matplotlib.pyplot as plt\n"
   ]
  },
  {
   "cell_type": "code",
   "execution_count": 3,
   "metadata": {},
   "outputs": [],
   "source": [
    "# from a pandas dataframe from a pkl file.\n",
    "\n",
    "with open(\"C:\\\\RPI\\\\MI2DMaterials\\\\BiLayer\\\\code\\\\file\\\\AAX_bilayer_data_dump_5.10.21.pkl\", \"rb\") as f:\n",
    "    data = pickle.load(f)\n",
    "    \n",
    "df  = pd.DataFrame(data)\n"
   ]
  },
  {
   "cell_type": "code",
   "execution_count": 4,
   "metadata": {},
   "outputs": [
    {
     "name": "stdout",
     "output_type": "stream",
     "text": [
      "Total Jobs\n",
      "695\n",
      "['FAILED' 'JOB_FINISHED' 'AWAITING_PARENTS' 'RESTART_READY' 'RUN_TIMEOUT'\n",
      " 'PREPROCESSED']\n"
     ]
    }
   ],
   "source": [
    "# make another dataframe with only the jobs that are finished\n",
    "count_row = df.shape[0]  # Gives number of rows\n",
    "count_col = df.shape[1]  # Gives number of columns\n",
    "print('Total Jobs')\n",
    "print(count_row)\n",
    "print(df.state.unique())\n",
    "\n",
    "df = df[df['state']=='JOB_FINISHED'].reset_index()"
   ]
  },
  {
   "cell_type": "code",
   "execution_count": null,
   "metadata": {},
   "outputs": [],
   "source": [
    "# Calculate the magnetic moment first , else the magnetization column was changing from list to string \n",
    "# df = df[df['state']=='JOB_FINISHED'].reset_index() is a very helful thing "
   ]
  },
  {
   "cell_type": "code",
   "execution_count": 6,
   "metadata": {},
   "outputs": [],
   "source": [
    "# vaishnavi's code modified to get total magnetic moment \n",
    "# if name == 'initial' or 'spin' or  'afm': only x is present , take the most relaxed one [-1] = magmom\n",
    "    # [-1][2] will give only the \" s', 'p', 'd', 'tot' \" data without header = magmom_x\n",
    "    # magmom_x_sites_tot is a list containing  all the total values  \n",
    "    # magmom_x_unitcell is the sum of all these total values \n",
    "# if name == ''spin_so' or 'afm_so' : has spin over coupling :has magnetic moment in all x, y and z direction \n",
    "    # repeat same as above for all x, y and z \n",
    "\n",
    "\n",
    "def get_magnetic_moment(df):\n",
    "    \"\"\" parse magnetization value from magnetization raw data \"\"\"\n",
    "    \n",
    "#     df['magmom_sites_tot'] = np.nan\n",
    "    df['magmom_unitcell_x'] = np.nan\n",
    "    df['magmom_unitcell_y'] = np.nan\n",
    "    df['magmom_unitcell_z'] = np.nan\n",
    "    df['magmom_total'] = np.nan\n",
    "    \n",
    "    for i in range(len(df)):\n",
    "        magmom_sites_tot = np.nan\n",
    "        magmom_unitcell = np.nan\n",
    "        #print(type(df['data'][i]))\n",
    "        if ('magnetization' in df['data'][i]):\n",
    "            raw_magmom = df['data'][i]['magnetization']\n",
    "\n",
    "            if df.name[i] == 'initial' or df.name[i] == 'spin' or df.name[i] == 'afm':\n",
    "                magmom = raw_magmom[-1]\n",
    "                magmom_x = magmom[2]\n",
    "\n",
    "                if isinstance(magmom_x[0], list):\n",
    "                    magmom_x_sites_tot = [x[-1] for x in magmom_x]\n",
    "                else:\n",
    "                    magmom_x_sites_tot = [x[-1] for x in magmom]\n",
    "                    \n",
    "                magmom_x_unitcell = np.sum(magmom_x_sites_tot)\n",
    "                magmom_sites_tot = magmom_x_sites_tot\n",
    "                \n",
    "                df['magmom_unitcell_x'][i] = abs(magmom_x_unitcell)\n",
    "                df['magmom_total'][i] = abs(magmom_x_unitcell)\n",
    "                \n",
    "#                 df['magmom_sites_tot'][i] = magmom_sites_tot\n",
    "\n",
    "                \n",
    "            elif df.name[i] == 'spin_so' or df.name[i] == 'afm_so':\n",
    "                magmom = raw_magmom[-3:]\n",
    "                magmom_x = magmom[0][2]\n",
    "                magmom_y = magmom[1][2]\n",
    "                magmom_z = magmom[2][2]\n",
    "\n",
    "                if isinstance(magmom_x[0], list):\n",
    "                    magmom_x_sites_tot = [x[-1] for x in magmom_x]\n",
    "                    magmom_x_unitcell = np.sum(magmom_x_sites_tot)\n",
    "                else:\n",
    "                    magmom_x_sites_tot = magmom_x\n",
    "                    magmom_x_unitcell = magmom_x\n",
    "\n",
    "                if isinstance(magmom_y[0], list):\n",
    "                    magmom_y_sites_tot = [x[-1] for x in magmom_y]\n",
    "                    magmom_y_unitcell = np.sum(magmom_y_sites_tot)\n",
    "                else:\n",
    "                    magmom_y_sites_tot = magmom_y\n",
    "                    magmom_y_unitcell = magmom_y\n",
    "\n",
    "                if isinstance(magmom_z[0], list):\n",
    "                    magmom_z_sites_tot = [x[-1] for x in magmom_z]\n",
    "                    magmom_z_unitcell = np.sum(magmom_z_sites_tot)\n",
    "                else:\n",
    "                    magmom_z_sites_tot = magmom_z\n",
    "                    magmom_z_unitcell = magmom_z\n",
    "\n",
    "                magmom_sites_tot = np.asarray([magmom_x_sites_tot, magmom_y_sites_tot, magmom_z_sites_tot], object)\n",
    "                \n",
    "                total_moment_sum = np.square(magmom_x_unitcell) + np.square(magmom_y_unitcell) + np.square(magmom_z_unitcell) \n",
    "                total_moment_temp = np. sqrt(total_moment_sum)\n",
    "                df['magmom_unitcell_x'][i] = abs(magmom_x_unitcell)\n",
    "                df['magmom_unitcell_y'][i] = abs(magmom_y_unitcell)\n",
    "                df['magmom_unitcell_z'][i] = abs(magmom_z_unitcell)\n",
    "                df['magmom_total'][i] = abs(total_moment_temp)\n",
    "#                 df['magmom_sites_tot'][i] = magmom_sites_tot\n",
    "\n",
    "    return df         \n"
   ]
  },
  {
   "cell_type": "code",
   "execution_count": 7,
   "metadata": {},
   "outputs": [
    {
     "name": "stderr",
     "output_type": "stream",
     "text": [
      "<ipython-input-6-bba31bb9c5bb>:38: SettingWithCopyWarning: \n",
      "A value is trying to be set on a copy of a slice from a DataFrame\n",
      "\n",
      "See the caveats in the documentation: https://pandas.pydata.org/pandas-docs/stable/user_guide/indexing.html#returning-a-view-versus-a-copy\n",
      "  df['magmom_unitcell_x'][i] = abs(magmom_x_unitcell)\n",
      "<ipython-input-6-bba31bb9c5bb>:39: SettingWithCopyWarning: \n",
      "A value is trying to be set on a copy of a slice from a DataFrame\n",
      "\n",
      "See the caveats in the documentation: https://pandas.pydata.org/pandas-docs/stable/user_guide/indexing.html#returning-a-view-versus-a-copy\n",
      "  df['magmom_total'][i] = abs(magmom_x_unitcell)\n",
      "<ipython-input-6-bba31bb9c5bb>:75: SettingWithCopyWarning: \n",
      "A value is trying to be set on a copy of a slice from a DataFrame\n",
      "\n",
      "See the caveats in the documentation: https://pandas.pydata.org/pandas-docs/stable/user_guide/indexing.html#returning-a-view-versus-a-copy\n",
      "  df['magmom_unitcell_x'][i] = abs(magmom_x_unitcell)\n",
      "<ipython-input-6-bba31bb9c5bb>:76: SettingWithCopyWarning: \n",
      "A value is trying to be set on a copy of a slice from a DataFrame\n",
      "\n",
      "See the caveats in the documentation: https://pandas.pydata.org/pandas-docs/stable/user_guide/indexing.html#returning-a-view-versus-a-copy\n",
      "  df['magmom_unitcell_y'][i] = abs(magmom_y_unitcell)\n",
      "<ipython-input-6-bba31bb9c5bb>:77: SettingWithCopyWarning: \n",
      "A value is trying to be set on a copy of a slice from a DataFrame\n",
      "\n",
      "See the caveats in the documentation: https://pandas.pydata.org/pandas-docs/stable/user_guide/indexing.html#returning-a-view-versus-a-copy\n",
      "  df['magmom_unitcell_z'][i] = abs(magmom_z_unitcell)\n",
      "<ipython-input-6-bba31bb9c5bb>:78: SettingWithCopyWarning: \n",
      "A value is trying to be set on a copy of a slice from a DataFrame\n",
      "\n",
      "See the caveats in the documentation: https://pandas.pydata.org/pandas-docs/stable/user_guide/indexing.html#returning-a-view-versus-a-copy\n",
      "  df['magmom_total'][i] = abs(total_moment_temp)\n"
     ]
    }
   ],
   "source": [
    "# add 4 columns with magnetic values x, y , z and total \n",
    "df = get_magnetic_moment(df)"
   ]
  },
  {
   "cell_type": "code",
   "execution_count": 8,
   "metadata": {},
   "outputs": [],
   "source": [
    "df_finished = df[df['state']=='JOB_FINISHED']"
   ]
  },
  {
   "cell_type": "code",
   "execution_count": 9,
   "metadata": {},
   "outputs": [
    {
     "name": "stdout",
     "output_type": "stream",
     "text": [
      "310\n",
      "110\n",
      "['Ir4Cl12' 'Zr2Ti2I12' 'Ti2Fe2Cl12' 'Ti4Br12' 'Zr2Ti2Cl12' 'Ni2Ir2Cl12'\n",
      " 'Mo2Ir2Br12' 'Zr2Ti2Br12' 'Cr2Ir2Br12' 'Ti2Ni2Br12' 'Cd2Ir2I12'\n",
      " 'Mo2Ir2Cl12' 'Ti2Ru2Cl12' 'Ti2Ni2Cl12' 'Cd2Ir2Br12' 'Ir2Ru2I12'\n",
      " 'Ir2Ru2Cl12' 'Ir2Pd2Cl12' 'Ti4I12' 'Ir2Ru2Br12' 'Ti2Fe2I12' 'Fe2Ir2I12'\n",
      " 'Ti2Au2I12' 'Ir2Au2Br12' 'Ti2Zn2Cl12' 'Ti2Ni2I12' 'Ti2Ir2I12' 'Ir2Pd2I12'\n",
      " 'Ir4Br12' 'Ti2Mo2I12' 'Cr2Ir2I12' 'Ti4Cl12' 'Ti2Ru2Br12' 'Ti2Cd2Cl12'\n",
      " 'Ti2Cd2I12' 'Mo2Ir2I12' 'Ti2Pd2Br12' 'Ti2Pd2I12' 'Ti2Au2Cl12'\n",
      " 'Fe2Ir2Cl12' 'Ir4I12' 'Zn2Ir2Cl12' 'Zr2Ir2Cl12' 'Ti2Cd2Br12' 'Ni2Ir2Br12'\n",
      " 'Ti2Ru2I12' 'Ni2Ir2I12' 'Ti2Cr2Br12' 'Zn2Ir2Br12' 'Zr2Ir2Br12'\n",
      " 'Fe2Ir2Br12' 'Ti2Zn2Br12' 'Ti2Pd2Cl12' 'Ti2Cr2Cl12' 'Ti2Cr2I12'\n",
      " 'Zr2Ir2I12' 'Ti2Zn2I12' 'Ti2Au2Br12' 'Cr2Ir2Cl12' 'Ir2Au2Cl12'\n",
      " 'Zn2Ir2I12' 'Ir2Au2I12' 'Ti2Fe2Br12' 'Cd2Ir2Cl12' 'Ir2Pd2Br12']\n",
      "110\n"
     ]
    }
   ],
   "source": [
    "# check for how many structures the calculation is finished\n",
    "# add two rows with the stacking details and formula\n",
    "print(len(df_finished))\n",
    "print(len(df_finished.workflow.unique()))\n",
    "df_finished[['Formula','Stacking']] = df_finished.workflow.str.split(\",\",expand=True)\n",
    "print(df_finished.Formula.unique())\n",
    "print(len(df_finished.workflow.unique()))\n",
    "# 57 unique formula "
   ]
  },
  {
   "cell_type": "code",
   "execution_count": 10,
   "metadata": {},
   "outputs": [],
   "source": [
    "df.to_csv('AAX_RAW.csv')"
   ]
  },
  {
   "cell_type": "code",
   "execution_count": 11,
   "metadata": {},
   "outputs": [
    {
     "name": "stdout",
     "output_type": "stream",
     "text": [
      "<class 'collections.Counter'>\n",
      "[('Ir4Cl12',)]9\n",
      "\n",
      " No. of jobs for each structure\n",
      "{'Ir4Cl12': '9', 'Zr2Ti2I12': '3', 'Ti2Fe2Cl12': '2', 'Ti4Br12': '8', 'Zr2Ti2Cl12': '3', 'Ni2Ir2Cl12': '4', 'Mo2Ir2Br12': '4', 'Zr2Ti2Br12': '5', 'Cr2Ir2Br12': '5', 'Ti2Ni2Br12': '4', 'Cd2Ir2I12': '6', 'Mo2Ir2Cl12': '5', 'Ti2Ru2Cl12': '5', 'Ti2Ni2Cl12': '8', 'Cd2Ir2Br12': '5', 'Ir2Ru2I12': '8', 'Ir2Ru2Cl12': '2', 'Ir2Pd2Cl12': '5', 'Ti4I12': '3', 'Ir2Ru2Br12': '4', 'Ti2Fe2I12': '2', 'Fe2Ir2I12': '2', 'Ti2Au2I12': '3', 'Ir2Au2Br12': '5', 'Ti2Zn2Cl12': '0', 'Ti2Ni2I12': '3', 'Ti2Ir2I12': '2', 'Ir2Pd2I12': '2', 'Ir4Br12': '0', 'Ti2Mo2I12': '1', 'Cr2Ir2I12': '6', 'Ti4Cl12': '7', 'Ti2Ru2Br12': '4', 'Ti2Cd2Cl12': '8', 'Ti2Cd2I12': '5', 'Mo2Ir2I12': '5', 'Ti2Pd2Br12': '6', 'Ti2Pd2I12': '2', 'Ti2Au2Cl12': '4', 'Fe2Ir2Cl12': '4', 'Ir4I12': '5', 'Zn2Ir2Cl12': '6', 'Zr2Ir2Cl12': '5', 'Ti2Cd2Br12': '7', 'Ni2Ir2Br12': '5', 'Ti2Ru2I12': '6', 'Ni2Ir2I12': '6', 'Ti2Cr2Br12': '2', 'Zn2Ir2Br12': '4', 'Zr2Ir2Br12': '5', 'Fe2Ir2Br12': '8', 'Ti2Zn2Br12': '9', 'Ti2Pd2Cl12': '9', 'Ti2Cr2Cl12': '3', 'Ti2Cr2I12': '2', 'Zr2Ir2I12': '4', 'Ti2Zn2I12': '4', 'Ti2Au2Br12': '5', 'Cr2Ir2Cl12': '5', 'Ir2Au2Cl12': '8', 'Zn2Ir2I12': '4', 'Ir2Au2I12': '3', 'Ti2Fe2Br12': '1', 'Cd2Ir2Cl12': '4', 'Ir2Pd2Br12': '1'}\n",
      "\n",
      " No. of unique structure\n",
      "65\n",
      "\n",
      " Total count of finished jobs\n",
      "290\n"
     ]
    }
   ],
   "source": [
    "# get an idea of how many jobs finihsed for each structure\n",
    "from collections import Counter\n",
    "#c = Counter(list(zip(df_finished.Stacking, df_finished.Formula)))\n",
    "c = Counter(list(zip(df_finished.Formula)))\n",
    "#print(c)\n",
    "print(type(c))\n",
    "dict_count = dict(c)\n",
    "#print(type(str(dict_count.keys)))\n",
    "\n",
    "dict_count_temp = []\n",
    "for key, val in dict_count.items():\n",
    "    dict_count_temp.append(str([key])+ str(val))\n",
    "\n",
    "#print(type(str(dict_count_temp)))\n",
    "print(dict_count_temp[0])\n",
    "dict_with_job_count = {}\n",
    "\n",
    "count = 0 \n",
    "\n",
    "for temp in dict_count_temp:\n",
    "    #print(temp)\n",
    "    val = temp[-1:]\n",
    "    count = count + int(val)\n",
    "    key_temp = temp[3: temp.rfind(',')]\n",
    "    key = key_temp.replace(\"'\", \"\")\n",
    "    #print(val)\n",
    "    dict_with_job_count.update({key: val})\n",
    "print(\"\\n No. of jobs for each structure\")\n",
    "print(dict_with_job_count)\n",
    "\n",
    "print(\"\\n No. of unique structure\")\n",
    "\n",
    "print(len(dict_with_job_count))\n",
    "\n",
    "print(\"\\n Total count of finished jobs\")\n",
    "\n",
    "print(count)"
   ]
  },
  {
   "cell_type": "code",
   "execution_count": 12,
   "metadata": {},
   "outputs": [
    {
     "data": {
      "text/plain": [
       "Index(['index', '_state', 'job_id', 'workflow', 'name', 'description', 'lock',\n",
       "       'tick', 'parents', 'input_files', 'stage_in_url', 'stage_out_files',\n",
       "       'stage_out_url', 'wall_time_minutes', 'num_nodes',\n",
       "       'coschedule_num_nodes', 'ranks_per_node', 'cpu_affinity',\n",
       "       'threads_per_rank', 'threads_per_core', 'node_packing_count',\n",
       "       'environ_vars', 'application', 'args', 'user_workdir',\n",
       "       'wait_for_parents', 'post_error_handler', 'post_timeout_handler',\n",
       "       'auto_timeout_retry', 'state', 'state_history', 'queued_launch_id',\n",
       "       'data', 'magmom_unitcell_x', 'magmom_unitcell_y', 'magmom_unitcell_z',\n",
       "       'magmom_total'],\n",
       "      dtype='object')"
      ]
     },
     "execution_count": 12,
     "metadata": {},
     "output_type": "execute_result"
    }
   ],
   "source": [
    "df.columns"
   ]
  },
  {
   "cell_type": "code",
   "execution_count": 13,
   "metadata": {},
   "outputs": [],
   "source": [
    "# data contains a dictionary of DFT results \n",
    "# check the contents of this dictionary \n",
    "df_filtered_finished_data = df_finished[['Formula', 'Stacking', 'name', 'data','magmom_unitcell_x', 'magmom_unitcell_y', 'magmom_unitcell_z',\n",
    "       'magmom_total']].copy()\n",
    "#df_filtered_finished_data\n",
    "#print(type(df_filtered_finished_data.iloc[0]['data']))\n",
    "#print(\"\\n Types of DFT data\")\n",
    "#print(df_filtered_finished_data.iloc[0]['data'].keys())\n",
    "#print(\"\\n DFT data : LOOP+\")\n",
    "#print(df_filtered_finished_data.iloc[0]['data'].get('LOOP+'))\n",
    "#print(\"\\n DFT data : NIONS\")\n",
    "#print(df_filtered_finished_data.iloc[0]['data'].get('NIONS'))\n",
    "#print(\"\\n DFT data : NKDIM\")\n",
    "#print(df_filtered_finished_data.iloc[0]['data'].get('NKDIM'))\n",
    "#print(\"\\n DFT data : NBANDS\")\n",
    "#print(df_filtered_finished_data.iloc[0]['data'].get('NBANDS'))\n",
    "#print(\"\\n DFT data : energy\")\n",
    "#print(df_filtered_finished_data.iloc[0]['data'].get('energy'))\n",
    "#print(\"\\n DFT data : stress\")\n",
    "#print(df_filtered_finished_data.iloc[0]['data'].get('stress'))\n",
    "#print(\"\\n DFT data : retry_count\")\n",
    "#print(df_filtered_finished_data.iloc[0]['data'].get('retry_count'))\n",
    "#print(\"\\n DFT data : lattice_vecs\")\n",
    "#print(df_filtered_finished_data.iloc[0]['data'].get('lattice_vecs'))\n",
    "#print(\"\\n DFT data : total charge\")\n",
    "#print(df_filtered_finished_data.iloc[0]['data'].get('total charge'))\n",
    "#print(\"\\n DFT data : magnetization\")\n",
    "#print(df_filtered_finished_data.iloc[0]['data'].get('magnetization'))\n",
    "#print(\"\\n DFT data : position_force\")\n",
    "#print(df_filtered_finished_data.iloc[0]['data'].get('position_force'))\n",
    "#print(\"\\n DFT data : volume of cell\")\n",
    "#print(df_filtered_finished_data.iloc[0]['data'].get('volume of cell'))"
   ]
  },
  {
   "cell_type": "code",
   "execution_count": 14,
   "metadata": {},
   "outputs": [
    {
     "name": "stdout",
     "output_type": "stream",
     "text": [
      "310\n"
     ]
    }
   ],
   "source": [
    "count_row = df_filtered_finished_data.shape[0]  # Gives number of rows\n",
    "count_col = df_filtered_finished_data.shape[1]  # Gives number of columns\n",
    "print(count_row)"
   ]
  },
  {
   "cell_type": "code",
   "execution_count": 15,
   "metadata": {},
   "outputs": [],
   "source": [
    "\n",
    "def parse_data_to_form_columns(df):\n",
    "    \n",
    "    #input: dataframe containing the energy data\n",
    "    \n",
    "    #output: input dataframe with added columns from the 'data' column i.e. energy, LOOP+, etc.\n",
    "    \n",
    "    rownum = 0\n",
    "    rownum = len(df)\n",
    "    print(rownum) # number of rows in the dataframe\n",
    "    \n",
    "    loop= []\n",
    "    nions= []\n",
    "    nkdim= []\n",
    "    nbannds= []\n",
    "    energy= []\n",
    "    stress= []\n",
    "    retry= []\n",
    "    lattice_vecs= []\n",
    "    charge= []\n",
    "    magnetization= []\n",
    "    position_force= []\n",
    "    vol= []\n",
    "    \n",
    "    \n",
    "    \n",
    "\n",
    "    for i in range(rownum) :\n",
    "        loop.append(df.iloc[i]['data'].get('LOOP+'))\n",
    "        nions.append(df.iloc[i]['data'].get('NIONS'))\n",
    "        nkdim.append(df.iloc[i]['data'].get('NKDIM'))\n",
    "        nbannds.append(df.iloc[i]['data'].get('NBANDS'))\n",
    "        energy.append(df.iloc[i]['data'].get('energy'))\n",
    "        stress.append(df.iloc[i]['data'].get('stress'))\n",
    "        retry.append(df.iloc[i]['data'].get('retry_count'))\n",
    "        lattice_vecs.append(df.iloc[i]['data'].get('lattice_vecs'))\n",
    "        charge.append(df.iloc[i]['data'].get('total charge'))\n",
    "        magnetization.append(df.iloc[i]['data'].get('magnetization'))\n",
    "        position_force.append(df.iloc[i]['data'].get('position_force'))\n",
    "        vol.append(df.iloc[i]['data'].get('volume of cell'))\n",
    "   \n",
    "    df['LOOP+'] = loop\n",
    "    df['NIONS'] = nions\n",
    "    df['NKDIM'] = nkdim\n",
    "    df['NBANDS'] = nbannds\n",
    "    df['energy'] = energy\n",
    "    df['stress'] = stress\n",
    "    df['retry_count'] = retry\n",
    "    df['lattice_vecs'] = lattice_vecs\n",
    "    df['total charge'] = charge\n",
    "    df['magnetization'] = magnetization\n",
    "    df['position_force'] = position_force\n",
    "    df['volume of cell'] = vol\n",
    "    return df"
   ]
  },
  {
   "cell_type": "code",
   "execution_count": 16,
   "metadata": {},
   "outputs": [
    {
     "name": "stdout",
     "output_type": "stream",
     "text": [
      "310\n"
     ]
    },
    {
     "data": {
      "text/plain": [
       "Index(['Formula', 'Stacking', 'name', 'data', 'magmom_unitcell_x',\n",
       "       'magmom_unitcell_y', 'magmom_unitcell_z', 'magmom_total', 'LOOP+',\n",
       "       'NIONS', 'NKDIM', 'NBANDS', 'energy', 'stress', 'retry_count',\n",
       "       'lattice_vecs', 'total charge', 'magnetization', 'position_force',\n",
       "       'volume of cell'],\n",
       "      dtype='object')"
      ]
     },
     "execution_count": 16,
     "metadata": {},
     "output_type": "execute_result"
    }
   ],
   "source": [
    "parse_data_to_form_columns(df_filtered_finished_data)\n",
    "df_filtered_finished_data.columns\n",
    "# Index(['Formula', 'Stacking', 'name', 'data'], dtype='object')\n"
   ]
  },
  {
   "cell_type": "code",
   "execution_count": 17,
   "metadata": {},
   "outputs": [],
   "source": [
    "# Take the most relaxed energy , if the energy is a list take the last one , if float keep it\n",
    "def get_energy_data(df):\n",
    "    \"\"\"Get the dataframe as an input and get the energy data present in the 'data' \n",
    "    column of the dataframe to retrieve the most relaxed energy for that material.\n",
    "    \"\"\"\n",
    "    rownum = len(df)\n",
    "    relaxed_Energy = []\n",
    "    for i in range(rownum) :\n",
    "        if isinstance(df.iloc[i]['energy'],list):\n",
    "            energy_temp = []\n",
    "            energy_temp = df.iloc[i]['energy']\n",
    "            relaxed_Energy.append(energy_temp[-1])\n",
    "        else:\n",
    "            relaxed_Energy.append(df.iloc[i]['energy'])\n",
    "            \n",
    "    df['relaxed_Energy'] = relaxed_Energy \n",
    "    return df"
   ]
  },
  {
   "cell_type": "code",
   "execution_count": 18,
   "metadata": {},
   "outputs": [
    {
     "name": "stdout",
     "output_type": "stream",
     "text": [
      "310\n"
     ]
    }
   ],
   "source": [
    "df_filtered_finished_data = get_energy_data(df_filtered_finished_data)\n",
    "count_row = df_filtered_finished_data.shape[0]  # Gives number of rows\n",
    "count_col = df_filtered_finished_data.shape[1]  # Gives number of columns\n",
    "print(count_row)"
   ]
  },
  {
   "cell_type": "code",
   "execution_count": 19,
   "metadata": {},
   "outputs": [],
   "source": [
    "mprest = MPRester('PzoyfeSvTTxngtLA')"
   ]
  },
  {
   "cell_type": "code",
   "execution_count": 20,
   "metadata": {},
   "outputs": [],
   "source": [
    "def get_sum_individual_energies(df):\n",
    "\n",
    "    # Add coulms with 'sum_individual_energy' , 'elements_present', and  composition. \n",
    "    # sum_individual_energy = sum of energy per atom (min) from materials projects for each formula\n",
    "    # elements_present is a list of elements\n",
    "    # composition is a dictionary with keys as elements and value as its count.\n",
    "    \n",
    "    rownum = len(df)\n",
    "    sum_individual_energy = []\n",
    "    elements_present = []\n",
    "    composition = []\n",
    "\n",
    "    for i in range(rownum) :\n",
    "        formula = df.iloc[i]['Formula']\n",
    "        arr_of_elements = mg.Composition(formula)\n",
    "        num_of_elements = arr_of_elements.get_el_amt_dict()\n",
    "        \n",
    "        # num_of_elements is a dictionary Ir4Cl12 : {'Ir': 4.0, 'Cl': 12.0})\n",
    "        \n",
    "        elements_present.append(list(num_of_elements.keys()))\n",
    "        composition.append(dict(num_of_elements))\n",
    "        \n",
    "        sum_individual_energies = 0\n",
    "        # Ir -8.83  cl - 7.39\n",
    "        for elem in arr_of_elements:\n",
    "            en = mprest.get_data(elem) # has all values from material projects\n",
    "            en = [x['energy_per_atom'] for x in en] # has multiple energies\n",
    "            #if en:\n",
    "            en = np.min(en)*num_of_elements[str(elem)] # choose the lowest energy and multiply with no.of atoms\n",
    "            #else:\n",
    "                #en = -0.142        \n",
    "            sum_individual_energies = sum_individual_energies + en\n",
    "        \n",
    "        sum_individual_energy.append(sum_individual_energies)\n",
    "    \n",
    "    df['sum_individual_energy'] = sum_individual_energy \n",
    "    df['elements_present'] = elements_present \n",
    "    df['composition'] = composition \n",
    "    print(get_sum_individual_energies)\n",
    "    return df"
   ]
  },
  {
   "cell_type": "code",
   "execution_count": 21,
   "metadata": {},
   "outputs": [
    {
     "name": "stdout",
     "output_type": "stream",
     "text": [
      "<function get_sum_individual_energies at 0x000002368375D9D0>\n",
      "310\n"
     ]
    }
   ],
   "source": [
    "df_filtered_finished_data = get_sum_individual_energies(df_filtered_finished_data)\n",
    "count_row = df_filtered_finished_data.shape[0]  # Gives number of rows\n",
    "count_col = df_filtered_finished_data.shape[1]  # Gives number of columns\n",
    "print(count_row)"
   ]
  },
  {
   "cell_type": "code",
   "execution_count": 22,
   "metadata": {},
   "outputs": [],
   "source": [
    "def get_formation_energy(df):\n",
    "    # formation_energy = relaxed_Energy - sum_individual_energy\n",
    "    rownum = len(df)\n",
    "    formation_energy = []\n",
    "\n",
    "    for i in range(rownum) :\n",
    "        formation_energy_val = 0\n",
    "        formation_energy_val_float = 0\n",
    "        relaxed_Energy = df.iloc[i]['relaxed_Energy']\n",
    "        sum_individual_energy = df.iloc[i]['sum_individual_energy']\n",
    "\n",
    "        formation_energy_val = relaxed_Energy - sum_individual_energy\n",
    "        #formation_energy_val_float = formation_energy_val.item()\n",
    "        formation_energy.append(formation_energy_val)       \n",
    "    \n",
    "    df['formation_energy'] = formation_energy\n",
    "    \n",
    "    return df"
   ]
  },
  {
   "cell_type": "code",
   "execution_count": 23,
   "metadata": {},
   "outputs": [
    {
     "name": "stdout",
     "output_type": "stream",
     "text": [
      "310\n"
     ]
    }
   ],
   "source": [
    "df_filtered_finished_data = get_formation_energy(df_filtered_finished_data)\n",
    "count_row = df_filtered_finished_data.shape[0]  # Gives number of rows\n",
    "count_col = df_filtered_finished_data.shape[1]  # Gives number of columns\n",
    "print(count_row)"
   ]
  },
  {
   "cell_type": "code",
   "execution_count": 24,
   "metadata": {},
   "outputs": [
    {
     "name": "stdout",
     "output_type": "stream",
     "text": [
      "count    307.000000\n",
      "mean     -70.995412\n",
      "std       14.106502\n",
      "min     -108.409707\n",
      "25%      -82.195788\n",
      "50%      -69.816388\n",
      "75%      -60.907393\n",
      "max      -43.234708\n",
      "Name: formation_energy, dtype: float64\n"
     ]
    }
   ],
   "source": [
    "from statistics import mean, median\n",
    "\n",
    "formation_energy = df_filtered_finished_data['formation_energy']\n",
    "#formation_energy_np = formation_energy.to_numpy(),linspace()\n",
    "\n",
    "print(df_filtered_finished_data['formation_energy'].describe())\n"
   ]
  },
  {
   "cell_type": "code",
   "execution_count": 25,
   "metadata": {},
   "outputs": [
    {
     "data": {
      "text/plain": [
       "Text(0, 0.5, 'Frequency')"
      ]
     },
     "execution_count": 25,
     "metadata": {},
     "output_type": "execute_result"
    },
    {
     "data": {
      "image/png": "[encoded data removed]",
      "text/plain": [
       "<Figure size 432x288 with 1 Axes>"
      ]
     },
     "metadata": {
      "needs_background": "light"
     },
     "output_type": "display_data"
    }
   ],
   "source": [
    "plt.hist(df_filtered_finished_data['formation_energy'],alpha=0.5)\n",
    "plt.title('Histogram of Formation Energy')\n",
    "plt.xlabel('Formation Energy')\n",
    "plt.ylabel('Frequency')"
   ]
  },
  {
   "cell_type": "code",
   "execution_count": 26,
   "metadata": {},
   "outputs": [],
   "source": [
    "# check for transition elements and halides in the formula\n",
    "\n",
    "transition_elements_dict = {'Ti': 'titanium', 'V': 'vanadium','Cr': 'chromium','Mn': 'manganese','Fe': 'iron',\n",
    "           'Co': 'cobalt','Ni': 'nickel','Cu': 'copper','Zr': 'zirconium','Nb': 'niobium',\n",
    "           'Mo': 'molybdenum','Tc': 'technetium','Ru': 'ruthenium','Rh': 'rhodium','Pd': 'palladium',\n",
    "           'Ag': 'silver','Hf': 'hafnium','Ta': 'tantalum','W': 'tungsten','Re': 'rhenium',\n",
    "           'Os': 'osmium','Ir': 'iridium','Pt': 'platinum','Au': 'gold', 'Sc': 'scandium',\n",
    "           'Zn': 'zinc','Y': 'yttrium','Cd': 'cadmium','Hg': 'mercury','Rf': 'rutherfordium',\n",
    "           'Db': 'dubnium','Sg': 'seaborgium','Bh': 'bohrium','Hs': 'hassium','Mt': 'meitnerium',\n",
    "           'Uun':'ununnilium','Uuu': 'unununium','Uub': 'unubium'}\n",
    "transition_metal_symbol = list(transition_elements_dict.keys())\n",
    "count = 0\n",
    "for symbol in transition_metal_symbol:\n",
    "    count = count +1\n",
    "\n",
    "def classify_based_on_transition_metal( formula ):\n",
    "   \n",
    "   list_of_transition_metal = []\n",
    "   for symbol in transition_metal_symbol:\n",
    "    if(symbol in formula):\n",
    "        list_of_transition_metal.append(symbol)\n",
    "   return list_of_transition_metal\n",
    "\n",
    "\n",
    "\n",
    "def has_key_in(string):\n",
    "  return any(k in string for k in transition_elements_dict)\n",
    "\n",
    "halides_dict = {'F': 'Fluoride', 'Cl': 'Chloride','Br': 'Bromide','I': 'Iodide'}\n",
    "halide_symbol = list(halides_dict.keys())\n",
    "\n",
    "\n",
    "def classify_based_on_halides( formula ):\n",
    "   \n",
    "   halides = ''\n",
    "   for symbol in halide_symbol:\n",
    "    if(symbol in formula):\n",
    "        halides = symbol\n",
    "   return halides\n"
   ]
  },
  {
   "cell_type": "code",
   "execution_count": 27,
   "metadata": {},
   "outputs": [],
   "source": [
    "def check_for_transition_metal(df):\n",
    "    # transition_element will contain a list of transition elements present\n",
    "    rownum = len(df)\n",
    "    transition_element = []\n",
    "\n",
    "    for i in range(rownum) :\n",
    "        tranistion_ele = []\n",
    "        \n",
    "        elements_present = df.iloc[i]['elements_present']\n",
    "        \n",
    "        tranistion_ele = classify_based_on_transition_metal(elements_present)\n",
    "        \n",
    "        transition_element.append(tranistion_ele)\n",
    "        \n",
    "    df['Transition_Element'] = transition_element\n",
    "    \n",
    "    return df"
   ]
  },
  {
   "cell_type": "code",
   "execution_count": 28,
   "metadata": {},
   "outputs": [],
   "source": [
    "def check_for_halides(df):\n",
    "    # halides will contain a halides that is present\n",
    "    rownum = len(df)\n",
    "    halides = []\n",
    "\n",
    "    for i in range(rownum) :\n",
    "        halide_ele = ''\n",
    "        \n",
    "        elements_present = df.iloc[i]['elements_present']\n",
    "        \n",
    "        halide_ele = classify_based_on_halides(elements_present)\n",
    "        \n",
    "        halides.append(halide_ele) \n",
    "        \n",
    "    df['Halides'] = halides\n",
    "    \n",
    "    return df"
   ]
  },
  {
   "cell_type": "code",
   "execution_count": 29,
   "metadata": {},
   "outputs": [
    {
     "name": "stdout",
     "output_type": "stream",
     "text": [
      "310\n"
     ]
    }
   ],
   "source": [
    "df_filtered_finished_data = check_for_transition_metal(df_filtered_finished_data)\n",
    "df_filtered_finished_data = check_for_halides(df_filtered_finished_data)\n",
    "\n",
    "count_row = df_filtered_finished_data.shape[0]  # Gives number of rows\n",
    "count_col = df_filtered_finished_data.shape[1]  # Gives number of columns\n",
    "print(count_row)"
   ]
  },
  {
   "cell_type": "code",
   "execution_count": 30,
   "metadata": {},
   "outputs": [
    {
     "name": "stdout",
     "output_type": "stream",
     "text": [
      "Count of transition element in dictionary ( x axis)\n",
      "38\n",
      "Presence of Transition Element in the data set :\n",
      "{'Ti': 146, 'V': 0, 'Cr': 23, 'Mn': 0, 'Fe': 19, 'Co': 0, 'Ni': 30, 'Cu': 0, 'Zr': 25, 'Nb': 0, 'Mo': 15, 'Tc': 0, 'Ru': 29, 'Rh': 0, 'Pd': 25, 'Ag': 0, 'Hf': 0, 'Ta': 0, 'W': 0, 'Re': 0, 'Os': 0, 'Ir': 166, 'Pt': 0, 'Au': 28, 'Sc': 0, 'Zn': 37, 'Y': 0, 'Cd': 35, 'Hg': 0, 'Rf': 0, 'Db': 0, 'Sg': 0, 'Bh': 0, 'Hs': 0, 'Mt': 0, 'Uun': 0, 'Uuu': 0, 'Uub': 0}\n"
     ]
    },
    {
     "data": {
      "image/png": "[encoded data removed]",
      "text/plain": [
       "<Figure size 1440x216 with 1 Axes>"
      ]
     },
     "metadata": {
      "needs_background": "light"
     },
     "output_type": "display_data"
    }
   ],
   "source": [
    "count = 0\n",
    "d = { }\n",
    "\n",
    "for ele in transition_metal_symbol:\n",
    "    count = count +1\n",
    "print(\"Count of transition element in dictionary ( x axis)\")    \n",
    "print(count)\n",
    "#df_filtered_finished_data.Transition_Element\n",
    "\n",
    "list_of_list_of_transition_metal = np.array(df_filtered_finished_data.Transition_Element)\n",
    "\n",
    "\n",
    "#print(list_of_normalized_moment)\n",
    "#print(list_of_list_of_transition_metal)\n",
    "#transition_metal_symbol = ['Fe']\n",
    "\n",
    "for ele in transition_metal_symbol:\n",
    "    count = 0\n",
    "    for each_list in df_filtered_finished_data.Transition_Element:\n",
    "        if ele in each_list:\n",
    "            count = count +1 \n",
    "            #print(df_heatmap.normalized_moment)\n",
    "    d[ele] = count\n",
    "print(\"Presence of Transition Element in the data set :\")\n",
    "print(d)\n",
    "\n",
    "plt.figure(figsize=(20, 3))  # width:20, height:3\n",
    "#plt.bar(range(len(my_dict)), my_dict.values(), align='edge', width=0.3)\n",
    "\n",
    "plt.bar(range(len(d)), list(d.values()), align='edge', width=0.5)\n",
    "plt.xticks(range(len(d)), list(d.keys()))\n",
    "plt.title('Plot of count of compound containing transition elements')\n",
    "plt.xlabel('transition elements')\n",
    "plt.ylabel('count')\n",
    "plt.grid(axis='y', alpha=0.75)\n",
    "plt.show()"
   ]
  },
  {
   "cell_type": "code",
   "execution_count": 31,
   "metadata": {},
   "outputs": [
    {
     "name": "stdout",
     "output_type": "stream",
     "text": [
      "Count of Halides in dictionary ( x axis)\n",
      "4\n",
      "Presence of Halides in the data set :\n",
      "{'F': 0, 'Cl': 116, 'Br': 107, 'I': 87}\n"
     ]
    },
    {
     "data": {
      "image/png": "[encoded data removed]",
      "text/plain": [
       "<Figure size 1440x216 with 1 Axes>"
      ]
     },
     "metadata": {
      "needs_background": "light"
     },
     "output_type": "display_data"
    }
   ],
   "source": [
    "count = 0\n",
    "d = { }\n",
    "\n",
    "for ele in halide_symbol:\n",
    "    count = count +1\n",
    "print(\"Count of Halides in dictionary ( x axis)\")    \n",
    "print(count)\n",
    "#df_filtered_finished_data.Transition_Element\n",
    "\n",
    "list_of_list_of_halides = np.array(df_filtered_finished_data.Halides)\n",
    "\n",
    "for ele in halide_symbol:\n",
    "    count = 0\n",
    "    for each_list in df_filtered_finished_data.Halides:\n",
    "        if ele in each_list:\n",
    "            count = count +1 \n",
    "            #print(df_heatmap.normalized_moment)\n",
    "    d[ele] = count\n",
    "print(\"Presence of Halides in the data set :\")\n",
    "print(d)\n",
    "\n",
    "plt.figure(figsize=(20, 3))  # width:20, height:3\n",
    "#plt.bar(range(len(my_dict)), my_dict.values(), align='edge', width=0.3)\n",
    "\n",
    "plt.bar(range(len(d)), list(d.values()), align='edge', width=0.5)\n",
    "plt.xticks(range(len(d)), list(d.keys()))\n",
    "plt.title('Plot of count of compound containing Halides')\n",
    "plt.xlabel('transition elements')\n",
    "plt.ylabel('count')\n",
    "plt.grid(axis='y', alpha=0.75)\n",
    "plt.show()"
   ]
  },
  {
   "cell_type": "code",
   "execution_count": 32,
   "metadata": {},
   "outputs": [],
   "source": [
    "def add_descriptors_from_mendeleev(df):\n",
    "    # add descriptors from medeleev package \n",
    "    # each property is multiplied with the count of individual atom and then added to get the sum for the compound\n",
    "    rownum = len(df)\n",
    "\n",
    "    \n",
    "    total_electron_count = [] # addition of atomic no.\n",
    "    \n",
    "    total_nvalence = []\n",
    "    total_heat_of_formation = []\n",
    "    total_unpaired_electrons = []\n",
    "    total_electron_affinity = []\n",
    "    total_en_ghosh = []\n",
    "    total_en_pauling = []\n",
    "    total_dipole_polarizability = []\n",
    "\n",
    "    for i in range(rownum) :\n",
    "        total_electron_count_temp = 0\n",
    "        \n",
    "        total_nvalence_temp = 0\n",
    "        total_heat_of_formation_temp = 0\n",
    "        total_unpaired_electrons_temp = 0\n",
    "        total_electron_affinity_temp = 0\n",
    "        total_en_ghosh_temp = 0\n",
    "        total_en_pauling_temp = 0\n",
    "        total_dipole_polarizability_temp = 0\n",
    "        \n",
    "        \n",
    "        composition = df.iloc[i]['composition']\n",
    "        elements_present = list(composition.keys())\n",
    "\n",
    "        \n",
    "        for elem in elements_present: \n",
    "             \n",
    "            atom_count = composition.get(elem)\n",
    "            \n",
    "            atomic_number = element(str(elem)).atomic_number\n",
    "            \n",
    "            dipole_polarizability = element(str(elem)).dipole_polarizability\n",
    "            electron_affinity =element(str(elem)).electron_affinity\n",
    "            en_ghosh = element(str(elem)).en_ghosh\n",
    "            en_pauling = element(str(elem)).en_pauling\n",
    "            nvalence =  element(str(elem)).nvalence()\n",
    "            heat_of_formation = element(str(elem)).heat_of_formation\n",
    "            electronic_config = element(str(elem)).ec\n",
    "            unpaired_electrons = electronic_config.unpaired_electrons()\n",
    "            \n",
    "\n",
    "            \n",
    "            total_electron_count_temp = total_electron_count_temp + (atomic_number*atom_count)\n",
    "            \n",
    "            total_nvalence_temp = total_nvalence_temp + (nvalence*atom_count)\n",
    "            total_heat_of_formation_temp = total_heat_of_formation_temp + (heat_of_formation*atom_count)\n",
    "            total_unpaired_electrons_temp = total_unpaired_electrons_temp + (unpaired_electrons*atom_count)\n",
    "            \n",
    "            total_electron_affinity_temp = total_electron_affinity_temp + ((float(0 if electron_affinity is None else electron_affinity))*atom_count)\n",
    "                \n",
    "            total_en_ghosh_temp = total_en_ghosh_temp + (en_ghosh*atom_count)\n",
    "            total_en_pauling_temp = total_en_pauling_temp + (en_pauling*atom_count)\n",
    "            total_dipole_polarizability_temp = total_dipole_polarizability_temp + (dipole_polarizability*atom_count)\n",
    "        \n",
    "            \n",
    "        total_electron_count.append(total_electron_count_temp)\n",
    "        \n",
    "        total_nvalence.append(total_nvalence_temp)\n",
    "        total_heat_of_formation.append(total_heat_of_formation_temp)\n",
    "        total_unpaired_electrons.append(total_unpaired_electrons_temp)\n",
    "        total_electron_affinity.append(total_electron_affinity_temp)\n",
    "        total_en_ghosh.append(total_en_ghosh_temp)\n",
    "        total_en_pauling.append(total_en_pauling_temp)\n",
    "        total_dipole_polarizability.append(total_dipole_polarizability_temp)\n",
    "    \n",
    "        \n",
    "    df['total_electron_count'] = total_electron_count\n",
    "    \n",
    "    df['total_nvalence'] = total_nvalence\n",
    "    df['total_heat_of_formation'] = total_heat_of_formation\n",
    "    df['total_unpaired_electrons'] = total_unpaired_electrons\n",
    "    df['total_electron_affinity'] = total_electron_affinity\n",
    "    df['total_en_ghosh'] = total_en_ghosh\n",
    "    df['total_en_pauling'] = total_en_pauling\n",
    "    df['total_dipole_polarizability'] = total_dipole_polarizability\n",
    "    \n",
    "    return df"
   ]
  },
  {
   "cell_type": "code",
   "execution_count": 33,
   "metadata": {},
   "outputs": [
    {
     "name": "stdout",
     "output_type": "stream",
     "text": [
      "310\n"
     ]
    }
   ],
   "source": [
    "df_filtered_finished_data = add_descriptors_from_mendeleev(df_filtered_finished_data)\n",
    "count_row = df_filtered_finished_data.shape[0]  # Gives number of rows\n",
    "count_col = df_filtered_finished_data.shape[1]  # Gives number of columns\n",
    "print(count_row)"
   ]
  },
  {
   "cell_type": "code",
   "execution_count": 34,
   "metadata": {},
   "outputs": [
    {
     "data": {
      "image/png": "[encoded data removed]",
      "text/plain": [
       "<Figure size 432x288 with 1 Axes>"
      ]
     },
     "metadata": {
      "needs_background": "light"
     },
     "output_type": "display_data"
    }
   ],
   "source": [
    "#plots to show the range of formation energy for different names\n",
    "\n",
    "fig, ax = plt.subplots()\n",
    "\n",
    "ax.scatter(df_filtered_finished_data['formation_energy'], df_filtered_finished_data['name'])\n",
    "plt.title('Range of Formation Energy Vs Name')\n",
    "plt.xlabel('Formation Energy')\n",
    "plt.ylabel('name')\n",
    "\n",
    "plt.show()"
   ]
  },
  {
   "cell_type": "code",
   "execution_count": 35,
   "metadata": {},
   "outputs": [
    {
     "data": {
      "image/png": "[encoded data removed]",
      "text/plain": [
       "<Figure size 432x288 with 1 Axes>"
      ]
     },
     "metadata": {
      "needs_background": "light"
     },
     "output_type": "display_data"
    }
   ],
   "source": [
    "\n",
    "#plots to show the range of formation energy for different hallides\n",
    "fig, ax2 = plt.subplots()\n",
    "\n",
    "ax2.scatter(df_filtered_finished_data['formation_energy'], df_filtered_finished_data['Halides'])\n",
    "\n",
    "plt.title('Range of Formation Energy Vs Halides')\n",
    "plt.xlabel('Formation Energy')\n",
    "plt.ylabel('Halides')\n",
    "\n",
    "plt.show()"
   ]
  },
  {
   "cell_type": "code",
   "execution_count": null,
   "metadata": {},
   "outputs": [],
   "source": []
  },
  {
   "cell_type": "code",
   "execution_count": 36,
   "metadata": {},
   "outputs": [
    {
     "data": {
      "image/png": "[encoded data removed]",
      "text/plain": [
       "<Figure size 432x288 with 1 Axes>"
      ]
     },
     "metadata": {
      "needs_background": "light"
     },
     "output_type": "display_data"
    }
   ],
   "source": [
    "#plots to show the range of formation energy for different names\n",
    "#the colors mark the three hallides available\n",
    "\n",
    "fig, ax3 = plt.subplots()\n",
    "colors = {\"Cl\":\"red\", \"I\":\"blue\", \"Br\":\"green\", \"F\":\"black\"}\n",
    "\n",
    "ax3.scatter(df_filtered_finished_data['formation_energy'], df_filtered_finished_data['name'], c=df_filtered_finished_data['Halides'].apply(lambda x: colors[x]))\n",
    "\n",
    "plt.title('Range of Formation Energy wrt name and Halides')\n",
    "plt.xlabel('Formation Energy')\n",
    "plt.ylabel('HALIDES:Cl-Red,I-Blue,Br-green,F-black')\n",
    "\n",
    "plt.show()"
   ]
  },
  {
   "cell_type": "code",
   "execution_count": 37,
   "metadata": {},
   "outputs": [
    {
     "name": "stdout",
     "output_type": "stream",
     "text": [
      "       name Halides  formation_energy_mean\n",
      "0       afm      Br             -68.395140\n",
      "1       afm      Cl             -78.686096\n",
      "2       afm       I             -57.698634\n",
      "3    afm_so      Br             -73.992901\n",
      "4    afm_so      Cl             -79.789141\n",
      "5    afm_so       I             -60.064345\n",
      "6   initial      Br             -71.055589\n",
      "7   initial      Cl             -80.455748\n",
      "8   initial       I             -59.692640\n",
      "9      spin      Br             -68.664864\n",
      "10     spin      Cl             -81.860745\n",
      "11     spin       I             -59.127787\n",
      "12  spin_so      Br             -73.094689\n",
      "13  spin_so      Cl             -80.335591\n",
      "14  spin_so       I             -56.533816\n"
     ]
    },
    {
     "data": {
      "image/png": "[encoded data removed]",
      "text/plain": [
       "<Figure size 432x288 with 1 Axes>"
      ]
     },
     "metadata": {
      "needs_background": "light"
     },
     "output_type": "display_data"
    }
   ],
   "source": [
    "grouped_multiple = df_filtered_finished_data.groupby(['name', 'Halides']).agg({'formation_energy': ['mean']})\n",
    "grouped_multiple.columns = ['formation_energy_mean']\n",
    "grouped_multiple = grouped_multiple.reset_index()\n",
    "print(grouped_multiple)\n",
    "\n",
    "fig, ax4 = plt.subplots()\n",
    "colors = {\"Cl\":\"red\", \"I\":\"blue\", \"Br\":\"green\", \"F\":\"black\"}\n",
    "\n",
    "ax4.scatter(grouped_multiple['formation_energy_mean'], grouped_multiple['name'], c=grouped_multiple['Halides'].apply(lambda x: colors[x]))\n",
    "plt.title('Mean of Formation Energy wrt name and Halides')\n",
    "plt.xlabel('Formation Energy')\n",
    "plt.ylabel('HALIDES:Cl-Red,I-Blue,Br-green,F-black')\n",
    "plt.show()"
   ]
  },
  {
   "cell_type": "code",
   "execution_count": null,
   "metadata": {},
   "outputs": [],
   "source": []
  },
  {
   "cell_type": "code",
   "execution_count": 38,
   "metadata": {},
   "outputs": [
    {
     "name": "stdout",
     "output_type": "stream",
     "text": [
      "       name Halides  formation_energy\n",
      "0       afm      Br                21\n",
      "1       afm      Cl                20\n",
      "2       afm       I                21\n",
      "3    afm_so      Br                14\n",
      "4    afm_so      Cl                19\n",
      "5    afm_so       I                 4\n",
      "6   initial      Br                35\n",
      "7   initial      Cl                33\n",
      "8   initial       I                39\n",
      "9      spin      Br                24\n",
      "10     spin      Cl                24\n",
      "11     spin       I                20\n",
      "12  spin_so      Br                12\n",
      "13  spin_so      Cl                19\n",
      "14  spin_so       I                 2\n"
     ]
    }
   ],
   "source": [
    "grouped_multiple = df_filtered_finished_data.groupby(['name', 'Halides'])['formation_energy'].count()\n",
    "#grouped_multiple.columns = ['formation_energy_mean']\n",
    "grouped_multiple = grouped_multiple.reset_index()\n",
    "\n",
    "print(grouped_multiple)\n",
    "# Made a BiPartite graph for dynamic visualization"
   ]
  },
  {
   "cell_type": "code",
   "execution_count": null,
   "metadata": {},
   "outputs": [],
   "source": []
  },
  {
   "cell_type": "code",
   "execution_count": 39,
   "metadata": {},
   "outputs": [
    {
     "name": "stdout",
     "output_type": "stream",
     "text": [
      "Index(['Formula', 'Stacking', 'name', 'data', 'magmom_unitcell_x',\n",
      "       'magmom_unitcell_y', 'magmom_unitcell_z', 'magmom_total', 'LOOP+',\n",
      "       'NIONS', 'NKDIM', 'NBANDS', 'energy', 'stress', 'retry_count',\n",
      "       'lattice_vecs', 'total charge', 'magnetization', 'position_force',\n",
      "       'volume of cell', 'relaxed_Energy', 'sum_individual_energy',\n",
      "       'elements_present', 'composition', 'formation_energy',\n",
      "       'Transition_Element', 'Halides', 'total_electron_count',\n",
      "       'total_nvalence', 'total_heat_of_formation', 'total_unpaired_electrons',\n",
      "       'total_electron_affinity', 'total_en_ghosh', 'total_en_pauling',\n",
      "       'total_dipole_polarizability'],\n",
      "      dtype='object')\n"
     ]
    }
   ],
   "source": [
    "# corelation between formation energy and descriptor\n",
    "# more correlated if close to 1\n",
    "print(df_filtered_finished_data.columns)\n",
    "df_energy_heatmap = df_filtered_finished_data[['relaxed_Energy', 'sum_individual_energy', 'formation_energy',\n",
    "                                              'total_electron_count', 'total_nvalence', 'total_heat_of_formation',\n",
    "                                           'total_unpaired_electrons', 'total_electron_affinity', 'total_en_ghosh',\n",
    "                                           'total_en_pauling', 'total_dipole_polarizability']].copy()"
   ]
  },
  {
   "cell_type": "code",
   "execution_count": 40,
   "metadata": {},
   "outputs": [
    {
     "data": {
      "image/png": "[encoded data removed]",
      "text/plain": [
       "<Figure size 432x288 with 2 Axes>"
      ]
     },
     "metadata": {
      "needs_background": "light"
     },
     "output_type": "display_data"
    }
   ],
   "source": [
    "corr = df_energy_heatmap.corr()\n",
    "ax = sns.heatmap(\n",
    "    corr, \n",
    "    vmin=-1, vmax=1, center=0,\n",
    "    cmap=sns.diverging_palette(20, 220, n=200),\n",
    "    square=True\n",
    ")\n",
    "ax.set_xticklabels(\n",
    "    ax.get_xticklabels(),\n",
    "    rotation=45,\n",
    "    horizontalalignment='right'\n",
    ");"
   ]
  },
  {
   "cell_type": "code",
   "execution_count": 41,
   "metadata": {},
   "outputs": [],
   "source": [
    "df_filtered_finished_data.to_csv('BiLayer_Data.csv')"
   ]
  },
  {
   "cell_type": "code",
   "execution_count": null,
   "metadata": {},
   "outputs": [],
   "source": [
    "#visualization : "
   ]
  },
  {
   "cell_type": "code",
   "execution_count": null,
   "metadata": {},
   "outputs": [],
   "source": []
  }
 ],
 "metadata": {
  "kernelspec": {
   "display_name": "Python 3",
   "language": "python",
   "name": "python3"
  },
  "language_info": {
   "codemirror_mode": {
    "name": "ipython",
    "version": 3
   },
   "file_extension": ".py",
   "mimetype": "text/x-python",
   "name": "python",
   "nbconvert_exporter": "python",
   "pygments_lexer": "ipython3",
   "version": "3.8.3"
  }
 },
 "nbformat": 4,
 "nbformat_minor": 4
}
