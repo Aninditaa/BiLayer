{
 "cells": [
  {
   "cell_type": "code",
   "execution_count": 45,
   "metadata": {},
   "outputs": [],
   "source": [
    "from mendeleev import element\n",
    "import pandas as pd\n",
    "import numpy as np\n",
    "import pymatgen as mg\n",
    "import seaborn as sns\n",
    "from pymatgen.ext.matproj import MPRester\n",
    "import seaborn as sns\n",
    "import matplotlib.pyplot as plt\n",
    "import math\n"
   ]
  },
  {
   "cell_type": "code",
   "execution_count": null,
   "metadata": {},
   "outputs": [],
   "source": [
    "# can use with Bilayer 1/3 and Monolayer 1 "
   ]
  },
  {
   "cell_type": "code",
   "execution_count": 3,
   "metadata": {},
   "outputs": [],
   "source": [
    "df_bilayer_all_data = pd.read_csv(\"BiLayer_Data.csv\") \n",
    "df_monolayer_all_data = pd.read_csv(\"MonoLayer_Data.csv\") "
   ]
  },
  {
   "cell_type": "code",
   "execution_count": 46,
   "metadata": {},
   "outputs": [],
   "source": [
    "def create_dict_of_elements_and_formation_energy_with_both_so(df):\n",
    "    # form a dictionary as key = Formula and value = [type_with_lowest_formation_energy, lowest_formation_energy , hasInitial, hasFMso, has AFMso]\n",
    "    rownum = len(df)\n",
    "    dict_of_element_and_lowest_formation_energy_without_initial= {}\n",
    "    dict_of_element_and_lowest_formation_energy_with_both_so = {}\n",
    "    \n",
    "    for i in range(rownum) :\n",
    "        Formula = df.iloc[i]['Formula']\n",
    "        name = df.iloc[i]['name']\n",
    "        formation_energy = df.iloc[i]['formation_energy']\n",
    "        \n",
    "        magmom_total = df.iloc[i]['magmom_total']\n",
    "        \n",
    "        #print(Formula + \" \" + name + \" \" + str(formation_energy))\n",
    "        \n",
    "        if name == 'afm_so':\n",
    "            isafm_so = True\n",
    "        else :\n",
    "            isafm_so = False\n",
    "            \n",
    "        if name == 'spin_so':\n",
    "            isfm_so = True\n",
    "        else :\n",
    "            isfm_so = False\n",
    "            \n",
    "        if name == 'initial':\n",
    "            isinitial = True\n",
    "        else :\n",
    "            isinitial = False\n",
    " \n",
    "        list_energy_type = []\n",
    "        if isfm_so or isafm_so :\n",
    "            if Formula in dict_of_element_and_lowest_formation_energy_without_initial.keys():\n",
    "                list_energy_type = dict_of_element_and_lowest_formation_energy_without_initial.get(Formula)\n",
    "                # check if the previous formation energy is greater than the current one, if yes replace\n",
    "                prev_formation_energy = list_energy_type[1]\n",
    "\n",
    "                if(prev_formation_energy > formation_energy):\n",
    "\n",
    "                    list_energy_type[0] = name\n",
    "                    list_energy_type[1] = formation_energy \n",
    "                    list_energy_type[5] = magmom_total\n",
    "                    # update the dictionary with new value \n",
    "                    dict_of_element_and_lowest_formation_energy_without_initial[Formula] = list_energy_type\n",
    "            else :\n",
    "                # insert new entry in dictionary\n",
    "                 # list contains type, formation_energy , hasInitial, hasFMso, has AFMso\n",
    "                list_energy_type = [name, formation_energy, False, False, False,magmom_total]\n",
    "                dict_of_element_and_lowest_formation_energy_without_initial.update({Formula: list_energy_type})\n",
    "\n",
    "\n",
    "            if isinitial :\n",
    "                list_energy_type[2] = True\n",
    "\n",
    "            elif isfm_so :\n",
    "                list_energy_type[3] = True\n",
    "\n",
    "            elif isafm_so :\n",
    "                list_energy_type[4] = True\n",
    "\n",
    "            list_energy_type[5] = magmom_total\n",
    "            dict_of_element_and_lowest_formation_energy_without_initial[Formula] = list_energy_type\n",
    "         \n",
    "        #formation_energy.append(formation_energy_val)       \n",
    "    \n",
    "    #df['formation_energy'] = formation_energy\n",
    "    #print(dict_of_element_and_lowest_formation_energy_without_initial)\n",
    "    \n",
    "    #return dict_of_element_and_lowest_formation_energy_without_initial\n",
    "    \n",
    "    # take only the data that has both afm_so and spin_so\n",
    "    \n",
    "    for key in dict_of_element_and_lowest_formation_energy_without_initial:\n",
    "        \n",
    "        list_val = dict_of_element_and_lowest_formation_energy_without_initial[key]\n",
    "        #isfm_so : list_energy_type[3] = True\n",
    "        #isafm_so :list_energy_type[4] = True\n",
    "                \n",
    "        if(list_val[3] and list_val[4]):\n",
    "            dict_of_element_and_lowest_formation_energy_with_both_so[key] = list_val\n",
    "            \n",
    "\n",
    "    return dict_of_element_and_lowest_formation_energy_with_both_so"
   ]
  },
  {
   "cell_type": "code",
   "execution_count": 47,
   "metadata": {},
   "outputs": [
    {
     "name": "stdout",
     "output_type": "stream",
     "text": [
      "Count of structure with both afm_so and spin_so : \n",
      "Bilayer :\n",
      "26\n",
      "Monolayer : \n",
      "200\n"
     ]
    }
   ],
   "source": [
    "dict_of_element_and_lowest_formation_energy_with_both_so_bilayer ={}\n",
    "dict_of_element_and_lowest_formation_energy_with_both_so_monolayer ={}\n",
    "\n",
    "dict_of_element_and_lowest_formation_energy_with_both_so_bilayer = create_dict_of_elements_and_formation_energy_with_both_so(df_bilayer_all_data)\n",
    "dict_of_element_and_lowest_formation_energy_with_both_so_monolayer = create_dict_of_elements_and_formation_energy_with_both_so(df_monolayer_all_data)\n",
    "\n",
    "\n",
    "#dict_of_element_and_lowest_formation_energy_with_both_so = create_dict_of_elements_and_formation_energy_with_both_so(df_filtered_finished_data)\n",
    "print(\"Count of structure with both afm_so and spin_so : \")\n",
    "print(\"Bilayer :\")\n",
    "print(len(dict_of_element_and_lowest_formation_energy_with_both_so_bilayer))\n",
    "\n",
    "print(\"Monolayer : \")\n",
    "print(len(dict_of_element_and_lowest_formation_energy_with_both_so_monolayer))\n"
   ]
  },
  {
   "cell_type": "code",
   "execution_count": 6,
   "metadata": {},
   "outputs": [
    {
     "name": "stdout",
     "output_type": "stream",
     "text": [
      "structure present in both : 20\n",
      "Structures present in both : \n",
      "['Mo2Ir2Br12', 'Ti2Ni2Br12', 'Ti2Ru2Cl12', 'Ti2Ni2Cl12', 'Ir2Pd2Cl12', 'Ir4Br12', 'Ti2Cd2Cl12', 'Cr2Ir2Br12', 'Fe2Ir2Cl12', 'Ti2Cd2Br12', 'Ir4Cl12', 'Mo2Ir2Cl12', 'Ti2Zn2Br12', 'Zn2Ir2Cl12', 'Ti4Cl12', 'Ir2Au2Cl12', 'Zr2Ir2Cl12', 'Fe2Ir2Br12', 'Cd2Ir2Cl12', 'Ir2Ru2I12']\n",
      "Structures present only in bilayer : \n",
      "['Cd2Ir2Br12', 'Ti2Pd2Cl12', 'Cd2Ir2I12', 'Ti2Zn2Cl12', 'Ti4Br12', 'Cr2Ir2Cl12']\n"
     ]
    }
   ],
   "source": [
    "present_in_both = 0\n",
    "present_in_both_list = []\n",
    "present_in_only_bilayer_list = []\n",
    "\n",
    "for key in dict_of_element_and_lowest_formation_energy_with_both_so_bilayer:\n",
    "    if key in dict_of_element_and_lowest_formation_energy_with_both_so_monolayer:\n",
    "        present_in_both_list.append(key)\n",
    "        present_in_both = present_in_both + 1  \n",
    "    else:\n",
    "        present_in_only_bilayer_list.append(key)\n",
    "print(\"structure present in both : \" + str(present_in_both))\n",
    "print(\"Structures present in both : \")\n",
    "print(present_in_both_list)\n",
    "print(\"Structures present only in bilayer : \")\n",
    "print(present_in_only_bilayer_list)"
   ]
  },
  {
   "cell_type": "code",
   "execution_count": 7,
   "metadata": {},
   "outputs": [],
   "source": [
    "colNames = [\"name\", \"Formation Energy\", \"has Initial\", \"has fm_so\", \"has afm_so\", \"magmom_total\"]\n",
    "\n",
    "bilayer_lowest_formation_energy_temp = pd.DataFrame.from_dict(dict_of_element_and_lowest_formation_energy_with_both_so_bilayer, orient='index',columns=colNames)\n",
    "bilayer_lowest_formation_energy = bilayer_lowest_formation_energy_temp[[\"name\", \"Formation Energy\",\"magmom_total\"]].copy()\n",
    "bilayer_lowest_formation_energy.to_csv('BiLayer_Lowest_Frmtn_Energy.csv')\n",
    "\n",
    "\n",
    "monolayer_lowest_formation_energy_temp = pd.DataFrame.from_dict(dict_of_element_and_lowest_formation_energy_with_both_so_monolayer, orient='index',columns=colNames)\n",
    "monolayer_lowest_formation_energy = monolayer_lowest_formation_energy_temp[[\"name\", \"Formation Energy\",\"magmom_total\"]].copy()\n",
    "monolayer_lowest_formation_energy.to_csv('MonoLayer_Lowest_Frmtn_Energy.csv')\n"
   ]
  },
  {
   "cell_type": "code",
   "execution_count": 9,
   "metadata": {},
   "outputs": [],
   "source": [
    "df_bilayer = pd.read_csv(\"BiLayer_Lowest_Frmtn_Energy.csv\") \n",
    "df_bilayer.columns = ['B_Cmpstn','B_name','B_FrmtnEnrgy', \"B_magmom_total\"]\n",
    "\n",
    "df_Monolayer = pd.read_csv(\"MonoLayer_Lowest_Frmtn_Energy.csv\") \n",
    "df_Monolayer.columns = ['M_Cmpstn','M_name','M_FrmtnEnrgy',\"M_magmom_total\"]"
   ]
  },
  {
   "cell_type": "code",
   "execution_count": 48,
   "metadata": {},
   "outputs": [
    {
     "name": "stderr",
     "output_type": "stream",
     "text": [
      "<ipython-input-48-de03deb6e80f>:34: RuntimeWarning: invalid value encountered in true_divide\n",
      "  ratio = np.divide(B_magmom_total, M_magmom_total)\n"
     ]
    },
    {
     "name": "stdout",
     "output_type": "stream",
     "text": [
      "Total Bilayer count : \n",
      "20\n",
      "Similar Magmom for both layers count : \n",
      "10\n",
      "['Ti2Ru2Cl12', 'Ir4Br12', 'Fe2Ir2Cl12', 'Ti2Cd2Br12', 'Mo2Ir2Cl12', 'Ti4Cl12', 'Zr2Ir2Cl12', 'Fe2Ir2Br12', 'Cd2Ir2Cl12', 'Ir2Ru2I12']\n",
      "[]\n",
      "afm_so for both layers  : \n",
      "['Ti2Ru2Cl12', 'Ir4Br12', 'Fe2Ir2Cl12', 'Mo2Ir2Cl12', 'Zr2Ir2Cl12', 'Fe2Ir2Br12', 'Cd2Ir2Cl12']\n",
      "spin_so for both layers  : \n",
      "['Ti2Cd2Br12', 'Ti4Cl12', 'Ir2Ru2I12']\n",
      "Compounds whose Bilayer is afm_so : \n",
      "7\n",
      "['Mo2Ir2Br12', 'Ti2Ni2Br12', 'Ti2Ni2Cl12', 'Ir2Pd2Cl12', 'Ti2Cd2Cl12', 'Ir4Cl12', 'Ir2Au2Cl12']\n",
      "Compounds whose Bilayer is spin_so : \n",
      "3\n",
      "['Cr2Ir2Br12', 'Ti2Zn2Br12', 'Zn2Ir2Cl12']\n"
     ]
    }
   ],
   "source": [
    "bilayer_rownum = len(df_bilayer)\n",
    "monolayer_rownum = len(df_Monolayer)\n",
    "\n",
    "dict_total = {}\n",
    "\n",
    "\n",
    "Bilayer_only = []\n",
    "sample_count = 0\n",
    "similar_for_both_layer = 0\n",
    "similar_for_both_layer_list = []\n",
    "similar_for_both_layer_list_magmom = []\n",
    "similar_spin_so = []\n",
    "similar_afm_so = []\n",
    "bilayer_afm_so = []\n",
    "bilayer_spin_so = []\n",
    "\n",
    "\n",
    "for i in range(bilayer_rownum) :\n",
    "    B_Cmpstn = df_bilayer.iloc[i]['B_Cmpstn']\n",
    "    B_FrmtnEnrgy = df_bilayer.iloc[i]['B_FrmtnEnrgy']\n",
    "    B_name = df_bilayer.iloc[i]['B_name']\n",
    "    B_magmom_total = df_bilayer.iloc[i]['B_magmom_total']\n",
    "   \n",
    "    for j in range(monolayer_rownum) :\n",
    "        M_Cmpstn = df_Monolayer.iloc[j]['M_Cmpstn']\n",
    "        if(M_Cmpstn == B_Cmpstn):\n",
    "            # data present for both Bilayer and Monolayer\n",
    "            sample_count = sample_count + 1\n",
    "\n",
    "            M_FrmtnEnrgy = df_Monolayer.iloc[j]['M_FrmtnEnrgy']\n",
    "            M_name = df_Monolayer.iloc[j]['M_name']\n",
    "            M_magmom_total = df_Monolayer.iloc[j]['M_magmom_total']\n",
    "            \n",
    "            ratio = np.divide(B_magmom_total, M_magmom_total)\n",
    "            \n",
    "                \n",
    "            list_type = []\n",
    "            same_for_both_layers = \"No | \"+B_name\n",
    "            lowest_energy_order = \"\"\n",
    "            if(M_name == B_name):\n",
    "                same_for_both_layers = \"yes | \"+B_name\n",
    "            \n",
    "            if(M_FrmtnEnrgy<B_FrmtnEnrgy):\n",
    "                lowest_energy_order =  \" Monolayer | \"+M_name\n",
    "            else:\n",
    "                lowest_energy_order = \" Bilayer | \"+B_name\n",
    "\n",
    "            list_type = [B_Cmpstn, B_name, B_FrmtnEnrgy, B_magmom_total, M_Cmpstn, M_name, M_FrmtnEnrgy, M_magmom_total, ratio,same_for_both_layers,lowest_energy_order]\n",
    "            dict_total[i] = list_type\n",
    "                \n",
    "\n",
    "            if(M_name == B_name):\n",
    "                # same afm_so /spin_so for lowest formation energy setting\n",
    "                similar_for_both_layer = similar_for_both_layer + 1\n",
    "                similar_for_both_layer_list.append(M_Cmpstn)\n",
    "             \n",
    "                if(\"spin_so\" == B_name):\n",
    "                    similar_spin_so.append(B_Cmpstn)\n",
    "\n",
    "                elif (\"afm_so\" == B_name):\n",
    "                    similar_afm_so.append(B_Cmpstn)\n",
    "\n",
    "            else:\n",
    "                if(\"spin_so\" == B_name):\n",
    "                    bilayer_spin_so.append(B_Cmpstn)\n",
    "                elif (\"afm_so\" == B_name):\n",
    "                    bilayer_afm_so.append(B_Cmpstn)\n",
    "                else:\n",
    "                    print(B_FrmtnEnrgy)\n",
    "                    \n",
    "        \n",
    "\n",
    "        \n",
    "print(\"Total Bilayer count : \")\n",
    "print(sample_count)\n",
    "print(\"Similar Magmom for both layers count : \")\n",
    "print(similar_for_both_layer)\n",
    "print(similar_for_both_layer_list)\n",
    "print(similar_for_both_layer_list_magmom)\n",
    "print(\"afm_so for both layers  : \")\n",
    "print(similar_afm_so)\n",
    "print(\"spin_so for both layers  : \")\n",
    "print(similar_spin_so)\n",
    "print(\"Compounds whose Bilayer is afm_so : \") \n",
    "print(len(bilayer_afm_so))\n",
    "print(bilayer_afm_so)\n",
    "print(\"Compounds whose Bilayer is spin_so : \")         \n",
    "print(len(bilayer_spin_so))\n",
    "print(bilayer_spin_so)\n",
    "\n",
    "\n",
    "\n",
    "# Bilayer has always more negative formation energy if same afm_so/ spin_so for both layers\n",
    "    "
   ]
  },
  {
   "cell_type": "code",
   "execution_count": 70,
   "metadata": {},
   "outputs": [],
   "source": [
    "colNames = ['B_Cmpstn','B_name','B_FrmtnEnrgy', \"B_magmom_total\", 'M_Cmpstn','M_name','M_FrmtnEnrgy', \"M_magmom_total\",'Ratio','Same_order | Bilayer','lowest energy']\n",
    "\n",
    "df_total_temp = pd.DataFrame.from_dict(dict_total)\n",
    "df_total = df_total_temp.T\n",
    "df_total.columns = colNames\n",
    "size = len(dict_total)"
   ]
  },
  {
   "cell_type": "code",
   "execution_count": 71,
   "metadata": {},
   "outputs": [
    {
     "data": {
      "text/html": [
       "<div>\n",
       "<style scoped>\n",
       "    .dataframe tbody tr th:only-of-type {\n",
       "        vertical-align: middle;\n",
       "    }\n",
       "\n",
       "    .dataframe tbody tr th {\n",
       "        vertical-align: top;\n",
       "    }\n",
       "\n",
       "    .dataframe thead th {\n",
       "        text-align: right;\n",
       "    }\n",
       "</style>\n",
       "<table border=\"1\" class=\"dataframe\">\n",
       "  <thead>\n",
       "    <tr style=\"text-align: right;\">\n",
       "      <th></th>\n",
       "      <th>B_Cmpstn</th>\n",
       "      <th>B_name</th>\n",
       "      <th>B_FrmtnEnrgy</th>\n",
       "      <th>B_magmom_total</th>\n",
       "      <th>M_Cmpstn</th>\n",
       "      <th>M_name</th>\n",
       "      <th>M_FrmtnEnrgy</th>\n",
       "      <th>M_magmom_total</th>\n",
       "      <th>Ratio</th>\n",
       "      <th>Same_order | Bilayer</th>\n",
       "      <th>lowest energy</th>\n",
       "    </tr>\n",
       "  </thead>\n",
       "  <tbody>\n",
       "    <tr>\n",
       "      <th>0</th>\n",
       "      <td>Mo2Ir2Br12</td>\n",
       "      <td>afm_so</td>\n",
       "      <td>-75.117109</td>\n",
       "      <td>10.308015</td>\n",
       "      <td>Mo2Ir2Br12</td>\n",
       "      <td>spin_so</td>\n",
       "      <td>-8.030225</td>\n",
       "      <td>5.152278</td>\n",
       "      <td>2.000671</td>\n",
       "      <td>No | afm_so</td>\n",
       "      <td>Bilayer | afm_so</td>\n",
       "    </tr>\n",
       "    <tr>\n",
       "      <th>1</th>\n",
       "      <td>Ti2Ni2Br12</td>\n",
       "      <td>afm_so</td>\n",
       "      <td>-73.936614</td>\n",
       "      <td>7.344052</td>\n",
       "      <td>Ti2Ni2Br12</td>\n",
       "      <td>spin_so</td>\n",
       "      <td>-13.446272</td>\n",
       "      <td>3.670004</td>\n",
       "      <td>2.001102</td>\n",
       "      <td>No | afm_so</td>\n",
       "      <td>Bilayer | afm_so</td>\n",
       "    </tr>\n",
       "    <tr>\n",
       "      <th>2</th>\n",
       "      <td>Ti2Ru2Cl12</td>\n",
       "      <td>afm_so</td>\n",
       "      <td>-92.624524</td>\n",
       "      <td>0.0</td>\n",
       "      <td>Ti2Ru2Cl12</td>\n",
       "      <td>afm_so</td>\n",
       "      <td>-18.036335</td>\n",
       "      <td>0.0</td>\n",
       "      <td>NaN</td>\n",
       "      <td>yes | afm_so</td>\n",
       "      <td>Bilayer | afm_so</td>\n",
       "    </tr>\n",
       "    <tr>\n",
       "      <th>3</th>\n",
       "      <td>Ti2Ni2Cl12</td>\n",
       "      <td>afm_so</td>\n",
       "      <td>-85.612984</td>\n",
       "      <td>0.020125</td>\n",
       "      <td>Ti2Ni2Cl12</td>\n",
       "      <td>spin_so</td>\n",
       "      <td>-18.021649</td>\n",
       "      <td>3.738009</td>\n",
       "      <td>0.005384</td>\n",
       "      <td>No | afm_so</td>\n",
       "      <td>Bilayer | afm_so</td>\n",
       "    </tr>\n",
       "    <tr>\n",
       "      <th>4</th>\n",
       "      <td>Ir2Pd2Cl12</td>\n",
       "      <td>afm_so</td>\n",
       "      <td>-66.713218</td>\n",
       "      <td>0.045782</td>\n",
       "      <td>Ir2Pd2Cl12</td>\n",
       "      <td>spin_so</td>\n",
       "      <td>-8.226056</td>\n",
       "      <td>0.057723</td>\n",
       "      <td>0.793128</td>\n",
       "      <td>No | afm_so</td>\n",
       "      <td>Bilayer | afm_so</td>\n",
       "    </tr>\n",
       "    <tr>\n",
       "      <th>5</th>\n",
       "      <td>Ir4Br12</td>\n",
       "      <td>afm_so</td>\n",
       "      <td>-68.455337</td>\n",
       "      <td>0.0</td>\n",
       "      <td>Ir4Br12</td>\n",
       "      <td>afm_so</td>\n",
       "      <td>-6.704819</td>\n",
       "      <td>0.0</td>\n",
       "      <td>NaN</td>\n",
       "      <td>yes | afm_so</td>\n",
       "      <td>Bilayer | afm_so</td>\n",
       "    </tr>\n",
       "    <tr>\n",
       "      <th>6</th>\n",
       "      <td>Ti2Cd2Cl12</td>\n",
       "      <td>afm_so</td>\n",
       "      <td>-82.196482</td>\n",
       "      <td>0.0</td>\n",
       "      <td>Ti2Cd2Cl12</td>\n",
       "      <td>spin_so</td>\n",
       "      <td>-21.161629</td>\n",
       "      <td>0.0</td>\n",
       "      <td>NaN</td>\n",
       "      <td>No | afm_so</td>\n",
       "      <td>Bilayer | afm_so</td>\n",
       "    </tr>\n",
       "    <tr>\n",
       "      <th>7</th>\n",
       "      <td>Cr2Ir2Br12</td>\n",
       "      <td>spin_so</td>\n",
       "      <td>-75.836199</td>\n",
       "      <td>11.256</td>\n",
       "      <td>Cr2Ir2Br12</td>\n",
       "      <td>afm_so</td>\n",
       "      <td>-9.584104</td>\n",
       "      <td>5.630016</td>\n",
       "      <td>1.999284</td>\n",
       "      <td>No | spin_so</td>\n",
       "      <td>Bilayer | spin_so</td>\n",
       "    </tr>\n",
       "    <tr>\n",
       "      <th>8</th>\n",
       "      <td>Fe2Ir2Cl12</td>\n",
       "      <td>afm_so</td>\n",
       "      <td>-77.494485</td>\n",
       "      <td>18.523002</td>\n",
       "      <td>Fe2Ir2Cl12</td>\n",
       "      <td>afm_so</td>\n",
       "      <td>-10.325077</td>\n",
       "      <td>8.893396</td>\n",
       "      <td>2.082782</td>\n",
       "      <td>yes | afm_so</td>\n",
       "      <td>Bilayer | afm_so</td>\n",
       "    </tr>\n",
       "    <tr>\n",
       "      <th>9</th>\n",
       "      <td>Ti2Cd2Br12</td>\n",
       "      <td>spin_so</td>\n",
       "      <td>-70.63855</td>\n",
       "      <td>0.0</td>\n",
       "      <td>Ti2Cd2Br12</td>\n",
       "      <td>spin_so</td>\n",
       "      <td>-16.636731</td>\n",
       "      <td>0.0</td>\n",
       "      <td>NaN</td>\n",
       "      <td>yes | spin_so</td>\n",
       "      <td>Bilayer | spin_so</td>\n",
       "    </tr>\n",
       "    <tr>\n",
       "      <th>10</th>\n",
       "      <td>Ir4Cl12</td>\n",
       "      <td>afm_so</td>\n",
       "      <td>-76.696069</td>\n",
       "      <td>0.0</td>\n",
       "      <td>Ir4Cl12</td>\n",
       "      <td>spin_so</td>\n",
       "      <td>-9.561653</td>\n",
       "      <td>0.0</td>\n",
       "      <td>NaN</td>\n",
       "      <td>No | afm_so</td>\n",
       "      <td>Bilayer | afm_so</td>\n",
       "    </tr>\n",
       "    <tr>\n",
       "      <th>11</th>\n",
       "      <td>Mo2Ir2Cl12</td>\n",
       "      <td>afm_so</td>\n",
       "      <td>-85.071592</td>\n",
       "      <td>0.002449</td>\n",
       "      <td>Mo2Ir2Cl12</td>\n",
       "      <td>afm_so</td>\n",
       "      <td>-11.743719</td>\n",
       "      <td>5.168319</td>\n",
       "      <td>0.000474</td>\n",
       "      <td>yes | afm_so</td>\n",
       "      <td>Bilayer | afm_so</td>\n",
       "    </tr>\n",
       "    <tr>\n",
       "      <th>12</th>\n",
       "      <td>Ti2Zn2Br12</td>\n",
       "      <td>spin_so</td>\n",
       "      <td>-70.859264</td>\n",
       "      <td>0.0</td>\n",
       "      <td>Ti2Zn2Br12</td>\n",
       "      <td>afm_so</td>\n",
       "      <td>-16.429801</td>\n",
       "      <td>0.0</td>\n",
       "      <td>NaN</td>\n",
       "      <td>No | spin_so</td>\n",
       "      <td>Bilayer | spin_so</td>\n",
       "    </tr>\n",
       "    <tr>\n",
       "      <th>15</th>\n",
       "      <td>Zn2Ir2Cl12</td>\n",
       "      <td>spin_so</td>\n",
       "      <td>-65.893462</td>\n",
       "      <td>0.003</td>\n",
       "      <td>Zn2Ir2Cl12</td>\n",
       "      <td>afm_so</td>\n",
       "      <td>-11.734142</td>\n",
       "      <td>0.850533</td>\n",
       "      <td>0.003527</td>\n",
       "      <td>No | spin_so</td>\n",
       "      <td>Bilayer | spin_so</td>\n",
       "    </tr>\n",
       "    <tr>\n",
       "      <th>18</th>\n",
       "      <td>Ti4Cl12</td>\n",
       "      <td>spin_so</td>\n",
       "      <td>-104.279224</td>\n",
       "      <td>6.530274</td>\n",
       "      <td>Ti4Cl12</td>\n",
       "      <td>spin_so</td>\n",
       "      <td>-25.23862</td>\n",
       "      <td>3.26601</td>\n",
       "      <td>1.999466</td>\n",
       "      <td>yes | spin_so</td>\n",
       "      <td>Bilayer | spin_so</td>\n",
       "    </tr>\n",
       "    <tr>\n",
       "      <th>20</th>\n",
       "      <td>Ir2Au2Cl12</td>\n",
       "      <td>afm_so</td>\n",
       "      <td>-59.769449</td>\n",
       "      <td>0.175049</td>\n",
       "      <td>Ir2Au2Cl12</td>\n",
       "      <td>spin_so</td>\n",
       "      <td>-6.651046</td>\n",
       "      <td>3.2978</td>\n",
       "      <td>0.05308</td>\n",
       "      <td>No | afm_so</td>\n",
       "      <td>Bilayer | afm_so</td>\n",
       "    </tr>\n",
       "    <tr>\n",
       "      <th>21</th>\n",
       "      <td>Zr2Ir2Cl12</td>\n",
       "      <td>afm_so</td>\n",
       "      <td>-94.756859</td>\n",
       "      <td>0.478692</td>\n",
       "      <td>Zr2Ir2Cl12</td>\n",
       "      <td>afm_so</td>\n",
       "      <td>-18.911176</td>\n",
       "      <td>1.725091</td>\n",
       "      <td>0.277488</td>\n",
       "      <td>yes | afm_so</td>\n",
       "      <td>Bilayer | afm_so</td>\n",
       "    </tr>\n",
       "    <tr>\n",
       "      <th>23</th>\n",
       "      <td>Fe2Ir2Br12</td>\n",
       "      <td>afm_so</td>\n",
       "      <td>-68.092254</td>\n",
       "      <td>18.294017</td>\n",
       "      <td>Fe2Ir2Br12</td>\n",
       "      <td>afm_so</td>\n",
       "      <td>-6.891059</td>\n",
       "      <td>9.146004</td>\n",
       "      <td>2.00022</td>\n",
       "      <td>yes | afm_so</td>\n",
       "      <td>Bilayer | afm_so</td>\n",
       "    </tr>\n",
       "    <tr>\n",
       "      <th>24</th>\n",
       "      <td>Cd2Ir2Cl12</td>\n",
       "      <td>afm_so</td>\n",
       "      <td>-65.185764</td>\n",
       "      <td>0.008124</td>\n",
       "      <td>Cd2Ir2Cl12</td>\n",
       "      <td>afm_so</td>\n",
       "      <td>-11.715335</td>\n",
       "      <td>0.700396</td>\n",
       "      <td>0.011599</td>\n",
       "      <td>yes | afm_so</td>\n",
       "      <td>Bilayer | afm_so</td>\n",
       "    </tr>\n",
       "    <tr>\n",
       "      <th>25</th>\n",
       "      <td>Ir2Ru2I12</td>\n",
       "      <td>spin_so</td>\n",
       "      <td>-63.009921</td>\n",
       "      <td>2.834412</td>\n",
       "      <td>Ir2Ru2I12</td>\n",
       "      <td>spin_so</td>\n",
       "      <td>-4.221847</td>\n",
       "      <td>1.435547</td>\n",
       "      <td>1.974447</td>\n",
       "      <td>yes | spin_so</td>\n",
       "      <td>Bilayer | spin_so</td>\n",
       "    </tr>\n",
       "  </tbody>\n",
       "</table>\n",
       "</div>"
      ],
      "text/plain": [
       "      B_Cmpstn   B_name B_FrmtnEnrgy B_magmom_total    M_Cmpstn   M_name  \\\n",
       "0   Mo2Ir2Br12   afm_so   -75.117109      10.308015  Mo2Ir2Br12  spin_so   \n",
       "1   Ti2Ni2Br12   afm_so   -73.936614       7.344052  Ti2Ni2Br12  spin_so   \n",
       "2   Ti2Ru2Cl12   afm_so   -92.624524            0.0  Ti2Ru2Cl12   afm_so   \n",
       "3   Ti2Ni2Cl12   afm_so   -85.612984       0.020125  Ti2Ni2Cl12  spin_so   \n",
       "4   Ir2Pd2Cl12   afm_so   -66.713218       0.045782  Ir2Pd2Cl12  spin_so   \n",
       "5      Ir4Br12   afm_so   -68.455337            0.0     Ir4Br12   afm_so   \n",
       "6   Ti2Cd2Cl12   afm_so   -82.196482            0.0  Ti2Cd2Cl12  spin_so   \n",
       "7   Cr2Ir2Br12  spin_so   -75.836199         11.256  Cr2Ir2Br12   afm_so   \n",
       "8   Fe2Ir2Cl12   afm_so   -77.494485      18.523002  Fe2Ir2Cl12   afm_so   \n",
       "9   Ti2Cd2Br12  spin_so    -70.63855            0.0  Ti2Cd2Br12  spin_so   \n",
       "10     Ir4Cl12   afm_so   -76.696069            0.0     Ir4Cl12  spin_so   \n",
       "11  Mo2Ir2Cl12   afm_so   -85.071592       0.002449  Mo2Ir2Cl12   afm_so   \n",
       "12  Ti2Zn2Br12  spin_so   -70.859264            0.0  Ti2Zn2Br12   afm_so   \n",
       "15  Zn2Ir2Cl12  spin_so   -65.893462          0.003  Zn2Ir2Cl12   afm_so   \n",
       "18     Ti4Cl12  spin_so  -104.279224       6.530274     Ti4Cl12  spin_so   \n",
       "20  Ir2Au2Cl12   afm_so   -59.769449       0.175049  Ir2Au2Cl12  spin_so   \n",
       "21  Zr2Ir2Cl12   afm_so   -94.756859       0.478692  Zr2Ir2Cl12   afm_so   \n",
       "23  Fe2Ir2Br12   afm_so   -68.092254      18.294017  Fe2Ir2Br12   afm_so   \n",
       "24  Cd2Ir2Cl12   afm_so   -65.185764       0.008124  Cd2Ir2Cl12   afm_so   \n",
       "25   Ir2Ru2I12  spin_so   -63.009921       2.834412   Ir2Ru2I12  spin_so   \n",
       "\n",
       "   M_FrmtnEnrgy M_magmom_total     Ratio Same_order | Bilayer  \\\n",
       "0     -8.030225       5.152278  2.000671          No | afm_so   \n",
       "1    -13.446272       3.670004  2.001102          No | afm_so   \n",
       "2    -18.036335            0.0       NaN         yes | afm_so   \n",
       "3    -18.021649       3.738009  0.005384          No | afm_so   \n",
       "4     -8.226056       0.057723  0.793128          No | afm_so   \n",
       "5     -6.704819            0.0       NaN         yes | afm_so   \n",
       "6    -21.161629            0.0       NaN          No | afm_so   \n",
       "7     -9.584104       5.630016  1.999284         No | spin_so   \n",
       "8    -10.325077       8.893396  2.082782         yes | afm_so   \n",
       "9    -16.636731            0.0       NaN        yes | spin_so   \n",
       "10    -9.561653            0.0       NaN          No | afm_so   \n",
       "11   -11.743719       5.168319  0.000474         yes | afm_so   \n",
       "12   -16.429801            0.0       NaN         No | spin_so   \n",
       "15   -11.734142       0.850533  0.003527         No | spin_so   \n",
       "18    -25.23862        3.26601  1.999466        yes | spin_so   \n",
       "20    -6.651046         3.2978   0.05308          No | afm_so   \n",
       "21   -18.911176       1.725091  0.277488         yes | afm_so   \n",
       "23    -6.891059       9.146004   2.00022         yes | afm_so   \n",
       "24   -11.715335       0.700396  0.011599         yes | afm_so   \n",
       "25    -4.221847       1.435547  1.974447        yes | spin_so   \n",
       "\n",
       "         lowest energy  \n",
       "0     Bilayer | afm_so  \n",
       "1     Bilayer | afm_so  \n",
       "2     Bilayer | afm_so  \n",
       "3     Bilayer | afm_so  \n",
       "4     Bilayer | afm_so  \n",
       "5     Bilayer | afm_so  \n",
       "6     Bilayer | afm_so  \n",
       "7    Bilayer | spin_so  \n",
       "8     Bilayer | afm_so  \n",
       "9    Bilayer | spin_so  \n",
       "10    Bilayer | afm_so  \n",
       "11    Bilayer | afm_so  \n",
       "12   Bilayer | spin_so  \n",
       "15   Bilayer | spin_so  \n",
       "18   Bilayer | spin_so  \n",
       "20    Bilayer | afm_so  \n",
       "21    Bilayer | afm_so  \n",
       "23    Bilayer | afm_so  \n",
       "24    Bilayer | afm_so  \n",
       "25   Bilayer | spin_so  "
      ]
     },
     "execution_count": 71,
     "metadata": {},
     "output_type": "execute_result"
    }
   ],
   "source": [
    "df_total"
   ]
  },
  {
   "cell_type": "code",
   "execution_count": 52,
   "metadata": {},
   "outputs": [],
   "source": [
    "df_total.to_csv('Bilayer_Monolayer_Analysis.csv')"
   ]
  },
  {
   "cell_type": "code",
   "execution_count": 55,
   "metadata": {},
   "outputs": [
    {
     "data": {
      "text/plain": [
       "Index(['B_Cmpstn', 'B_name', 'B_FrmtnEnrgy', 'B_magmom_total', 'M_Cmpstn',\n",
       "       'M_name', 'M_FrmtnEnrgy', 'M_magmom_total', 'Ratio',\n",
       "       'Same_order | Bilayer', 'lowest energy'],\n",
       "      dtype='object')"
      ]
     },
     "execution_count": 55,
     "metadata": {},
     "output_type": "execute_result"
    }
   ],
   "source": [
    "df_total.columns"
   ]
  },
  {
   "cell_type": "code",
   "execution_count": 53,
   "metadata": {},
   "outputs": [
    {
     "data": {
      "text/plain": [
       "Text(0, 0.5, 'Frequency')"
      ]
     },
     "execution_count": 53,
     "metadata": {},
     "output_type": "execute_result"
    },
    {
     "data": {
      "image/png": "[encoded data removed]",
      "text/plain": [
       "<Figure size 432x288 with 1 Axes>"
      ]
     },
     "metadata": {
      "needs_background": "light"
     },
     "output_type": "display_data"
    }
   ],
   "source": [
    "plt.hist(df_total['M_magmom_total'],alpha=0.5)\n",
    "plt.title('Histogram of M_magmom_total')\n",
    "plt.xlabel('M_magmom_total')\n",
    "plt.ylabel('Frequency')"
   ]
  },
  {
   "cell_type": "code",
   "execution_count": 56,
   "metadata": {},
   "outputs": [
    {
     "data": {
      "image/png": "[encoded data removed]",
      "text/plain": [
       "<Figure size 432x288 with 1 Axes>"
      ]
     },
     "metadata": {
      "needs_background": "light"
     },
     "output_type": "display_data"
    }
   ],
   "source": [
    "fig, ax2 = plt.subplots()\n",
    "\n",
    "ax2.scatter(df_total['Ratio'], df_total['Same_order | Bilayer'])\n",
    "\n",
    "plt.title('Range of ratio Vs Same_order')\n",
    "plt.xlabel('Ratio of B_magmom_total and M_magmom_total')\n",
    "plt.ylabel('Is Same_order')\n",
    "\n",
    "plt.show()"
   ]
  },
  {
   "cell_type": "code",
   "execution_count": 57,
   "metadata": {},
   "outputs": [
    {
     "data": {
      "image/png": "[encoded data removed]",
      "text/plain": [
       "<Figure size 432x288 with 1 Axes>"
      ]
     },
     "metadata": {
      "needs_background": "light"
     },
     "output_type": "display_data"
    }
   ],
   "source": [
    "fig, ax2 = plt.subplots()\n",
    "\n",
    "ax2.scatter(df_total['Ratio'], df_total['lowest energy'])\n",
    "\n",
    "plt.title('Range of ratio Vs Same_order')\n",
    "plt.xlabel('Ratio of B_magmom_total and M_magmom_total')\n",
    "plt.ylabel('lowest energy')\n",
    "\n",
    "plt.show()"
   ]
  },
  {
   "cell_type": "code",
   "execution_count": 73,
   "metadata": {},
   "outputs": [
    {
     "data": {
      "image/png": "[encoded data removed]",
      "text/plain": [
       "<Figure size 432x288 with 1 Axes>"
      ]
     },
     "metadata": {
      "needs_background": "light"
     },
     "output_type": "display_data"
    }
   ],
   "source": [
    "fig, ax2 = plt.subplots()\n",
    "x = df_total['B_FrmtnEnrgy']\n",
    "y = df_total['Same_order | Bilayer']\n",
    "z = df_total['B_Cmpstn']\n",
    "\n",
    "ax2.scatter(df_total['B_FrmtnEnrgy'], df_total['Same_order | Bilayer'])\n",
    "\n",
    "plt.title('Range of B_FrmtnEnrgy Vs Same_order')\n",
    "plt.xlabel('B_FrmtnEnrgy')\n",
    "plt.ylabel('Is Same order ?')\n",
    "#    ax2.annotate(z[i],x[i],y[i])\n",
    "plt.show()"
   ]
  },
  {
   "cell_type": "code",
   "execution_count": null,
   "metadata": {},
   "outputs": [],
   "source": []
  },
  {
   "cell_type": "code",
   "execution_count": 60,
   "metadata": {},
   "outputs": [
    {
     "data": {
      "image/png": "[encoded data removed]",
      "text/plain": [
       "<Figure size 432x288 with 1 Axes>"
      ]
     },
     "metadata": {
      "needs_background": "light"
     },
     "output_type": "display_data"
    }
   ],
   "source": [
    "import matplotlib.pyplot as plt\n",
    "\n",
    "plt.scatter(df_total['B_FrmtnEnrgy'],df_total['Same_order | Bilayer'], c='b', marker='x', label='Bilayer')\n",
    "plt.scatter(df_total['M_FrmtnEnrgy'], df_total['Same_order | Bilayer'], c='r', marker='s', label='Monolayer')\n",
    "plt.legend(loc='best')\n",
    "plt.title('Plot of Formation Energies wrt order')\n",
    "plt.xlabel('Formation Energies')\n",
    "plt.ylabel(\"Order\")\n",
    "plt.show()"
   ]
  },
  {
   "cell_type": "code",
   "execution_count": 61,
   "metadata": {},
   "outputs": [
    {
     "data": {
      "image/png": "[encoded data removed]",
      "text/plain": [
       "<Figure size 432x288 with 1 Axes>"
      ]
     },
     "metadata": {
      "needs_background": "light"
     },
     "output_type": "display_data"
    }
   ],
   "source": [
    "import matplotlib.pyplot as plt\n",
    "\n",
    "plt.scatter(df_total['B_magmom_total'],df_total['Same_order | Bilayer'], c='b', marker='x', label='Bilayer')\n",
    "plt.scatter(df_total['M_magmom_total'], df_total['Same_order | Bilayer'], c='r', marker='s', label='Monolayer')\n",
    "plt.legend(loc='best')\n",
    "plt.title('Plot of magnetic moments wrt order')\n",
    "plt.xlabel('magnetic moments')\n",
    "plt.ylabel(\"Order\")\n",
    "plt.show()"
   ]
  },
  {
   "cell_type": "code",
   "execution_count": 65,
   "metadata": {},
   "outputs": [
    {
     "data": {
      "image/png": "[encoded data removed]",
      "text/plain": [
       "<Figure size 432x288 with 1 Axes>"
      ]
     },
     "metadata": {
      "needs_background": "light"
     },
     "output_type": "display_data"
    }
   ],
   "source": [
    "import matplotlib.pyplot as plt\n",
    "\n",
    "plt.scatter(df_total['B_magmom_total'],df_total['Same_order | Bilayer'], c='b', marker='x', label='Bilayer')\n",
    "plt.scatter(df_total['M_magmom_total'], df_total['Same_order | Bilayer'], c='r', marker='s', label='Monolayer')\n",
    "plt.scatter(df_total['Ratio'], df_total['Same_order | Bilayer'], c='y', marker='o', label='ratio')\n",
    "plt.legend(loc='best')\n",
    "plt.title('Plot of magnetic moments and ratio wrt order')\n",
    "plt.xlabel('magnetic moments & ratio')\n",
    "plt.ylabel(\"Order\")\n",
    "plt.show()"
   ]
  },
  {
   "cell_type": "code",
   "execution_count": null,
   "metadata": {},
   "outputs": [],
   "source": []
  }
 ],
 "metadata": {
  "kernelspec": {
   "display_name": "Python 3",
   "language": "python",
   "name": "python3"
  },
  "language_info": {
   "codemirror_mode": {
    "name": "ipython",
    "version": 3
   },
   "file_extension": ".py",
   "mimetype": "text/x-python",
   "name": "python",
   "nbconvert_exporter": "python",
   "pygments_lexer": "ipython3",
   "version": "3.8.3"
  }
 },
 "nbformat": 4,
 "nbformat_minor": 4
}
